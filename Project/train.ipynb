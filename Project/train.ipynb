{
  "cells": [
    {
      "cell_type": "code",
      "execution_count": 206,
      "metadata": {
        "id": "loqLueA6ZjsN"
      },
      "outputs": [],
      "source": [
        "import torch\n",
        "import torch.cuda\n",
        "import torchvision\n",
        "import torchvision.transforms as transforms\n",
        "import torch.nn as nn\n",
        "import torch.nn.functional as F\n",
        "import numpy as np\n",
        "import matplotlib.pyplot as plt\n",
        "import seaborn as sns\n",
        "import os\n",
        "import requests, tarfile\n",
        "from tqdm import tqdm\n",
        "\n",
        "seed = 42\n",
        "torch.manual_seed(seed)\n",
        "np.random.seed(seed)"
      ]
    },
    {
      "cell_type": "code",
      "execution_count": 207,
      "metadata": {
        "colab": {
          "base_uri": "https://localhost:8080/"
        },
        "id": "PaGoxjrxZjsS",
        "outputId": "018b6ecc-53b2-4b73-8a2c-e3259c9d561b"
      },
      "outputs": [
        {
          "output_type": "stream",
          "name": "stdout",
          "text": [
            "Using cuda\n"
          ]
        }
      ],
      "source": [
        "device = torch.device('cuda' if torch.cuda.is_available() else 'cpu')\n",
        "print(f\"Using {'cuda' if torch.cuda.is_available() else 'cpu'}\")"
      ]
    },
    {
      "cell_type": "code",
      "execution_count": 208,
      "metadata": {
        "colab": {
          "base_uri": "https://localhost:8080/"
        },
        "id": "FddWCNRzZjsU",
        "outputId": "ae39896f-10f8-4399-8374-d2fdba5fa110"
      },
      "outputs": [
        {
          "output_type": "stream",
          "name": "stdout",
          "text": [
            "UTKFace already downloaded.\n"
          ]
        }
      ],
      "source": [
        "dataPath = 'UTKFace'\n",
        "if (dataPath not in os.listdir()):\n",
        "    print(\"Downloading UTKFace...\")\n",
        "    url = \"https://drive.google.com/uc?export=download&id=0BxYys69jI14kYVM3aVhKS1VhRUk&confirm=t&uuid=f981ca1d-ba0f-40c9-a4a0-8eaa887f3b6d&at=ANzk5s7e36SgjT0FlqBbRiijefRg:1681897584880\"\n",
        "\n",
        "    response = requests.get(url, stream=True)\n",
        "    file = tarfile.open(fileobj=response.raw, mode=\"r|gz\")\n",
        "    file.extractall(path=\".\")\n",
        "    print(\"Download complete.\")\n",
        "else:\n",
        "    print(\"UTKFace already downloaded.\")"
      ]
    },
    {
      "cell_type": "code",
      "execution_count": 209,
      "metadata": {
        "id": "p808DasNdMtZ"
      },
      "outputs": [],
      "source": [
        "class MyDataset(torch.utils.data.Dataset):\n",
        "    def __init__(self, dataPath, transform=None):\n",
        "        self.dataPath = dataPath\n",
        "        self.transform = transform\n",
        "        self.imagePaths = [f for f in os.listdir(self.dataPath) if f.endswith('.jpg')]\n",
        "        \n",
        "    def __getitem__(self, index):\n",
        "        imagePath = self.imagePaths[index]\n",
        "        try:\n",
        "            imageTensor = torchvision.io.read_image(f'{self.dataPath}/{imagePath}').float()\n",
        "            fileName = imagePath.split('_')\n",
        "            label = torch.Tensor([int(fileName[0]), int(fileName[1]), int(fileName[2])])\n",
        "            if self.transform:\n",
        "                imageTensor = self.transform(imageTensor)\n",
        "            return imageTensor, label\n",
        "        except:\n",
        "            return self.__getitem__((index + 1) % len(self.imagePaths))\n",
        "        \n",
        "    def __len__(self):\n",
        "        return len(self.imagePaths)"
      ]
    },
    {
      "cell_type": "code",
      "execution_count": 210,
      "metadata": {
        "colab": {
          "base_uri": "https://localhost:8080/"
        },
        "id": "dFTvbBTeZjsX",
        "outputId": "40815d02-cf06-4563-c82f-7e160632f6d3"
      },
      "outputs": [
        {
          "output_type": "stream",
          "name": "stdout",
          "text": [
            "23708 2370 21338\n"
          ]
        }
      ],
      "source": [
        "# Load and normalizde the data\n",
        "transform = transforms.Compose(\n",
        "    [transforms.Resize(224, antialias=True),\n",
        "     transforms.Normalize([0.485, 0.456, 0.406], [0.229, 0.224, 0.225])])\n",
        "\n",
        "dataset = MyDataset(dataPath, transform=transform)\n",
        "\n",
        "batchSize = 100\n",
        "testSplit = 0.1 # use 10% of dataset as test\n",
        "validSplit = 0.2 / (1-testSplit) # use 20% of dataset as validation\n",
        "\n",
        "testSize = int(np.floor(len(dataset)*testSplit))\n",
        "trainValidSize = int(np.ceil(len(dataset)*(1-testSplit)))\n",
        "validSize = int(np.ceil(trainValidSize*validSplit))\n",
        "trainSize = int(np.floor(trainValidSize*(1-validSplit)))\n",
        "print(len(dataset), testSize, trainValidSize)\n",
        "\n",
        "trainValidSet, testSet = torch.utils.data.random_split(dataset, [trainValidSize, testSize])\n",
        "trainSet, validSet = torch.utils.data.random_split(trainValidSet, [trainSize, validSize])\n",
        "\n",
        "trainLoader = torch.utils.data.DataLoader(trainSet, batch_size=batchSize, shuffle=True)\n",
        "validLoader = torch.utils.data.DataLoader(validSet, batch_size=batchSize, shuffle=True)\n",
        "testLoader = torch.utils.data.DataLoader(testSet, batch_size=batchSize, shuffle=False)"
      ]
    },
    {
      "cell_type": "code",
      "execution_count": 211,
      "metadata": {
        "id": "rOCaZIQkZjsY"
      },
      "outputs": [],
      "source": [
        "class ResNetModel(nn.Module):\n",
        "    def __init__(self):\n",
        "        super(ResNetModel,self).__init__()\n",
        "        self.resnet = torchvision.models.resnet18(pretrained=True)\n",
        "        for param in self.resnet.parameters():\n",
        "            param.requires_grad=False\n",
        "        self.resnet.fc = nn.Linear(512, 512)\n",
        "        self.ageHidden = nn.Linear(512,512)\n",
        "        self.genderHidden = nn.Linear(512,512)\n",
        "        self.ethnicityHidden = nn.Linear(512,512)\n",
        "        self.ageFc = nn.Linear(512,1)\n",
        "        self.genderFc = nn.Linear(512,2)\n",
        "        self.ethnicityFc = nn.Linear(512,5)\n",
        "    \n",
        "    def forward(self, x):\n",
        "        resOut = F.relu(self.resnet.forward(x))\n",
        "        ageX = F.relu(self.ageHidden(resOut))\n",
        "        ageOut = self.ageFc(ageX)\n",
        "        genderX = F.relu(self.genderHidden(resOut))\n",
        "        genderOut = F.sigmoid(self.genderFc(genderX))\n",
        "        ethnicityX = F.relu(self.ethnicityHidden(resOut))\n",
        "        ethnicityOut = F.softmax(self.ethnicityFc(ethnicityX), dim=1)\n",
        "        return ageOut, genderOut, ethnicityOut\n",
        "\n",
        "    def unfreeze(self):\n",
        "        for param in self.resnet.parameters():\n",
        "            param.requires_grad=True"
      ]
    },
    {
      "cell_type": "code",
      "execution_count": 212,
      "metadata": {
        "id": "EyEWr79LZjsY"
      },
      "outputs": [],
      "source": [
        "# ResNetModel()"
      ]
    },
    {
      "cell_type": "code",
      "execution_count": 213,
      "metadata": {
        "id": "PPTkQJzyZjsY"
      },
      "outputs": [],
      "source": [
        "def lossAge(predictAge, targetAge):\n",
        "    loss = torch.sqrt(F.mse_loss(predictAge, targetAge))\n",
        "    return loss\n",
        "\n",
        "def lossGender(predictGender, targetGender):\n",
        "    loss = F.binary_cross_entropy(predictGender, targetGender)\n",
        "    return loss\n",
        "\n",
        "def lossEthnicity(predictEthnicity, targetEthnicity):\n",
        "    loss = F.cross_entropy(predictEthnicity, targetEthnicity)\n",
        "    return loss\n",
        "\n",
        "def lossFunction(predictAge, predictGender, predictEthnicity, targetAge, targetGender, targetEthnicity):\n",
        "    alpha = 1/6 # weight for age prediction\n",
        "    beta = 1/3 # weight for gender prediction\n",
        "    gamma = 1 # weight for ethncity prediction\n",
        "    ageLoss = lossAge(predictAge, targetAge)\n",
        "    genderLoss = lossGender(predictGender, targetGender)\n",
        "    ethnicityLoss = lossEthnicity(predictEthnicity, targetEthnicity)\n",
        "    totalLoss = alpha * ageLoss + beta * genderLoss + gamma * ethnicityLoss\n",
        "    return totalLoss, ageLoss, genderLoss, ethnicityLoss"
      ]
    },
    {
      "cell_type": "code",
      "execution_count": 214,
      "metadata": {
        "id": "VyGFkzdvZjsZ"
      },
      "outputs": [],
      "source": [
        "def trainNetwork(model, optimizer, lossFunction, trainLoader, validLoader, epochs, unfreezeEpoch, device, modelPath):\n",
        "    model.train()\n",
        "    trainLoaderSize = len(trainLoader)\n",
        "    validLoaderSize = len(validLoader)\n",
        "    for epoch in tqdm(range(1, epochs + 1)):\n",
        "        if epoch == unfreezeEpoch:\n",
        "            model.unfreeze()\n",
        "            print(\"Unfreeze the model for the last 7 epochs\")\n",
        "        \n",
        "        ### TRAINING ###\n",
        "        trainAgeLoss, trainGenderLoss, trainEthnicityLoss = 0, 0, 0\n",
        "        correctTrain = 0\n",
        "        totalTrain = 0\n",
        "        for batch_nr, (images, labels) in enumerate(trainLoader):\n",
        "            # Move data to GPU (if exists)\n",
        "            images, labels = images.to(device), labels.long().to(device) \n",
        "\n",
        "            ageLabels = labels[:, 0].view(-1, 1).float()\n",
        "            genderLabels = F.one_hot(labels[:, 1], num_classes=2).float()\n",
        "            ethnicityLabels = F.one_hot(labels[:, 2], num_classes=5).float()\n",
        "\n",
        "            # Predict\n",
        "            agePredictions, genderPredictions, ethnicityPredictions = model(images)\n",
        "\n",
        "            # Get loss and backpropogate\n",
        "            totalLoss, ageLoss, genderLoss, ethnicityLoss = lossFunction(agePredictions, genderPredictions, ethnicityPredictions, \n",
        "                                                            ageLabels, genderLabels, ethnicityLabels)\n",
        "            \n",
        "            totalLoss.backward()\n",
        "\n",
        "            # Optimize parameters (weights and biases) and remove gradients after\n",
        "            optimizer.step() \n",
        "            optimizer.zero_grad()\n",
        "\n",
        "            # Save loss for whole epoch\n",
        "            trainAgeLoss += ageLoss.item()\n",
        "            trainGenderLoss += genderLoss.item()\n",
        "            trainEthnicityLoss += ethnicityLoss.item()\n",
        "            \n",
        "        trainAgeLoss /= trainLoaderSize\n",
        "        trainGenderLoss /= trainLoaderSize\n",
        "        trainEthnicityLoss /= trainLoaderSize\n",
        "        #trainAccuracy = 100 * correctTrain / totalTrain\n",
        "\n",
        "        ### VALIDATION ###\n",
        "        validAgeLoss, validGenderLoss, validEthnicityLoss = 0, 0, 0\n",
        "        correctValid = 0\n",
        "        totalValid = 0\n",
        "        for batch_nr, (images, labels) in enumerate(validLoader):\n",
        "            # Move data to GPU (if exists)\n",
        "            images, labels = images.to(device), labels.long().to(device) \n",
        "\n",
        "            ageLabels = labels[:, 0].view(-1, 1).float()\n",
        "            genderLabels = F.one_hot(labels[:, 1], num_classes=2).float()\n",
        "            ethnicityLabels = F.one_hot(labels[:, 2], num_classes=5).float()\n",
        "\n",
        "            # Predict            \n",
        "            agePredictions, genderPredictions, ethnicityPredictions = model(images)\n",
        "\n",
        "            # Get loss\n",
        "            totalLoss, ageLoss, genderLoss, ethnicityLoss = lossFunction(agePredictions, genderPredictions, ethnicityPredictions, \n",
        "                                                            ageLabels, genderLabels, ethnicityLabels)\n",
        "            \n",
        "            # Save loss for whole epoch\n",
        "            validAgeLoss += ageLoss.item()\n",
        "            validGenderLoss += genderLoss.item()\n",
        "            validEthnicityLoss += ethnicityLoss.item()\n",
        "\n",
        "        validAgeLoss /= validLoaderSize\n",
        "        validGenderLoss /= validLoaderSize\n",
        "        validEthnicityLoss /= validLoaderSize\n",
        "        #validAccuracy = 100 * correctValid / totalValid\n",
        "\n",
        "        # Print reuslt of epoch\n",
        "        print(f'\\n\\tTraining Losses:   (Age: {trainAgeLoss:.4f}, Gender: {trainGenderLoss:.4f}, Ethnicity: {trainEthnicityLoss:.4f})\\t'\n",
        "              f'\\n\\tValidation Losses: (Age: {validAgeLoss:.4f}, Gender: {validGenderLoss:.4f}, Ethnicity: {validEthnicityLoss:.4f})\\t')\n",
        "        \n",
        "    torch.save(model, modelPath)\n",
        "    print(f\"Saved model to {modelPath}\")"
      ]
    },
    {
      "cell_type": "code",
      "execution_count": 215,
      "metadata": {
        "id": "shpRsm7hi3bg"
      },
      "outputs": [],
      "source": [
        "resnetModel = ResNetModel().to(device)"
      ]
    },
    {
      "cell_type": "code",
      "source": [
        "epochs = 10\n",
        "unfreezeEpoch = 4\n",
        "learningRate = 2e-2\n",
        "\n",
        "modelPath = \"resnet18.pth\"\n",
        "\n",
        "optimizer = torch.optim.SGD(resnetModel.parameters(), lr=learningRate)\n",
        "\n",
        "trainNetwork(resnetModel, optimizer, lossFunction, trainLoader, validLoader, epochs, unfreezeEpoch, device, modelPath)"
      ],
      "metadata": {
        "id": "U8ODUZUoG0XB",
        "outputId": "d16ef045-d2c7-46a4-f7a6-5319c029f356",
        "colab": {
          "base_uri": "https://localhost:8080/"
        }
      },
      "execution_count": 216,
      "outputs": [
        {
          "output_type": "stream",
          "name": "stderr",
          "text": [
            " 10%|█         | 1/10 [01:03<09:29, 63.24s/it]"
          ]
        },
        {
          "output_type": "stream",
          "name": "stdout",
          "text": [
            "\n",
            "\tTraining Losses:   (Age: 21.9717, Gender: 0.6820, Ethnicity: 1.5079)\t\n",
            "\tValidation Losses: (Age: 16.7166, Gender: 0.6704, Ethnicity: 1.4777)\t\n"
          ]
        },
        {
          "output_type": "stream",
          "name": "stderr",
          "text": [
            "\r 20%|██        | 2/10 [02:08<08:34, 64.32s/it]"
          ]
        },
        {
          "output_type": "stream",
          "name": "stdout",
          "text": [
            "\n",
            "\tTraining Losses:   (Age: 15.3418, Gender: 0.6549, Ethnicity: 1.4784)\t\n",
            "\tValidation Losses: (Age: 14.4738, Gender: 0.6443, Ethnicity: 1.4733)\t\n"
          ]
        },
        {
          "output_type": "stream",
          "name": "stderr",
          "text": [
            "\r 30%|███       | 3/10 [03:11<07:25, 63.68s/it]"
          ]
        },
        {
          "output_type": "stream",
          "name": "stdout",
          "text": [
            "\n",
            "\tTraining Losses:   (Age: 14.1014, Gender: 0.6359, Ethnicity: 1.4747)\t\n",
            "\tValidation Losses: (Age: 13.5855, Gender: 0.6300, Ethnicity: 1.4713)\t\n",
            "Unfreeze the model for the last 7 epochs\n"
          ]
        },
        {
          "output_type": "stream",
          "name": "stderr",
          "text": [
            "\r 40%|████      | 4/10 [04:46<07:37, 76.20s/it]"
          ]
        },
        {
          "output_type": "stream",
          "name": "stdout",
          "text": [
            "\n",
            "\tTraining Losses:   (Age: 10.4246, Gender: 0.6263, Ethnicity: 1.4711)\t\n",
            "\tValidation Losses: (Age: 8.7919, Gender: 0.6111, Ethnicity: 1.4642)\t\n"
          ]
        },
        {
          "output_type": "stream",
          "name": "stderr",
          "text": [
            "\r 50%|█████     | 5/10 [06:28<07:07, 85.59s/it]"
          ]
        },
        {
          "output_type": "stream",
          "name": "stdout",
          "text": [
            "\n",
            "\tTraining Losses:   (Age: 7.8000, Gender: 0.5803, Ethnicity: 1.4592)\t\n",
            "\tValidation Losses: (Age: 8.5530, Gender: 0.5447, Ethnicity: 1.4408)\t\n"
          ]
        },
        {
          "output_type": "stream",
          "name": "stderr",
          "text": [
            "\r 60%|██████    | 6/10 [08:03<05:54, 88.61s/it]"
          ]
        },
        {
          "output_type": "stream",
          "name": "stdout",
          "text": [
            "\n",
            "\tTraining Losses:   (Age: 6.8206, Gender: 0.5030, Ethnicity: 1.4166)\t\n",
            "\tValidation Losses: (Age: 8.1854, Gender: 0.4521, Ethnicity: 1.3938)\t\n"
          ]
        },
        {
          "output_type": "stream",
          "name": "stderr",
          "text": [
            "\r 70%|███████   | 7/10 [09:41<04:34, 91.62s/it]"
          ]
        },
        {
          "output_type": "stream",
          "name": "stdout",
          "text": [
            "\n",
            "\tTraining Losses:   (Age: 5.9651, Gender: 0.4069, Ethnicity: 1.3642)\t\n",
            "\tValidation Losses: (Age: 8.7012, Gender: 0.3696, Ethnicity: 1.3507)\t\n"
          ]
        },
        {
          "output_type": "stream",
          "name": "stderr",
          "text": [
            "\r 80%|████████  | 8/10 [11:15<03:05, 92.54s/it]"
          ]
        },
        {
          "output_type": "stream",
          "name": "stdout",
          "text": [
            "\n",
            "\tTraining Losses:   (Age: 5.5107, Gender: 0.3375, Ethnicity: 1.3331)\t\n",
            "\tValidation Losses: (Age: 8.3858, Gender: 0.3211, Ethnicity: 1.3315)\t\n"
          ]
        },
        {
          "output_type": "stream",
          "name": "stderr",
          "text": [
            "\r 90%|█████████ | 9/10 [12:50<01:33, 93.23s/it]"
          ]
        },
        {
          "output_type": "stream",
          "name": "stdout",
          "text": [
            "\n",
            "\tTraining Losses:   (Age: 5.0884, Gender: 0.2957, Ethnicity: 1.3147)\t\n",
            "\tValidation Losses: (Age: 7.8844, Gender: 0.2941, Ethnicity: 1.3192)\t\n"
          ]
        },
        {
          "output_type": "stream",
          "name": "stderr",
          "text": [
            "100%|██████████| 10/10 [14:24<00:00, 86.43s/it]"
          ]
        },
        {
          "output_type": "stream",
          "name": "stdout",
          "text": [
            "\n",
            "\tTraining Losses:   (Age: 4.8087, Gender: 0.2703, Ethnicity: 1.3015)\t\n",
            "\tValidation Losses: (Age: 9.2857, Gender: 0.2792, Ethnicity: 1.3099)\t\n",
            "Saved model to resnet18.pth\n"
          ]
        },
        {
          "output_type": "stream",
          "name": "stderr",
          "text": [
            "\n"
          ]
        }
      ]
    },
    {
      "cell_type": "code",
      "source": [
        "#model = torch.load(modelPath)\n",
        "#model.eval()"
      ],
      "metadata": {
        "id": "Qpx2_Tn3p9O4"
      },
      "execution_count": 217,
      "outputs": []
    },
    {
      "cell_type": "code",
      "execution_count": 218,
      "metadata": {
        "id": "QtfZSqAgzatB"
      },
      "outputs": [],
      "source": [
        "#for name, param in resnetModel.named_parameters():\n",
        "#    print(name, param.requires_grad)"
      ]
    },
    {
      "cell_type": "code",
      "source": [
        "def testNetwork(model, testLoader, device):\n",
        "    model.eval()\n",
        "    correctAge, correctGender, correctEthnicity = 0, 0, 0\n",
        "    correctTest = 0\n",
        "    totalTest = 0\n",
        "\n",
        "    allAgePredictions = torch.tensor([], dtype=torch.float32).to(device)\n",
        "    allGenderPredictions = torch.tensor([], dtype=torch.long).to(device)\n",
        "    allEthnicityPredictions = torch.tensor([], dtype=torch.long).to(device)\n",
        "    allAgeLabels = torch.tensor([], dtype=torch.float32).to(device)\n",
        "    allGenderLabels = torch.tensor([], dtype=torch.long).to(device)\n",
        "    allEthnicityLabels = torch.tensor([], dtype=torch.long).to(device)\n",
        "\n",
        "    ### TESTING ###\n",
        "    with torch.no_grad(): \n",
        "        for batch_nr, (images, labels) in enumerate(testLoader):\n",
        "            # Move data to GPU (if exists)\n",
        "            images, labels = images.to(device), labels.to(device)  \n",
        "\n",
        "            ageLabels = labels[:, 0]\n",
        "            genderLabels = labels[:, 1]\n",
        "            ethnicityLabels = labels[:, 2]\n",
        "            \n",
        "            # Get predictions and get the amount of correct predicitons\n",
        "            agePredictions, genderPredictions, ethnicityPredictions = model(images)\n",
        "\n",
        "            agePredictions = torch.round(agePredictions).view(1, -1)\n",
        "            correctAge += ((agePredictions - ageLabels).abs() <= 3).sum().item()\n",
        "\n",
        "            _, genderPredictions = torch.max(genderPredictions, 1) \n",
        "            correctGender += (genderPredictions == genderLabels).sum().item() \n",
        "\n",
        "            _, ethnicityPredictions = torch.max(ethnicityPredictions, 1) \n",
        "            correctEthnicity += (ethnicityPredictions == ethnicityLabels).sum().item() \n",
        "\n",
        "            totalTest += len(images)\n",
        "            \n",
        "            # concatenate the predictions and labels of each batch\n",
        "            allAgePredictions = torch.cat((allAgePredictions, agePredictions), dim=1)\n",
        "            allGenderPredictions = torch.cat((allGenderPredictions, genderPredictions), dim=0)\n",
        "            allEthnicityPredictions = torch.cat((allEthnicityPredictions, ethnicityPredictions), dim=0)\n",
        "            allAgeLabels = torch.cat((allAgeLabels, ageLabels), dim=0)\n",
        "            allGenderLabels = torch.cat((allGenderLabels, genderLabels), dim=0)\n",
        "            allEthnicityLabels = torch.cat((allEthnicityLabels, ethnicityLabels), dim=0)\n",
        "\n",
        "    ageAccuracy = 100 * correctAge / totalTest\n",
        "    genderAccuracy = 100 * correctGender / totalTest\n",
        "    ethnicityAccuracy = 100 * correctEthnicity / totalTest\n",
        "\n",
        "    print(f\"Test Accuracy: (Age +/-3 years: {ageAccuracy:.2f}%, Gender: {genderAccuracy:.2f}%, Ethnicity: {ethnicityAccuracy:.2f}%)\")\n",
        "    return allAgePredictions, allGenderPredictions, allEthnicityPredictions, allAgeLabels, allGenderLabels, allEthnicityLabels"
      ],
      "metadata": {
        "id": "fOMVxs4mdBOp"
      },
      "execution_count": 219,
      "outputs": []
    },
    {
      "cell_type": "code",
      "source": [
        "agePredictions, genderPredictions, ethnicityPredictions, ageLabels, genderLabels, ethnicityLabels = testNetwork(resnetModel, validLoader, device)"
      ],
      "metadata": {
        "colab": {
          "base_uri": "https://localhost:8080/"
        },
        "id": "v6xAG82Tittx",
        "outputId": "27b8ba22-7070-4b8c-99d5-0458af813fb5"
      },
      "execution_count": 220,
      "outputs": [
        {
          "output_type": "stream",
          "name": "stdout",
          "text": [
            "Test Accuracy: (Age +/-3 years: 40.53%, Gender: 88.82%, Ethnicity: 59.45%)\n"
          ]
        }
      ]
    },
    {
      "cell_type": "code",
      "source": [
        "agePredictions, ageLabels"
      ],
      "metadata": {
        "colab": {
          "base_uri": "https://localhost:8080/"
        },
        "id": "ADzgJrCqr5ZO",
        "outputId": "ea577df1-1b06-40b6-8cfe-c330ed9278d7"
      },
      "execution_count": 221,
      "outputs": [
        {
          "output_type": "execute_result",
          "data": {
            "text/plain": [
              "(tensor([[ 3., 57., 38.,  ..., 24., 32., 62.]], device='cuda:0'),\n",
              " tensor([ 1., 76., 44.,  ..., 27., 35., 61.], device='cuda:0'))"
            ]
          },
          "metadata": {},
          "execution_count": 221
        }
      ]
    },
    {
      "cell_type": "code",
      "source": [
        "ethnicityPredictions, ethnicityLabels"
      ],
      "metadata": {
        "colab": {
          "base_uri": "https://localhost:8080/"
        },
        "id": "GbaWa-tZkKRq",
        "outputId": "938cb265-7e2c-4111-ae39-3634770732b7"
      },
      "execution_count": 222,
      "outputs": [
        {
          "output_type": "execute_result",
          "data": {
            "text/plain": [
              "(tensor([0, 1, 1,  ..., 0, 0, 1], device='cuda:0'),\n",
              " tensor([4., 1., 1.,  ..., 0., 0., 2.], device='cuda:0'))"
            ]
          },
          "metadata": {},
          "execution_count": 222
        }
      ]
    },
    {
      "cell_type": "code",
      "source": [
        "\n",
        "GENDER = ['M', 'F']\n",
        "ETHNICITY = ['White', 'Black', 'Asian', 'Indian', 'Others']\n",
        "import pandas as pd\n",
        "import sklearn.metrics as skmetric\n",
        "\n",
        "matrix = skmetric.confusion_matrix(ethnicityLabels.cpu(), ethnicityPredictions.cpu())\n",
        "display = skmetric.ConfusionMatrixDisplay(confusion_matrix=matrix, display_labels=ETHNICITY)\n",
        "fig, ax = plt.subplots(figsize=(6,4))\n",
        "display.plot(ax=ax)\n",
        "plt.show()\n",
        "\n",
        "#print(skmetric.classification_report(arrayEmotionNumToString(testEncodedEmotionLabel), arrayEmotionNumToString(predTestEncodedEmotionLabel)))"
      ],
      "metadata": {
        "colab": {
          "base_uri": "https://localhost:8080/",
          "height": 388
        },
        "id": "Pnkb-mJ5ijyr",
        "outputId": "5472ec61-8105-4efe-d430-6a4c0862268c"
      },
      "execution_count": 223,
      "outputs": [
        {
          "output_type": "display_data",
          "data": {
            "text/plain": [
              "<Figure size 600x400 with 2 Axes>"
            ],
            "image/png": "[encoded data removed]"
          },
          "metadata": {}
        }
      ]
    },
    {
      "cell_type": "code",
      "source": [
        "matrix = skmetric.confusion_matrix(genderLabels.cpu(), genderPredictions.cpu())\n",
        "display = skmetric.ConfusionMatrixDisplay(confusion_matrix=matrix, display_labels=GENDER)\n",
        "fig, ax = plt.subplots(figsize=(6,4))\n",
        "display.plot(ax=ax)\n",
        "plt.show()"
      ],
      "metadata": {
        "colab": {
          "base_uri": "https://localhost:8080/",
          "height": 388
        },
        "id": "v19jlnciqNsk",
        "outputId": "af633fe0-1d30-4701-a565-6bbe1f76a33c"
      },
      "execution_count": 224,
      "outputs": [
        {
          "output_type": "display_data",
          "data": {
            "text/plain": [
              "<Figure size 600x400 with 2 Axes>"
            ],
            "image/png": "[encoded data removed]"
          },
          "metadata": {}
        }
      ]
    },
    {
      "cell_type": "code",
      "source": [
        "y_test = agePredictions.cpu()[0]\n",
        "plt.scatter(y_test, ageLabels.cpu(), s=2)\n",
        "plt.plot([min(y_test), max(y_test)], [min(y_test), max(y_test)],'k--', lw=2)\n",
        "plt.xlabel('Actual Age')\n",
        "plt.ylabel('Predicted Age')\n",
        "plt.title('Actual vs. Predicted Ages')\n",
        "plt.show()"
      ],
      "metadata": {
        "colab": {
          "base_uri": "https://localhost:8080/",
          "height": 472
        },
        "id": "dvDYpfLH1Z8r",
        "outputId": "48604b68-4de1-42ae-f616-7ed9a54431d7"
      },
      "execution_count": 225,
      "outputs": [
        {
          "output_type": "display_data",
          "data": {
            "text/plain": [
              "<Figure size 640x480 with 1 Axes>"
            ],
            "image/png": "[encoded data removed]"
          },
          "metadata": {}
        }
      ]
    }
  ],
  "metadata": {
    "accelerator": "GPU",
    "colab": {
      "provenance": []
    },
    "gpuClass": "standard",
    "kernelspec": {
      "display_name": "Python 3",
      "language": "python",
      "name": "python3"
    },
    "language_info": {
      "codemirror_mode": {
        "name": "ipython",
        "version": 3
      },
      "file_extension": ".py",
      "mimetype": "text/x-python",
      "name": "python",
      "nbconvert_exporter": "python",
      "pygments_lexer": "ipython3",
      "version": "3.8.10"
    },
    "orig_nbformat": 4,
    "vscode": {
      "interpreter": {
        "hash": "0e46589cfc653cddf5fb35f750697a95da7a749fba015bbad1355989ab2e8d35"
      }
    }
  },
  "nbformat": 4,
  "nbformat_minor": 0
}