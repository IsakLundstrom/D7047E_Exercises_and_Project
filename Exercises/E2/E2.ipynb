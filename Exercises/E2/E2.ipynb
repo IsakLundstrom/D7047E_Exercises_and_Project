{
  "cells": [
    {
      "attachments": {},
      "cell_type": "markdown",
      "metadata": {},
      "source": [
        "# Exercise 2"
      ]
    },
    {
      "cell_type": "code",
      "execution_count": 47,
      "metadata": {
        "id": "GXM4VtYFpHe0"
      },
      "outputs": [],
      "source": [
        "import torch\n",
        "import torch.cuda\n",
        "import torchvision\n",
        "import torchvision.transforms as transforms\n",
        "import torch.nn as nn\n",
        "import torch.nn.functional as F\n",
        "\n",
        "import numpy as np\n",
        "\n",
        "from torch.utils.tensorboard import SummaryWriter"
      ]
    },
    {
      "attachments": {},
      "cell_type": "markdown",
      "metadata": {},
      "source": [
        "## Transfer Learning from ImageNet"
      ]
    },
    {
      "attachments": {},
      "cell_type": "markdown",
      "metadata": {},
      "source": [
        "### Preprocess"
      ]
    },
    {
      "cell_type": "code",
      "execution_count": null,
      "metadata": {},
      "outputs": [],
      "source": [
        "device = torch.device('cuda' if torch.cuda.is_available() else 'cpu')\n",
        "print(f\"Using {'cuda' if torch.cuda.is_available() else 'cpu'}\")"
      ]
    },
    {
      "cell_type": "code",
      "execution_count": 48,
      "metadata": {
        "colab": {
          "base_uri": "https://localhost:8080/"
        },
        "id": "6pPFxgfepHe4",
        "outputId": "2c34e686-85b4-48d8-acc7-d99c89729ae3"
      },
      "outputs": [
        {
          "name": "stdout",
          "output_type": "stream",
          "text": [
            "Files already downloaded and verified\n",
            "Files already downloaded and verified\n",
            "Using cuda\n"
          ]
        }
      ],
      "source": [
        "# Load and normalizde the data\n",
        "\n",
        "transform = transforms.Compose(\n",
        "    [transforms.Resize(64),\n",
        "     transforms.ToTensor(),\n",
        "     transforms.Normalize((0.5, 0.5, 0.5), (0.5, 0.5, 0.5))])\n",
        "\n",
        "batchSize = 100\n",
        "validSize = 0.2 # use 20% of train set as validation\n",
        "\n",
        "trainValidSet = torchvision.datasets.CIFAR10(root='./data', train=True, download=True, transform=transform)\n",
        "testSet = torchvision.datasets.CIFAR10(root='./data', train=False, download=True, transform=transform)\n",
        "\n",
        "trainSet, validSet = torch.utils.data.random_split(trainValidSet, [int(len(trainValidSet)*(1-validSize)), int(len(trainValidSet)*validSize)])\n",
        "\n",
        "trainLoader = torch.utils.data.DataLoader(trainSet, batch_size=batchSize, shuffle=True)\n",
        "validLoader = torch.utils.data.DataLoader(validSet, batch_size=batchSize, shuffle=True)\n",
        "testLoader = torch.utils.data.DataLoader(testSet, batch_size=batchSize, shuffle=False)\n",
        "\n",
        "classes = ('plane', 'car', 'bird', 'cat', 'deer', 'dog', 'frog', 'horse', 'ship', 'truck')"
      ]
    },
    {
      "cell_type": "code",
      "execution_count": 49,
      "metadata": {
        "id": "qtYEZmq_pHe5"
      },
      "outputs": [],
      "source": [
        "# Writer for tensorBoard\n",
        "writer = SummaryWriter()"
      ]
    },
    {
      "attachments": {},
      "cell_type": "markdown",
      "metadata": {},
      "source": [
        "### Define train and test functions"
      ]
    },
    {
      "cell_type": "code",
      "execution_count": 50,
      "metadata": {
        "id": "euNZay3kpHe7"
      },
      "outputs": [],
      "source": [
        "def trainNetwork(network, optimizer, lossFunction, trainLoader, validLoader, epochs, device, writer, name):\n",
        "    network.train()\n",
        "    for epoch in range(epochs):\n",
        "        \n",
        "        ### TRAINING ###\n",
        "        trainLoss = 0\n",
        "        correctTrain = 0\n",
        "        totalTrain = 0\n",
        "        for batch_nr, (images, labels) in enumerate(trainLoader):\n",
        "            # Move data to GPU (if exists)\n",
        "            images, labels = images.to(device), labels.to(device)  \n",
        "\n",
        "            # Predict\n",
        "            predictions = network(images)\n",
        "\n",
        "            # Get loss and backpropogate\n",
        "            loss = lossFunction(predictions, labels)\n",
        "            loss.backward() \n",
        "\n",
        "            # Optimize parameters (weights and biases) and remove gradients after\n",
        "            optimizer.step() \n",
        "            optimizer.zero_grad()\n",
        "\n",
        "            # Save loss for whole epoch\n",
        "            trainLoss += loss.item()\n",
        "            \n",
        "            # Calculate training accuracy\n",
        "            _, predictions = torch.max(predictions, 1) \n",
        "            correctTrain += (predictions == labels).sum().item() \n",
        "            totalTrain += len(images)\n",
        "\n",
        "            #print(f'Epoch [{epoch+1}/{epochs}] Batch [{batch_nr}/{len(trainLoader)}]')\n",
        "        \n",
        "\n",
        "        trainLoss /= len(trainLoader)\n",
        "        trainAccuracy = 100 * correctTrain / totalTrain\n",
        "        writer.add_scalar(f\"Loss/train - {name}\", trainLoss, epoch)\n",
        "        writer.add_scalar(f\"Accuracy/train - {name}\", trainAccuracy, epoch)\n",
        "\n",
        "        ### VALIDATION ###\n",
        "        validLoss = 0\n",
        "        correctValid = 0\n",
        "        totalValid = 0\n",
        "        for batch_nr, (images, labels) in enumerate(validLoader):\n",
        "            # Move data to GPU (if exists)\n",
        "            images, labels = images.to(device), labels.to(device)  \n",
        "\n",
        "            # Predict\n",
        "            predictions = network(images)\n",
        "\n",
        "            # Get loss\n",
        "            loss = lossFunction(predictions, labels)\n",
        "\n",
        "            # Save loss for whole epoch\n",
        "            validLoss += loss.item()\n",
        "\n",
        "            # Calculate vaildation accuracy\n",
        "            _, predictions = torch.max(predictions, 1) \n",
        "            correctValid += (predictions == labels).sum().item() \n",
        "            totalValid += len(images)\n",
        "\n",
        "            #print(f'Epoch [{epoch+1}/{epochs}] Batch [{batch_nr}/{len(validLoader)}]')\n",
        "\n",
        "        validLoss /= len(validLoader)\n",
        "        validAccuracy = 100 * correctValid / totalValid\n",
        "        writer.add_scalar(f\"Loss/valid - {name}\", validLoss, epoch)\n",
        "        writer.add_scalar(f\"Accuracy/valid - {name}\", validAccuracy, epoch)\n",
        "\n",
        "        # Print reuslt of epoch\n",
        "        print(f'Epoch [{epoch+1}/{epochs}] \\t Training Loss: {trainLoss} \\t Validation Loss: {validLoss} \\t Traning Acc: {trainAccuracy}% \\t Validation Acc: {validAccuracy}%')\n",
        "\n",
        "    writer.flush()"
      ]
    },
    {
      "cell_type": "code",
      "execution_count": 51,
      "metadata": {
        "id": "3AGXTkltpHe9"
      },
      "outputs": [],
      "source": [
        "def testNetwork(network, testLoader, device):\n",
        "    network.eval()\n",
        "    correctTest = 0\n",
        "    totalTest = 0\n",
        "\n",
        "    ### TESTING ###\n",
        "    with torch.no_grad(): \n",
        "        for batch_nr, (images, labels) in enumerate(testLoader):\n",
        "            # Move data to GPU (if exists)\n",
        "            images, labels = images.to(device), labels.to(device)  \n",
        "            \n",
        "            # Get predictions and get the amount of correct predicitons\n",
        "            predictions = network(images)\n",
        "            _, predictions = torch.max(predictions, 1) \n",
        "            correctTest += (predictions == labels).sum().item() \n",
        "            totalTest += len(images)\n",
        "            \n",
        "            #print(f'Batch [{batch_nr}/{len(testLoader)}]', end='\\r')\n",
        "        \n",
        "    print(f\"Test Accuracy: {100 * correctTest / totalTest}%\")"
      ]
    },
    {
      "attachments": {},
      "cell_type": "markdown",
      "metadata": {},
      "source": [
        "### Define our AlexNet"
      ]
    },
    {
      "cell_type": "code",
      "execution_count": 52,
      "metadata": {
        "id": "gRa5bklZpHe-"
      },
      "outputs": [],
      "source": [
        "class myAlexNet(nn.Module):\n",
        "    def __init__(self, pretrained):\n",
        "        super(myAlexNet,self).__init__()\n",
        "        self.alexNet = torchvision.models.alexnet(pretrained=pretrained)\n",
        "        self.out = nn.Linear(1000,10)\n",
        "    \n",
        "    def forward(self, x):\n",
        "        x = F.relu(self.alexNet.forward(x))\n",
        "        # x = self.alexNet.forward(x)\n",
        "        return self.out(x)"
      ]
    },
    {
      "attachments": {},
      "cell_type": "markdown",
      "metadata": {},
      "source": [
        "### Train the network without pretrained weights"
      ]
    },
    {
      "cell_type": "code",
      "execution_count": 53,
      "metadata": {
        "id": "hxIRc9G8pHe_"
      },
      "outputs": [],
      "source": [
        "learningRate = 0.01"
      ]
    },
    {
      "cell_type": "code",
      "execution_count": 54,
      "metadata": {
        "id": "9skoJi6hpHfA"
      },
      "outputs": [],
      "source": [
        "epochs = 20\n",
        "networkNotTrained = myAlexNet(pretrained=False).to(device)\n",
        "\n",
        "optimizer = torch.optim.SGD(networkNotTrained.parameters(), lr=learningRate)\n",
        "lossFunction = nn.CrossEntropyLoss().to(device)"
      ]
    },
    {
      "cell_type": "code",
      "execution_count": 55,
      "metadata": {
        "id": "u3FuHMrKpHfA"
      },
      "outputs": [],
      "source": [
        "# networkNotTrained.eval()"
      ]
    },
    {
      "cell_type": "code",
      "execution_count": 56,
      "metadata": {
        "colab": {
          "base_uri": "https://localhost:8080/"
        },
        "id": "R9bb3xbApHfA",
        "outputId": "7224ee0b-689c-4e1d-acbf-82c07b09e1a9"
      },
      "outputs": [
        {
          "name": "stdout",
          "output_type": "stream",
          "text": [
            "Epoch [1/20] \t Training Loss: 2.3026793217658996 \t Validation Loss: 2.3028131341934204 \t Traning Acc: 10.08% \t Validation Acc: 9.68%\n",
            "Epoch [2/20] \t Training Loss: 2.3025830233097078 \t Validation Loss: 2.3027525472640993 \t Traning Acc: 10.085% \t Validation Acc: 9.67%\n",
            "Epoch [3/20] \t Training Loss: 2.3025386959314345 \t Validation Loss: 2.3026693534851073 \t Traning Acc: 10.095% \t Validation Acc: 9.76%\n",
            "Epoch [4/20] \t Training Loss: 2.3024898266792295 \t Validation Loss: 2.3026162791252136 \t Traning Acc: 10.1175% \t Validation Acc: 10.08%\n",
            "Epoch [5/20] \t Training Loss: 2.3024277901649475 \t Validation Loss: 2.3025527930259706 \t Traning Acc: 10.7725% \t Validation Acc: 10.18%\n",
            "Epoch [6/20] \t Training Loss: 2.3023615777492523 \t Validation Loss: 2.3024608635902406 \t Traning Acc: 10.9925% \t Validation Acc: 9.67%\n",
            "Epoch [7/20] \t Training Loss: 2.3022643733024597 \t Validation Loss: 2.302339415550232 \t Traning Acc: 10.775% \t Validation Acc: 9.8%\n",
            "Epoch [8/20] \t Training Loss: 2.3021331268548964 \t Validation Loss: 2.302150933742523 \t Traning Acc: 10.4225% \t Validation Acc: 10.52%\n",
            "Epoch [9/20] \t Training Loss: 2.3019325059652327 \t Validation Loss: 2.301919515132904 \t Traning Acc: 11.5325% \t Validation Acc: 9.96%\n",
            "Epoch [10/20] \t Training Loss: 2.3015686464309693 \t Validation Loss: 2.301464419364929 \t Traning Acc: 11.3075% \t Validation Acc: 9.89%\n",
            "Epoch [11/20] \t Training Loss: 2.3008816081285475 \t Validation Loss: 2.300422921180725 \t Traning Acc: 11.575% \t Validation Acc: 12.15%\n",
            "Epoch [12/20] \t Training Loss: 2.298944591283798 \t Validation Loss: 2.2967225646972658 \t Traning Acc: 13.315% \t Validation Acc: 12.62%\n",
            "Epoch [13/20] \t Training Loss: 2.283506944179535 \t Validation Loss: 2.2479551649093628 \t Traning Acc: 12.705% \t Validation Acc: 14.54%\n",
            "Epoch [14/20] \t Training Loss: 2.1660466223955153 \t Validation Loss: 2.09947323679924 \t Traning Acc: 17.1075% \t Validation Acc: 18.73%\n",
            "Epoch [15/20] \t Training Loss: 2.048452745974064 \t Validation Loss: 2.0151871824264527 \t Traning Acc: 18.93% \t Validation Acc: 19.15%\n",
            "Epoch [16/20] \t Training Loss: 1.98569554656744 \t Validation Loss: 1.9603089308738708 \t Traning Acc: 19.3575% \t Validation Acc: 20.1%\n",
            "Epoch [17/20] \t Training Loss: 1.9471775594353675 \t Validation Loss: 1.925287184715271 \t Traning Acc: 20.0225% \t Validation Acc: 20.61%\n",
            "Epoch [18/20] \t Training Loss: 1.914286935031414 \t Validation Loss: 1.894359724521637 \t Traning Acc: 21.0125% \t Validation Acc: 22.18%\n",
            "Epoch [19/20] \t Training Loss: 1.8872115263342857 \t Validation Loss: 1.8718489921092987 \t Traning Acc: 23.1275% \t Validation Acc: 22.8%\n",
            "Epoch [20/20] \t Training Loss: 1.854610742032528 \t Validation Loss: 1.8368490791320802 \t Traning Acc: 24.7275% \t Validation Acc: 24.66%\n"
          ]
        }
      ],
      "source": [
        "trainNetwork(networkNotTrained, optimizer, lossFunction, trainLoader, validLoader, epochs, device, writer, \"Not pretrained\")"
      ]
    },
    {
      "cell_type": "code",
      "execution_count": 57,
      "metadata": {
        "colab": {
          "base_uri": "https://localhost:8080/"
        },
        "id": "0fMsziX5Pv0D",
        "outputId": "d88d1357-ca74-4a4c-c20d-f79278054961"
      },
      "outputs": [
        {
          "name": "stdout",
          "output_type": "stream",
          "text": [
            "Test Accuracy: 25.13%\n"
          ]
        }
      ],
      "source": [
        "testNetwork(networkNotTrained, testLoader, device)"
      ]
    },
    {
      "attachments": {},
      "cell_type": "markdown",
      "metadata": {},
      "source": [
        "### Finetune the network with pretrained weights"
      ]
    },
    {
      "cell_type": "code",
      "execution_count": 62,
      "metadata": {
        "colab": {
          "base_uri": "https://localhost:8080/"
        },
        "id": "uh1Zux0PpHfB",
        "outputId": "6622d837-5d8a-4831-e32a-c88c3cef9d9b"
      },
      "outputs": [
        {
          "name": "stderr",
          "output_type": "stream",
          "text": [
            "/usr/local/lib/python3.9/dist-packages/torchvision/models/_utils.py:208: UserWarning: The parameter 'pretrained' is deprecated since 0.13 and may be removed in the future, please use 'weights' instead.\n",
            "  warnings.warn(\n",
            "/usr/local/lib/python3.9/dist-packages/torchvision/models/_utils.py:223: UserWarning: Arguments other than a weight enum or `None` for 'weights' are deprecated since 0.13 and may be removed in the future. The current behavior is equivalent to passing `weights=AlexNet_Weights.IMAGENET1K_V1`. You can also use `weights=AlexNet_Weights.DEFAULT` to get the most up-to-date weights.\n",
            "  warnings.warn(msg)\n"
          ]
        }
      ],
      "source": [
        "epochs = 10\n",
        "networkPretrained = myAlexNet(pretrained=True).to(device)\n",
        "\n",
        "for param in networkPretrained.alexNet.parameters():\n",
        "    param.requires_grad=False\n",
        " \n",
        "optimizer = torch.optim.SGD(networkPretrained.parameters(), lr=learningRate)"
      ]
    },
    {
      "cell_type": "code",
      "execution_count": 63,
      "metadata": {
        "colab": {
          "base_uri": "https://localhost:8080/"
        },
        "id": "tpWpjJWtpHfB",
        "outputId": "aef46361-7893-4f55-e928-68f7caaf303b"
      },
      "outputs": [
        {
          "name": "stdout",
          "output_type": "stream",
          "text": [
            "Epoch [1/10] \t Training Loss: 3.0843573772907256 \t Validation Loss: 2.2896007752418517 \t Traning Acc: 41.16% \t Validation Acc: 44.44%\n",
            "Epoch [2/10] \t Training Loss: 2.5662552347779273 \t Validation Loss: 2.8435751891136167 \t Traning Acc: 46.575% \t Validation Acc: 45.74%\n",
            "Epoch [3/10] \t Training Loss: 2.4675160971283914 \t Validation Loss: 3.181151692867279 \t Traning Acc: 48.1475% \t Validation Acc: 45.25%\n",
            "Epoch [4/10] \t Training Loss: 2.3435420536994935 \t Validation Loss: 2.990860027074814 \t Traning Acc: 48.605% \t Validation Acc: 44.33%\n",
            "Epoch [5/10] \t Training Loss: 2.3538567152619363 \t Validation Loss: 3.086433701515198 \t Traning Acc: 49.6425% \t Validation Acc: 42.17%\n",
            "Epoch [6/10] \t Training Loss: 2.298509730696678 \t Validation Loss: 2.0730548346042634 \t Traning Acc: 49.735% \t Validation Acc: 50.95%\n",
            "Epoch [7/10] \t Training Loss: 2.30906494140625 \t Validation Loss: 2.8714713084697725 \t Traning Acc: 49.69% \t Validation Acc: 48.52%\n",
            "Epoch [8/10] \t Training Loss: 2.28601520717144 \t Validation Loss: 2.498085582256317 \t Traning Acc: 50.31% \t Validation Acc: 47.51%\n",
            "Epoch [9/10] \t Training Loss: 2.2642945685982703 \t Validation Loss: 2.5855478620529175 \t Traning Acc: 50.365% \t Validation Acc: 47.02%\n",
            "Epoch [10/10] \t Training Loss: 2.1677496522665023 \t Validation Loss: 1.6604162907600404 \t Traning Acc: 51.2175% \t Validation Acc: 54.88%\n"
          ]
        }
      ],
      "source": [
        "trainNetwork(networkPretrained, optimizer, lossFunction, trainLoader, validLoader, epochs, device, writer, \"Pretrained weights\")"
      ]
    },
    {
      "cell_type": "code",
      "execution_count": 64,
      "metadata": {
        "colab": {
          "base_uri": "https://localhost:8080/"
        },
        "id": "Q9f03t0_pHfC",
        "outputId": "be299f81-0a0b-4c69-dc2a-d57cb4f27da0"
      },
      "outputs": [
        {
          "name": "stdout",
          "output_type": "stream",
          "text": [
            "Test Accuracy: 57.5%\n"
          ]
        }
      ],
      "source": [
        "testNetwork(networkPretrained, testLoader, device)"
      ]
    },
    {
      "attachments": {},
      "cell_type": "markdown",
      "metadata": {},
      "source": [
        "## Transfer Learning from MNIST"
      ]
    },
    {
      "cell_type": "code",
      "execution_count": 65,
      "metadata": {
        "id": "d2H_1rxGxRsR"
      },
      "outputs": [],
      "source": [
        "# Load and normalizde the data\n",
        "transform2 = transforms.Compose(\n",
        "    [transforms.ToTensor(),\n",
        "     transforms.Normalize((0.5, 0.5, 0.5), (0.5, 0.5, 0.5))])\n",
        "\n",
        "batchSize2 = 100\n",
        "validSize2 = 0.2 # use 20% of train set as validation\n",
        "\n",
        "trainValidSet2 = torchvision.datasets.MNIST(root='./data', train=True, download=True, transform=transform2)\n",
        "testSet2 = torchvision.datasets.MNIST(root='./data', train=False, download=True, transform=transform2)\n",
        "\n",
        "trainSet2, validSet2 = torch.utils.data.random_split(trainValidSet2, [int(len(trainValidSet2)*(1-validSize2)), int(len(trainValidSet2)*validSize2)])\n",
        "\n",
        "trainLoader2 = torch.utils.data.DataLoader(trainSet2, batch_size=batchSize2, shuffle=True)\n",
        "validLoader2 = torch.utils.data.DataLoader(validSet2, batch_size=batchSize2, shuffle=True)\n",
        "testLoader2 = torch.utils.data.DataLoader(testSet2, batch_size=batchSize2, shuffle=False)\n"
      ]
    },
    {
      "cell_type": "code",
      "execution_count": 66,
      "metadata": {
        "id": "18TE6UOEyYMG"
      },
      "outputs": [],
      "source": [
        "# New writer\n",
        "writer2 = SummaryWriter()"
      ]
    },
    {
      "cell_type": "code",
      "execution_count": null,
      "metadata": {},
      "outputs": [],
      "source": [
        "# Define the network class\n",
        "class ConvNet(nn.Module):\n",
        "    def __init__(self, activation):\n",
        "        super().__init__()\n",
        "        self.conv1 = nn.Conv2d(1, 6, 5)\n",
        "        self.pool = nn.MaxPool2d(2, 2)\n",
        "        self.conv2 = nn.Conv2d(6, 16, 5)\n",
        "        self.fc1 = nn.Linear(16 * 5 * 5, 100)\n",
        "        self.fc2 = nn.Linear(100, 10)\n",
        "        self.activation = activation\n",
        "\n",
        "    def forward(self, x):\n",
        "        x = self.pool(self.activation(self.conv1(x)))\n",
        "        x = self.pool(self.activation(self.conv2(x)))\n",
        "        x = torch.flatten(x, 1) # flatten all dimensions except batch\n",
        "        x = self.activation(self.fc1(x))\n",
        "        x = self.fc2(x)\n",
        "        return x"
      ]
    },
    {
      "cell_type": "code",
      "execution_count": null,
      "metadata": {},
      "outputs": [],
      "source": [
        "epochs = 20\n",
        "networkMnist= ConvNet(F.leaky_relu).to(device)\n",
        "\n",
        "optimizer = torch.optim.SGD(networkMnist.parameters(), lr=learningRate)"
      ]
    },
    {
      "cell_type": "code",
      "execution_count": null,
      "metadata": {},
      "outputs": [],
      "source": [
        "trainNetwork(networkMnist, optimizer, lossFunction, trainLoader2, validLoader2, epochs, device, writer2, \"Train on MNIST\")"
      ]
    }
  ],
  "metadata": {
    "accelerator": "GPU",
    "colab": {
      "provenance": []
    },
    "gpuClass": "standard",
    "kernelspec": {
      "display_name": "Python 3",
      "language": "python",
      "name": "python3"
    },
    "language_info": {
      "codemirror_mode": {
        "name": "ipython",
        "version": 3
      },
      "file_extension": ".py",
      "mimetype": "text/x-python",
      "name": "python",
      "nbconvert_exporter": "python",
      "pygments_lexer": "ipython3",
      "version": "3.8.10"
    },
    "orig_nbformat": 4
  },
  "nbformat": 4,
  "nbformat_minor": 0
}
