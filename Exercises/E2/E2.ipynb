{
  "cells": [
    {
      "cell_type": "code",
      "execution_count": null,
      "metadata": {
        "id": "GXM4VtYFpHe0"
      },
      "outputs": [],
      "source": [
        "import torch\n",
        "import torch.cuda\n",
        "import torchvision\n",
        "import torchvision.transforms as transforms\n",
        "import torch.nn as nn\n",
        "import torch.nn.functional as F\n",
        "\n",
        "import numpy as np"
      ]
    },
    {
      "cell_type": "code",
      "execution_count": null,
      "metadata": {
        "id": "6pPFxgfepHe4"
      },
      "outputs": [],
      "source": [
        "# Load and normalizde the data\n",
        "\n",
        "transform = transforms.Compose(\n",
        "    #[transforms.Resize(227),\n",
        "    [transforms.ToTensor(),\n",
        "     transforms.Normalize((0.5, 0.5, 0.5), (0.5, 0.5, 0.5))])\n",
        "\n",
        "batchSize = 5\n",
        "validSize = 0.2 # use 20% of train set as validation\n",
        "\n",
        "trainValidSet = torchvision.datasets.CIFAR10(root='./data', train=True, download=True, transform=transform)\n",
        "testSet = torchvision.datasets.CIFAR10(root='./data', train=False, download=True, transform=transform)\n",
        "\n",
        "trainSet, validSet = torch.utils.data.random_split(trainValidSet, [int(len(trainValidSet)*(1-validSize)), int(len(trainValidSet)*validSize)])\n",
        "\n",
        "trainLoader = torch.utils.data.DataLoader(trainSet, batch_size=batchSize, shuffle=True)\n",
        "validLoader = torch.utils.data.DataLoader(validSet, batch_size=batchSize, shuffle=True)\n",
        "testLoader = torch.utils.data.DataLoader(testSet, batch_size=batchSize, shuffle=False)\n",
        "\n",
        "device = torch.device('cuda' if torch.cuda.is_available() else 'cpu')\n",
        "print(f\"Using {'cuda' if torch.cuda.is_available() else 'cpu'}\")\n",
        "\n",
        "classes = ('plane', 'car', 'bird', 'cat', 'deer', 'dog', 'frog', 'horse', 'ship', 'truck')"
      ]
    },
    {
      "cell_type": "code",
      "execution_count": null,
      "metadata": {
        "id": "qtYEZmq_pHe5"
      },
      "outputs": [],
      "source": [
        "# Writer for tensorBoard\n",
        "from torch.utils.tensorboard import SummaryWriter\n",
        "writer = SummaryWriter()"
      ]
    },
    {
      "cell_type": "code",
      "execution_count": null,
      "metadata": {
        "id": "euNZay3kpHe7"
      },
      "outputs": [],
      "source": [
        "def trainNetwork(network, optimizer, lossFunction, epochs, writer, device, name):\n",
        "    network.train()\n",
        "    for epoch in range(epochs):\n",
        "        \n",
        "        ### TRAINING ###\n",
        "        trainLoss = 0\n",
        "        correctTrain = 0\n",
        "        totalTrain = 0\n",
        "        for batch_nr, (images, labels) in enumerate(trainLoader):\n",
        "            # Move data to GPU (if exists)\n",
        "            images, labels = images.to(device), labels.to(device)  \n",
        "\n",
        "            # Predict\n",
        "            predictions = network(images)\n",
        "\n",
        "            # Get loss and backpropogate\n",
        "            loss = lossFunction(predictions, labels)\n",
        "            loss.backward() \n",
        "\n",
        "            # Optimize parameters (weights and biases) and remove gradients after\n",
        "            optimizer.step() \n",
        "            optimizer.zero_grad()\n",
        "\n",
        "            # Save loss for whole epoch\n",
        "            trainLoss += loss.item()\n",
        "            \n",
        "            # Calculate training accuracy\n",
        "            _, predictions = torch.max(predictions, 1) \n",
        "            correctTrain += (predictions == labels).sum().item() \n",
        "            totalTrain += len(images)\n",
        "\n",
        "            #print(f'Epoch [{epoch+1}/{epochs}] Batch [{batch_nr}/{len(trainLoader)}]')\n",
        "        \n",
        "\n",
        "        trainLoss /= len(trainLoader)\n",
        "        trainAccuracy = 100 * correctTrain / totalTrain\n",
        "        writer.add_scalar(f\"Loss/train - {name}\", trainLoss, epoch)\n",
        "        writer.add_scalar(f\"Accuracy/train - {name}\", trainAccuracy, epoch)\n",
        "\n",
        "        ### VALIDATION ###\n",
        "        validLoss = 0\n",
        "        correctValid = 0\n",
        "        totalValid = 0\n",
        "        for batch_nr, (images, labels) in enumerate(validLoader):\n",
        "            # Move data to GPU (if exists)\n",
        "            images, labels = images.to(device), labels.to(device)  \n",
        "\n",
        "            # Predict\n",
        "            predictions = network(images)\n",
        "\n",
        "            # Get loss\n",
        "            loss = lossFunction(predictions, labels)\n",
        "\n",
        "            # Save loss for whole epoch\n",
        "            validLoss += loss.item()\n",
        "\n",
        "            # Calculate vaildation accuracy\n",
        "            _, predictions = torch.max(predictions, 1) \n",
        "            correctValid += (predictions == labels).sum().item() \n",
        "            totalValid += len(images)\n",
        "\n",
        "            #print(f'Epoch [{epoch+1}/{epochs}] Batch [{batch_nr}/{len(validLoader)}]')\n",
        "\n",
        "        validLoss /= len(validLoader)\n",
        "        validAccuracy = 100 * correctValid / totalValid\n",
        "        writer.add_scalar(f\"Loss/valid - {name}\", validLoss, epoch)\n",
        "        writer.add_scalar(f\"Accuracy/valid - {name}\", validAccuracy, epoch)\n",
        "\n",
        "        # Print reuslt of epoch\n",
        "        print(f'Epoch [{epoch+1}/{epochs}] \\t Training Loss: {trainLoss} \\t Validation Loss: {validLoss} \\t Traning Acc: {trainAccuracy}% \\t Validation Acc: {validAccuracy}%')\n",
        "\n",
        "    writer.flush()"
      ]
    },
    {
      "cell_type": "code",
      "execution_count": null,
      "metadata": {
        "id": "3AGXTkltpHe9"
      },
      "outputs": [],
      "source": [
        "def testNetwork(network, device):\n",
        "    network.eval()\n",
        "    correctTest = 0\n",
        "    totalTest = 0\n",
        "\n",
        "    ### TESTING ###\n",
        "    with torch.no_grad(): \n",
        "        for batch_nr, (images, labels) in enumerate(testLoader):\n",
        "            # Move data to GPU (if exists)\n",
        "            images, labels = images.to(device), labels.to(device)  \n",
        "            \n",
        "            # Get predictions and get the amount of correct predicitons\n",
        "            predictions = network(images)\n",
        "            _, predictions = torch.max(predictions, 1) \n",
        "            correctTest += (predictions == labels).sum().item() \n",
        "            totalTest += len(images)\n",
        "            \n",
        "            #print(f'Batch [{batch_nr}/{len(testLoader)}]', end='\\r')\n",
        "        \n",
        "    print(f\"Test Accuracy: {100 * correctTest / totalTest}%\")"
      ]
    },
    {
      "cell_type": "code",
      "execution_count": null,
      "metadata": {
        "id": "gRa5bklZpHe-"
      },
      "outputs": [],
      "source": [
        "class myAlexNet(nn.Module):\n",
        "    def __init__(self, pretrained):\n",
        "        super(myAlexNet,self).__init__()\n",
        "        self.alexNet = torchvision.models.alexnet(pretrained=pretrained)\n",
        "        self.out = nn.Linear(1000,10)\n",
        "    \n",
        "    def forward(self, x):\n",
        "        x = F.relu(self.alexNet.forward(x))\n",
        "        return self.out(x)\n"
      ]
    },
    {
      "cell_type": "code",
      "execution_count": null,
      "metadata": {
        "id": "hxIRc9G8pHe_"
      },
      "outputs": [],
      "source": [
        "learningRate = 0.005\n",
        "epochs = 4"
      ]
    },
    {
      "cell_type": "code",
      "execution_count": null,
      "metadata": {
        "id": "tKUFGLmppHe_"
      },
      "outputs": [],
      "source": [
        "networkNotTrained = myAlexNet(pretrained=False).to(device)"
      ]
    },
    {
      "cell_type": "code",
      "execution_count": null,
      "metadata": {
        "id": "9skoJi6hpHfA"
      },
      "outputs": [],
      "source": [
        "optimizerAdam = torch.optim.Adam(networkNotTrained.parameters(), lr=learningRate)\n",
        "lossFunction = nn.CrossEntropyLoss().to(device)"
      ]
    },
    {
      "cell_type": "code",
      "execution_count": null,
      "metadata": {
        "id": "u3FuHMrKpHfA"
      },
      "outputs": [],
      "source": [
        "networkNotTrained.eval()"
      ]
    },
    {
      "cell_type": "code",
      "execution_count": null,
      "metadata": {
        "id": "R9bb3xbApHfA"
      },
      "outputs": [],
      "source": [
        "# trainNetwork(networkNotTrained, optimizerAdam, lossFunction, epochs, writer, device, \"Not pretrained\")"
      ]
    },
    {
      "cell_type": "code",
      "execution_count": null,
      "metadata": {
        "id": "uh1Zux0PpHfB"
      },
      "outputs": [],
      "source": [
        "networkPretrained = myAlexNet(pretrained=True).to(device)"
      ]
    },
    {
      "cell_type": "code",
      "execution_count": null,
      "metadata": {
        "id": "EH7aZmfepHfB"
      },
      "outputs": [],
      "source": [
        "for param in networkPretrained.alexNet.parameters():\n",
        "    param.requires_grad=False"
      ]
    },
    {
      "cell_type": "code",
      "execution_count": null,
      "metadata": {
        "id": "tpWpjJWtpHfB"
      },
      "outputs": [],
      "source": [
        "trainNetwork(networkPretrained, optimizerAdam, lossFunction, epochs, writer, device, \"Pretrained weights\")"
      ]
    },
    {
      "cell_type": "code",
      "execution_count": null,
      "metadata": {
        "id": "Q9f03t0_pHfC"
      },
      "outputs": [],
      "source": [
        "testNetwork(networkPretrained, device)"
      ]
    },
    {
      "cell_type": "code",
      "source": [
        "# Load pre-trained AlexNet model\n",
        "alexnet = torchvision.models.alexnet(pretrained=True)\n",
        "\n",
        "# Replace last layer with new layer with 10 output classes\n",
        "alexnet.classifier[6] = torch.nn.Linear(4096, 10)\n",
        "\n",
        "# Freeze all layers except the last layer\n",
        "for param in alexnet.parameters():\n",
        "    param.requires_grad = False\n",
        "for param in alexnet.classifier[6].parameters():\n",
        "    param.requires_grad = True\n",
        "\n",
        "alexnet.to(device)\n"
      ],
      "metadata": {
        "id": "d2H_1rxGxRsR"
      },
      "execution_count": null,
      "outputs": []
    },
    {
      "cell_type": "code",
      "source": [
        "trainNetwork(alexnet, optimizerAdam, lossFunction, epochs, writer, device, \"Pretrained weights\")\n"
      ],
      "metadata": {
        "id": "18TE6UOEyYMG",
        "outputId": "777af72a-7844-4db6-ebfc-5fb0a1ae4512",
        "colab": {
          "base_uri": "https://localhost:8080/"
        }
      },
      "execution_count": null,
      "outputs": [
        {
          "output_type": "stream",
          "name": "stdout",
          "text": [
            "Epoch [1/4] \t Training Loss: 2.371517862394452 \t Validation Loss: 2.3709585531949995 \t Traning Acc: 10.8475% \t Validation Acc: 10.86%\n",
            "Epoch [2/4] \t Training Loss: 2.3722538097053767 \t Validation Loss: 2.368909815609455 \t Traning Acc: 10.7175% \t Validation Acc: 11.63%\n",
            "Epoch [3/4] \t Training Loss: 2.3727849128097294 \t Validation Loss: 2.374996145546436 \t Traning Acc: 10.8475% \t Validation Acc: 11.04%\n"
          ]
        }
      ]
    }
  ],
  "metadata": {
    "kernelspec": {
      "display_name": "Python 3",
      "language": "python",
      "name": "python3"
    },
    "language_info": {
      "codemirror_mode": {
        "name": "ipython",
        "version": 3
      },
      "file_extension": ".py",
      "mimetype": "text/x-python",
      "name": "python",
      "nbconvert_exporter": "python",
      "pygments_lexer": "ipython3",
      "version": "3.8.10"
    },
    "orig_nbformat": 4,
    "colab": {
      "provenance": []
    },
    "accelerator": "GPU",
    "gpuClass": "standard"
  },
  "nbformat": 4,
  "nbformat_minor": 0
}