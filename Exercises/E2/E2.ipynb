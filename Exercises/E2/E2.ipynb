{
  "cells": [
    {
      "cell_type": "code",
      "execution_count": 20,
      "metadata": {
        "id": "GXM4VtYFpHe0"
      },
      "outputs": [],
      "source": [
        "import torch\n",
        "import torch.cuda\n",
        "import torchvision\n",
        "import torchvision.transforms as transforms\n",
        "import torch.nn as nn\n",
        "import torch.nn.functional as F\n",
        "\n",
        "import numpy as np"
      ]
    },
    {
      "cell_type": "code",
      "execution_count": 21,
      "metadata": {
        "id": "6pPFxgfepHe4",
        "outputId": "59b3d18c-1979-46f1-ddb4-fcb846ee9aae",
        "colab": {
          "base_uri": "https://localhost:8080/"
        }
      },
      "outputs": [
        {
          "output_type": "stream",
          "name": "stdout",
          "text": [
            "Files already downloaded and verified\n",
            "Files already downloaded and verified\n"
          ]
        }
      ],
      "source": [
        "# Load and normalizde the data\n",
        "\n",
        "transform = transforms.Compose(\n",
        "    [transforms.Resize(63),\n",
        "     transforms.ToTensor(),\n",
        "     transforms.Normalize((0.5, 0.5, 0.5), (0.5, 0.5, 0.5))])\n",
        "\n",
        "batchSize = 5\n",
        "validSize = 0.2 # use 20% of train set as validation\n",
        "\n",
        "trainValidSet = torchvision.datasets.CIFAR10(root='./data', train=True, download=True, transform=transform)\n",
        "testSet = torchvision.datasets.CIFAR10(root='./data', train=False, download=True, transform=transform)\n",
        "\n",
        "trainSet, validSet = torch.utils.data.random_split(trainValidSet, [int(len(trainValidSet)*(1-validSize)), int(len(trainValidSet)*validSize)])\n",
        "\n",
        "trainLoader = torch.utils.data.DataLoader(trainSet, batch_size=batchSize, shuffle=True)\n",
        "validLoader = torch.utils.data.DataLoader(validSet, batch_size=batchSize, shuffle=True)\n",
        "testLoader = torch.utils.data.DataLoader(testSet, batch_size=batchSize, shuffle=False)\n",
        "\n",
        "device = torch.device('cuda' if torch.cuda.is_available() else 'cpu')\n",
        "\n",
        "classes = ('plane', 'car', 'bird', 'cat', 'deer', 'dog', 'frog', 'horse', 'ship', 'truck')"
      ]
    },
    {
      "cell_type": "code",
      "execution_count": 22,
      "metadata": {
        "id": "qtYEZmq_pHe5"
      },
      "outputs": [],
      "source": [
        "# Writer for tensorBoard\n",
        "from torch.utils.tensorboard import SummaryWriter\n",
        "writer = SummaryWriter()"
      ]
    },
    {
      "cell_type": "code",
      "execution_count": 23,
      "metadata": {
        "id": "euNZay3kpHe7"
      },
      "outputs": [],
      "source": [
        "def trainNetwork(network, optimizer, lossFunction, epochs, writer, device, name):\n",
        "    network.train()\n",
        "    for epoch in range(epochs):\n",
        "        \n",
        "        ### TRAINING ###\n",
        "        trainLoss = 0\n",
        "        correctTrain = 0\n",
        "        totalTrain = 0\n",
        "        for batch_nr, (images, labels) in enumerate(trainLoader):\n",
        "            # Move data to GPU (if exists)\n",
        "            images, labels = images.to(device), labels.to(device)  \n",
        "\n",
        "            # Predict\n",
        "            predictions = network(images)\n",
        "\n",
        "            # Get loss and backpropogate\n",
        "            loss = lossFunction(predictions, labels)\n",
        "            loss.backward() \n",
        "\n",
        "            # Optimize parameters (weights and biases) and remove gradients after\n",
        "            optimizer.step() \n",
        "            optimizer.zero_grad()\n",
        "\n",
        "            # Save loss for whole epoch\n",
        "            trainLoss += loss.item()\n",
        "            \n",
        "            # Calculate training accuracy\n",
        "            _, predictions = torch.max(predictions, 1) \n",
        "            correctTrain += (predictions == labels).sum().item() \n",
        "            totalTrain += len(images)\n",
        "\n",
        "            #print(f'Epoch [{epoch+1}/{epochs}] Batch [{batch_nr}/{len(trainLoader)}]')\n",
        "        \n",
        "\n",
        "        trainLoss /= len(trainLoader)\n",
        "        trainAccuracy = 100 * correctTrain / totalTrain\n",
        "        writer.add_scalar(f\"Loss/train - {name}\", trainLoss, epoch)\n",
        "        writer.add_scalar(f\"Accuracy/train - {name}\", trainAccuracy, epoch)\n",
        "\n",
        "        ### VALIDATION ###\n",
        "        validLoss = 0\n",
        "        correctValid = 0\n",
        "        totalValid = 0\n",
        "        for batch_nr, (images, labels) in enumerate(validLoader):\n",
        "            # Move data to GPU (if exists)\n",
        "            images, labels = images.to(device), labels.to(device)  \n",
        "\n",
        "            # Predict\n",
        "            predictions = network(images)\n",
        "\n",
        "            # Get loss\n",
        "            loss = lossFunction(predictions, labels)\n",
        "\n",
        "            # Save loss for whole epoch\n",
        "            validLoss += loss.item()\n",
        "\n",
        "            # Calculate vaildation accuracy\n",
        "            _, predictions = torch.max(predictions, 1) \n",
        "            correctValid += (predictions == labels).sum().item() \n",
        "            totalValid += len(images)\n",
        "\n",
        "            #print(f'Epoch [{epoch+1}/{epochs}] Batch [{batch_nr}/{len(validLoader)}]')\n",
        "\n",
        "        validLoss /= len(validLoader)\n",
        "        validAccuracy = 100 * correctValid / totalValid\n",
        "        writer.add_scalar(f\"Loss/valid - {name}\", validLoss, epoch)\n",
        "        writer.add_scalar(f\"Accuracy/valid - {name}\", validAccuracy, epoch)\n",
        "\n",
        "        # Print reuslt of epoch\n",
        "        print(f'Epoch [{epoch+1}/{epochs}] \\t Training Loss: {trainLoss} \\t Validation Loss: {validLoss} \\t Traning Acc: {trainAccuracy}% \\t Validation Acc: {validAccuracy}%')\n",
        "\n",
        "    writer.flush()"
      ]
    },
    {
      "cell_type": "code",
      "execution_count": 24,
      "metadata": {
        "id": "3AGXTkltpHe9"
      },
      "outputs": [],
      "source": [
        "def testNetwork(network, device):\n",
        "    network.eval()\n",
        "    correctTest = 0\n",
        "    totalTest = 0\n",
        "\n",
        "    ### TESTING ###\n",
        "    with torch.no_grad(): \n",
        "        for batch_nr, (images, labels) in enumerate(testLoader):\n",
        "            # Move data to GPU (if exists)\n",
        "            images, labels = images.to(device), labels.to(device)  \n",
        "            \n",
        "            # Get predictions and get the amount of correct predicitons\n",
        "            predictions = network(images)\n",
        "            _, predictions = torch.max(predictions, 1) \n",
        "            correctTest += (predictions == labels).sum().item() \n",
        "            totalTest += len(images)\n",
        "            \n",
        "            #print(f'Batch [{batch_nr}/{len(testLoader)}]', end='\\r')\n",
        "        \n",
        "    print(f\"Test Accuracy: {100 * correctTest / totalTest}%\")"
      ]
    },
    {
      "cell_type": "code",
      "execution_count": 25,
      "metadata": {
        "id": "gRa5bklZpHe-"
      },
      "outputs": [],
      "source": [
        "class myAlexNet(nn.Module):\n",
        "    def __init__(self, pretrained):\n",
        "        super(myAlexNet,self).__init__()\n",
        "        self.alexNet = torchvision.models.alexnet(pretrained=pretrained)\n",
        "        self.out = nn.Linear(1000,10)\n",
        "    \n",
        "    def forward(self, x):\n",
        "        x = F.relu(self.alexNet.forward(x))\n",
        "        return self.out(x)\n"
      ]
    },
    {
      "cell_type": "code",
      "execution_count": 36,
      "metadata": {
        "id": "hxIRc9G8pHe_"
      },
      "outputs": [],
      "source": [
        "learningRate = 0.1\n",
        "epochs = 4"
      ]
    },
    {
      "cell_type": "code",
      "execution_count": 37,
      "metadata": {
        "id": "tKUFGLmppHe_"
      },
      "outputs": [],
      "source": [
        "networkNotTrained = myAlexNet(pretrained=False).to(device)"
      ]
    },
    {
      "cell_type": "code",
      "execution_count": 38,
      "metadata": {
        "id": "9skoJi6hpHfA"
      },
      "outputs": [],
      "source": [
        "optimizerAdam = torch.optim.Adam(networkNotTrained.parameters(), lr=learningRate)\n",
        "lossFunction = nn.CrossEntropyLoss().to(device)"
      ]
    },
    {
      "cell_type": "code",
      "execution_count": 39,
      "metadata": {
        "id": "u3FuHMrKpHfA",
        "outputId": "43afcf44-f3a6-4648-be23-7982227e4b4a",
        "colab": {
          "base_uri": "https://localhost:8080/"
        }
      },
      "outputs": [
        {
          "output_type": "execute_result",
          "data": {
            "text/plain": [
              "myAlexNet(\n",
              "  (alexNet): AlexNet(\n",
              "    (features): Sequential(\n",
              "      (0): Conv2d(3, 64, kernel_size=(11, 11), stride=(4, 4), padding=(2, 2))\n",
              "      (1): ReLU(inplace=True)\n",
              "      (2): MaxPool2d(kernel_size=3, stride=2, padding=0, dilation=1, ceil_mode=False)\n",
              "      (3): Conv2d(64, 192, kernel_size=(5, 5), stride=(1, 1), padding=(2, 2))\n",
              "      (4): ReLU(inplace=True)\n",
              "      (5): MaxPool2d(kernel_size=3, stride=2, padding=0, dilation=1, ceil_mode=False)\n",
              "      (6): Conv2d(192, 384, kernel_size=(3, 3), stride=(1, 1), padding=(1, 1))\n",
              "      (7): ReLU(inplace=True)\n",
              "      (8): Conv2d(384, 256, kernel_size=(3, 3), stride=(1, 1), padding=(1, 1))\n",
              "      (9): ReLU(inplace=True)\n",
              "      (10): Conv2d(256, 256, kernel_size=(3, 3), stride=(1, 1), padding=(1, 1))\n",
              "      (11): ReLU(inplace=True)\n",
              "      (12): MaxPool2d(kernel_size=3, stride=2, padding=0, dilation=1, ceil_mode=False)\n",
              "    )\n",
              "    (avgpool): AdaptiveAvgPool2d(output_size=(6, 6))\n",
              "    (classifier): Sequential(\n",
              "      (0): Dropout(p=0.5, inplace=False)\n",
              "      (1): Linear(in_features=9216, out_features=4096, bias=True)\n",
              "      (2): ReLU(inplace=True)\n",
              "      (3): Dropout(p=0.5, inplace=False)\n",
              "      (4): Linear(in_features=4096, out_features=4096, bias=True)\n",
              "      (5): ReLU(inplace=True)\n",
              "      (6): Linear(in_features=4096, out_features=1000, bias=True)\n",
              "    )\n",
              "  )\n",
              "  (out): Linear(in_features=1000, out_features=10, bias=True)\n",
              ")"
            ]
          },
          "metadata": {},
          "execution_count": 39
        }
      ],
      "source": [
        "networkNotTrained.eval()"
      ]
    },
    {
      "cell_type": "code",
      "execution_count": 40,
      "metadata": {
        "id": "R9bb3xbApHfA"
      },
      "outputs": [],
      "source": [
        "# trainNetwork(networkNotTrained, optimizerAdam, lossFunction, epochs, writer, device, \"Not pretrained\")"
      ]
    },
    {
      "cell_type": "code",
      "execution_count": 41,
      "metadata": {
        "id": "uh1Zux0PpHfB"
      },
      "outputs": [],
      "source": [
        "networkPretrained = myAlexNet(pretrained=True).to(device)"
      ]
    },
    {
      "cell_type": "code",
      "execution_count": 42,
      "metadata": {
        "id": "EH7aZmfepHfB"
      },
      "outputs": [],
      "source": [
        "for param in networkPretrained.alexNet.parameters():\n",
        "    param.requires_grad=False"
      ]
    },
    {
      "cell_type": "code",
      "execution_count": 43,
      "metadata": {
        "colab": {
          "base_uri": "https://localhost:8080/"
        },
        "id": "tpWpjJWtpHfB",
        "outputId": "11752345-38b2-449f-d571-18f625fde57f"
      },
      "outputs": [
        {
          "output_type": "stream",
          "name": "stdout",
          "text": [
            "Epoch [1/4] \t Training Loss: 3.2767356010898947 \t Validation Loss: 3.2716851165890692 \t Traning Acc: 13.295% \t Validation Acc: 13.62%\n",
            "Epoch [2/4] \t Training Loss: 3.2680626443997025 \t Validation Loss: 3.2637924730181695 \t Traning Acc: 13.2225% \t Validation Acc: 13.71%\n",
            "Epoch [3/4] \t Training Loss: 3.2711666959673167 \t Validation Loss: 3.277907961219549 \t Traning Acc: 13.3025% \t Validation Acc: 13.59%\n",
            "Epoch [4/4] \t Training Loss: 3.2712042504176497 \t Validation Loss: 3.2623383724987507 \t Traning Acc: 13.2% \t Validation Acc: 13.94%\n"
          ]
        }
      ],
      "source": [
        "trainNetwork(networkPretrained, optimizerAdam, lossFunction, epochs, writer, device, \"Pretrained weights\")"
      ]
    },
    {
      "cell_type": "code",
      "execution_count": 44,
      "metadata": {
        "id": "Q9f03t0_pHfC",
        "outputId": "33758016-46af-41b8-9b39-d89e81e190a5",
        "colab": {
          "base_uri": "https://localhost:8080/"
        }
      },
      "outputs": [
        {
          "output_type": "stream",
          "name": "stdout",
          "text": [
            "Test Accuracy: 13.05%\n"
          ]
        }
      ],
      "source": [
        "testNetwork(networkPretrained, device)"
      ]
    }
  ],
  "metadata": {
    "kernelspec": {
      "display_name": "Python 3",
      "language": "python",
      "name": "python3"
    },
    "language_info": {
      "codemirror_mode": {
        "name": "ipython",
        "version": 3
      },
      "file_extension": ".py",
      "mimetype": "text/x-python",
      "name": "python",
      "nbconvert_exporter": "python",
      "pygments_lexer": "ipython3",
      "version": "3.8.10"
    },
    "orig_nbformat": 4,
    "colab": {
      "provenance": []
    },
    "accelerator": "GPU",
    "gpuClass": "standard"
  },
  "nbformat": 4,
  "nbformat_minor": 0
}