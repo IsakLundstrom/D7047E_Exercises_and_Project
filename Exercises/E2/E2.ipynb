{
  "cells": [
    {
      "cell_type": "markdown",
      "metadata": {
        "id": "6Qi8iQrsmN8O"
      },
      "source": [
        "# Exercise 2"
      ]
    },
    {
      "cell_type": "code",
      "execution_count": 7,
      "metadata": {
        "id": "GXM4VtYFpHe0"
      },
      "outputs": [],
      "source": [
        "import torch\n",
        "import torch.cuda\n",
        "import torchvision\n",
        "import torchvision.transforms as transforms\n",
        "import torch.nn as nn\n",
        "import torch.nn.functional as F\n",
        "\n",
        "import numpy as np\n",
        "\n",
        "from torch.utils.tensorboard import SummaryWriter"
      ]
    },
    {
      "cell_type": "markdown",
      "metadata": {
        "id": "pY4sUY8amN8Y"
      },
      "source": [
        "## Transfer Learning from ImageNet"
      ]
    },
    {
      "cell_type": "markdown",
      "metadata": {
        "id": "Dk-9N4IHmN8Y"
      },
      "source": [
        "### Preprocess"
      ]
    },
    {
      "cell_type": "code",
      "execution_count": 8,
      "metadata": {
        "id": "-w_AvUyvmN8Y",
        "outputId": "6d874791-077d-4060-bbf5-a0ce92082875",
        "colab": {
          "base_uri": "https://localhost:8080/"
        }
      },
      "outputs": [
        {
          "output_type": "stream",
          "name": "stdout",
          "text": [
            "Using cuda\n"
          ]
        }
      ],
      "source": [
        "device = torch.device('cuda' if torch.cuda.is_available() else 'cpu')\n",
        "print(f\"Using {'cuda' if torch.cuda.is_available() else 'cpu'}\")"
      ]
    },
    {
      "cell_type": "code",
      "execution_count": null,
      "metadata": {
        "colab": {
          "base_uri": "https://localhost:8080/"
        },
        "id": "6pPFxgfepHe4",
        "outputId": "2c34e686-85b4-48d8-acc7-d99c89729ae3"
      },
      "outputs": [
        {
          "name": "stdout",
          "output_type": "stream",
          "text": [
            "Files already downloaded and verified\n",
            "Files already downloaded and verified\n",
            "Using cuda\n"
          ]
        }
      ],
      "source": [
        "# Load and normalizde the data\n",
        "\n",
        "transform = transforms.Compose(\n",
        "    [transforms.Resize(64),\n",
        "     transforms.ToTensor(),\n",
        "     transforms.Normalize((0.5, 0.5, 0.5), (0.5, 0.5, 0.5))])\n",
        "\n",
        "batchSize = 100\n",
        "validSize = 0.2 # use 20% of train set as validation\n",
        "\n",
        "trainValidSet = torchvision.datasets.CIFAR10(root='./data', train=True, download=True, transform=transform)\n",
        "testSet = torchvision.datasets.CIFAR10(root='./data', train=False, download=True, transform=transform)\n",
        "\n",
        "trainSet, validSet = torch.utils.data.random_split(trainValidSet, [int(len(trainValidSet)*(1-validSize)), int(len(trainValidSet)*validSize)])\n",
        "\n",
        "trainLoader = torch.utils.data.DataLoader(trainSet, batch_size=batchSize, shuffle=True)\n",
        "validLoader = torch.utils.data.DataLoader(validSet, batch_size=batchSize, shuffle=True)\n",
        "testLoader = torch.utils.data.DataLoader(testSet, batch_size=batchSize, shuffle=False)\n",
        "\n",
        "classes = ('plane', 'car', 'bird', 'cat', 'deer', 'dog', 'frog', 'horse', 'ship', 'truck')"
      ]
    },
    {
      "cell_type": "code",
      "execution_count": null,
      "metadata": {
        "id": "qtYEZmq_pHe5"
      },
      "outputs": [],
      "source": [
        "# Writer for tensorBoard\n",
        "writer = SummaryWriter()"
      ]
    },
    {
      "cell_type": "markdown",
      "metadata": {
        "id": "QU9kdyuXmN8b"
      },
      "source": [
        "### Define train and test functions"
      ]
    },
    {
      "cell_type": "code",
      "execution_count": 9,
      "metadata": {
        "id": "euNZay3kpHe7"
      },
      "outputs": [],
      "source": [
        "def trainNetwork(network, optimizer, lossFunction, trainLoader, validLoader, epochs, device, writer, name):\n",
        "    network.train()\n",
        "    for epoch in range(epochs):\n",
        "        \n",
        "        ### TRAINING ###\n",
        "        trainLoss = 0\n",
        "        correctTrain = 0\n",
        "        totalTrain = 0\n",
        "        for batch_nr, (images, labels) in enumerate(trainLoader):\n",
        "            # Move data to GPU (if exists)\n",
        "            images, labels = images.to(device), labels.to(device)  \n",
        "\n",
        "            # Predict\n",
        "            predictions = network(images)\n",
        "\n",
        "            # Get loss and backpropogate\n",
        "            loss = lossFunction(predictions, labels)\n",
        "            loss.backward() \n",
        "\n",
        "            # Optimize parameters (weights and biases) and remove gradients after\n",
        "            optimizer.step() \n",
        "            optimizer.zero_grad()\n",
        "\n",
        "            # Save loss for whole epoch\n",
        "            trainLoss += loss.item()\n",
        "            \n",
        "            # Calculate training accuracy\n",
        "            _, predictions = torch.max(predictions, 1) \n",
        "            correctTrain += (predictions == labels).sum().item() \n",
        "            totalTrain += len(images)\n",
        "\n",
        "            #print(f'Epoch [{epoch+1}/{epochs}] Batch [{batch_nr}/{len(trainLoader)}]')\n",
        "        \n",
        "\n",
        "        trainLoss /= len(trainLoader)\n",
        "        trainAccuracy = 100 * correctTrain / totalTrain\n",
        "        writer.add_scalar(f\"Loss/train - {name}\", trainLoss, epoch)\n",
        "        writer.add_scalar(f\"Accuracy/train - {name}\", trainAccuracy, epoch)\n",
        "\n",
        "        ### VALIDATION ###\n",
        "        validLoss = 0\n",
        "        correctValid = 0\n",
        "        totalValid = 0\n",
        "        for batch_nr, (images, labels) in enumerate(validLoader):\n",
        "            # Move data to GPU (if exists)\n",
        "            images, labels = images.to(device), labels.to(device)  \n",
        "\n",
        "            # Predict\n",
        "            predictions = network(images)\n",
        "\n",
        "            # Get loss\n",
        "            loss = lossFunction(predictions, labels)\n",
        "\n",
        "            # Save loss for whole epoch\n",
        "            validLoss += loss.item()\n",
        "\n",
        "            # Calculate vaildation accuracy\n",
        "            _, predictions = torch.max(predictions, 1) \n",
        "            correctValid += (predictions == labels).sum().item() \n",
        "            totalValid += len(images)\n",
        "\n",
        "            #print(f'Epoch [{epoch+1}/{epochs}] Batch [{batch_nr}/{len(validLoader)}]')\n",
        "\n",
        "        validLoss /= len(validLoader)\n",
        "        validAccuracy = 100 * correctValid / totalValid\n",
        "        writer.add_scalar(f\"Loss/valid - {name}\", validLoss, epoch)\n",
        "        writer.add_scalar(f\"Accuracy/valid - {name}\", validAccuracy, epoch)\n",
        "\n",
        "        # Print reuslt of epoch\n",
        "        print(f'Epoch [{epoch+1}/{epochs}] \\t Training Loss: {trainLoss} \\t Validation Loss: {validLoss} \\t Traning Acc: {trainAccuracy}% \\t Validation Acc: {validAccuracy}%')\n",
        "\n",
        "    writer.flush()"
      ]
    },
    {
      "cell_type": "code",
      "execution_count": 10,
      "metadata": {
        "id": "3AGXTkltpHe9"
      },
      "outputs": [],
      "source": [
        "def testNetwork(network, testLoader, device):\n",
        "    network.eval()\n",
        "    correctTest = 0\n",
        "    totalTest = 0\n",
        "\n",
        "    ### TESTING ###\n",
        "    with torch.no_grad(): \n",
        "        for batch_nr, (images, labels) in enumerate(testLoader):\n",
        "            # Move data to GPU (if exists)\n",
        "            images, labels = images.to(device), labels.to(device)  \n",
        "            \n",
        "            # Get predictions and get the amount of correct predicitons\n",
        "            predictions = network(images)\n",
        "            _, predictions = torch.max(predictions, 1) \n",
        "            correctTest += (predictions == labels).sum().item() \n",
        "            totalTest += len(images)\n",
        "            \n",
        "            #print(f'Batch [{batch_nr}/{len(testLoader)}]', end='\\r')\n",
        "        \n",
        "    print(f\"Test Accuracy: {100 * correctTest / totalTest}%\")"
      ]
    },
    {
      "cell_type": "markdown",
      "metadata": {
        "id": "JQC04bLFmN8c"
      },
      "source": [
        "### Define our AlexNet"
      ]
    },
    {
      "cell_type": "code",
      "execution_count": 18,
      "metadata": {
        "id": "gRa5bklZpHe-"
      },
      "outputs": [],
      "source": [
        "class myAlexNet(nn.Module):\n",
        "    def __init__(self, pretrained):\n",
        "        super(myAlexNet,self).__init__()\n",
        "        self.alexNet = torchvision.models.alexnet(pretrained=pretrained)\n",
        "        self.out = nn.Linear(1000,10)\n",
        "    \n",
        "    def forward(self, x):\n",
        "        x = F.relu(self.alexNet.forward(x))\n",
        "        # x = self.alexNet.forward(x)\n",
        "        return self.out(x)"
      ]
    },
    {
      "cell_type": "markdown",
      "metadata": {
        "id": "06juP4r0mN8d"
      },
      "source": [
        "### Train the network without pretrained weights"
      ]
    },
    {
      "cell_type": "code",
      "execution_count": 11,
      "metadata": {
        "id": "hxIRc9G8pHe_"
      },
      "outputs": [],
      "source": [
        "learningRate = 0.01"
      ]
    },
    {
      "cell_type": "code",
      "execution_count": 19,
      "metadata": {
        "id": "9skoJi6hpHfA",
        "outputId": "6544ba99-fc1f-46f0-8132-7e79605deeec",
        "colab": {
          "base_uri": "https://localhost:8080/"
        }
      },
      "outputs": [
        {
          "output_type": "stream",
          "name": "stderr",
          "text": [
            "/usr/local/lib/python3.9/dist-packages/torchvision/models/_utils.py:208: UserWarning: The parameter 'pretrained' is deprecated since 0.13 and may be removed in the future, please use 'weights' instead.\n",
            "  warnings.warn(\n",
            "/usr/local/lib/python3.9/dist-packages/torchvision/models/_utils.py:223: UserWarning: Arguments other than a weight enum or `None` for 'weights' are deprecated since 0.13 and may be removed in the future. The current behavior is equivalent to passing `weights=None`.\n",
            "  warnings.warn(msg)\n"
          ]
        }
      ],
      "source": [
        "epochs = 20\n",
        "networkNotTrained = myAlexNet(pretrained=False).to(device)\n",
        "\n",
        "optimizer = torch.optim.SGD(networkNotTrained.parameters(), lr=learningRate)\n",
        "lossFunction = nn.CrossEntropyLoss().to(device)"
      ]
    },
    {
      "cell_type": "code",
      "execution_count": null,
      "metadata": {
        "id": "u3FuHMrKpHfA"
      },
      "outputs": [],
      "source": [
        "# networkNotTrained.eval()"
      ]
    },
    {
      "cell_type": "code",
      "execution_count": null,
      "metadata": {
        "colab": {
          "base_uri": "https://localhost:8080/"
        },
        "id": "R9bb3xbApHfA",
        "outputId": "7224ee0b-689c-4e1d-acbf-82c07b09e1a9"
      },
      "outputs": [
        {
          "name": "stdout",
          "output_type": "stream",
          "text": [
            "Epoch [1/20] \t Training Loss: 2.3026793217658996 \t Validation Loss: 2.3028131341934204 \t Traning Acc: 10.08% \t Validation Acc: 9.68%\n",
            "Epoch [2/20] \t Training Loss: 2.3025830233097078 \t Validation Loss: 2.3027525472640993 \t Traning Acc: 10.085% \t Validation Acc: 9.67%\n",
            "Epoch [3/20] \t Training Loss: 2.3025386959314345 \t Validation Loss: 2.3026693534851073 \t Traning Acc: 10.095% \t Validation Acc: 9.76%\n",
            "Epoch [4/20] \t Training Loss: 2.3024898266792295 \t Validation Loss: 2.3026162791252136 \t Traning Acc: 10.1175% \t Validation Acc: 10.08%\n",
            "Epoch [5/20] \t Training Loss: 2.3024277901649475 \t Validation Loss: 2.3025527930259706 \t Traning Acc: 10.7725% \t Validation Acc: 10.18%\n",
            "Epoch [6/20] \t Training Loss: 2.3023615777492523 \t Validation Loss: 2.3024608635902406 \t Traning Acc: 10.9925% \t Validation Acc: 9.67%\n",
            "Epoch [7/20] \t Training Loss: 2.3022643733024597 \t Validation Loss: 2.302339415550232 \t Traning Acc: 10.775% \t Validation Acc: 9.8%\n",
            "Epoch [8/20] \t Training Loss: 2.3021331268548964 \t Validation Loss: 2.302150933742523 \t Traning Acc: 10.4225% \t Validation Acc: 10.52%\n",
            "Epoch [9/20] \t Training Loss: 2.3019325059652327 \t Validation Loss: 2.301919515132904 \t Traning Acc: 11.5325% \t Validation Acc: 9.96%\n",
            "Epoch [10/20] \t Training Loss: 2.3015686464309693 \t Validation Loss: 2.301464419364929 \t Traning Acc: 11.3075% \t Validation Acc: 9.89%\n",
            "Epoch [11/20] \t Training Loss: 2.3008816081285475 \t Validation Loss: 2.300422921180725 \t Traning Acc: 11.575% \t Validation Acc: 12.15%\n",
            "Epoch [12/20] \t Training Loss: 2.298944591283798 \t Validation Loss: 2.2967225646972658 \t Traning Acc: 13.315% \t Validation Acc: 12.62%\n",
            "Epoch [13/20] \t Training Loss: 2.283506944179535 \t Validation Loss: 2.2479551649093628 \t Traning Acc: 12.705% \t Validation Acc: 14.54%\n",
            "Epoch [14/20] \t Training Loss: 2.1660466223955153 \t Validation Loss: 2.09947323679924 \t Traning Acc: 17.1075% \t Validation Acc: 18.73%\n",
            "Epoch [15/20] \t Training Loss: 2.048452745974064 \t Validation Loss: 2.0151871824264527 \t Traning Acc: 18.93% \t Validation Acc: 19.15%\n",
            "Epoch [16/20] \t Training Loss: 1.98569554656744 \t Validation Loss: 1.9603089308738708 \t Traning Acc: 19.3575% \t Validation Acc: 20.1%\n",
            "Epoch [17/20] \t Training Loss: 1.9471775594353675 \t Validation Loss: 1.925287184715271 \t Traning Acc: 20.0225% \t Validation Acc: 20.61%\n",
            "Epoch [18/20] \t Training Loss: 1.914286935031414 \t Validation Loss: 1.894359724521637 \t Traning Acc: 21.0125% \t Validation Acc: 22.18%\n",
            "Epoch [19/20] \t Training Loss: 1.8872115263342857 \t Validation Loss: 1.8718489921092987 \t Traning Acc: 23.1275% \t Validation Acc: 22.8%\n",
            "Epoch [20/20] \t Training Loss: 1.854610742032528 \t Validation Loss: 1.8368490791320802 \t Traning Acc: 24.7275% \t Validation Acc: 24.66%\n"
          ]
        }
      ],
      "source": [
        "trainNetwork(networkNotTrained, optimizer, lossFunction, trainLoader, validLoader, epochs, device, writer, \"Not pretrained\")"
      ]
    },
    {
      "cell_type": "code",
      "execution_count": null,
      "metadata": {
        "colab": {
          "base_uri": "https://localhost:8080/"
        },
        "id": "0fMsziX5Pv0D",
        "outputId": "d88d1357-ca74-4a4c-c20d-f79278054961"
      },
      "outputs": [
        {
          "name": "stdout",
          "output_type": "stream",
          "text": [
            "Test Accuracy: 25.13%\n"
          ]
        }
      ],
      "source": [
        "testNetwork(networkNotTrained, testLoader, device)"
      ]
    },
    {
      "cell_type": "markdown",
      "metadata": {
        "id": "0s3A_FmzmN8e"
      },
      "source": [
        "### Finetune the network with pretrained weights"
      ]
    },
    {
      "cell_type": "code",
      "execution_count": null,
      "metadata": {
        "colab": {
          "base_uri": "https://localhost:8080/"
        },
        "id": "uh1Zux0PpHfB",
        "outputId": "6622d837-5d8a-4831-e32a-c88c3cef9d9b"
      },
      "outputs": [
        {
          "name": "stderr",
          "output_type": "stream",
          "text": [
            "/usr/local/lib/python3.9/dist-packages/torchvision/models/_utils.py:208: UserWarning: The parameter 'pretrained' is deprecated since 0.13 and may be removed in the future, please use 'weights' instead.\n",
            "  warnings.warn(\n",
            "/usr/local/lib/python3.9/dist-packages/torchvision/models/_utils.py:223: UserWarning: Arguments other than a weight enum or `None` for 'weights' are deprecated since 0.13 and may be removed in the future. The current behavior is equivalent to passing `weights=AlexNet_Weights.IMAGENET1K_V1`. You can also use `weights=AlexNet_Weights.DEFAULT` to get the most up-to-date weights.\n",
            "  warnings.warn(msg)\n"
          ]
        }
      ],
      "source": [
        "epochs = 10\n",
        "networkPretrained = myAlexNet(pretrained=True).to(device)\n",
        "\n",
        "for param in networkPretrained.alexNet.parameters():\n",
        "    param.requires_grad=False\n",
        " \n",
        "optimizer = torch.optim.SGD(networkPretrained.parameters(), lr=learningRate)"
      ]
    },
    {
      "cell_type": "code",
      "execution_count": null,
      "metadata": {
        "colab": {
          "base_uri": "https://localhost:8080/"
        },
        "id": "tpWpjJWtpHfB",
        "outputId": "aef46361-7893-4f55-e928-68f7caaf303b"
      },
      "outputs": [
        {
          "name": "stdout",
          "output_type": "stream",
          "text": [
            "Epoch [1/10] \t Training Loss: 3.0843573772907256 \t Validation Loss: 2.2896007752418517 \t Traning Acc: 41.16% \t Validation Acc: 44.44%\n",
            "Epoch [2/10] \t Training Loss: 2.5662552347779273 \t Validation Loss: 2.8435751891136167 \t Traning Acc: 46.575% \t Validation Acc: 45.74%\n",
            "Epoch [3/10] \t Training Loss: 2.4675160971283914 \t Validation Loss: 3.181151692867279 \t Traning Acc: 48.1475% \t Validation Acc: 45.25%\n",
            "Epoch [4/10] \t Training Loss: 2.3435420536994935 \t Validation Loss: 2.990860027074814 \t Traning Acc: 48.605% \t Validation Acc: 44.33%\n",
            "Epoch [5/10] \t Training Loss: 2.3538567152619363 \t Validation Loss: 3.086433701515198 \t Traning Acc: 49.6425% \t Validation Acc: 42.17%\n",
            "Epoch [6/10] \t Training Loss: 2.298509730696678 \t Validation Loss: 2.0730548346042634 \t Traning Acc: 49.735% \t Validation Acc: 50.95%\n",
            "Epoch [7/10] \t Training Loss: 2.30906494140625 \t Validation Loss: 2.8714713084697725 \t Traning Acc: 49.69% \t Validation Acc: 48.52%\n",
            "Epoch [8/10] \t Training Loss: 2.28601520717144 \t Validation Loss: 2.498085582256317 \t Traning Acc: 50.31% \t Validation Acc: 47.51%\n",
            "Epoch [9/10] \t Training Loss: 2.2642945685982703 \t Validation Loss: 2.5855478620529175 \t Traning Acc: 50.365% \t Validation Acc: 47.02%\n",
            "Epoch [10/10] \t Training Loss: 2.1677496522665023 \t Validation Loss: 1.6604162907600404 \t Traning Acc: 51.2175% \t Validation Acc: 54.88%\n"
          ]
        }
      ],
      "source": [
        "trainNetwork(networkPretrained, optimizer, lossFunction, trainLoader, validLoader, epochs, device, writer, \"Pretrained weights\")"
      ]
    },
    {
      "cell_type": "code",
      "execution_count": null,
      "metadata": {
        "colab": {
          "base_uri": "https://localhost:8080/"
        },
        "id": "Q9f03t0_pHfC",
        "outputId": "be299f81-0a0b-4c69-dc2a-d57cb4f27da0"
      },
      "outputs": [
        {
          "name": "stdout",
          "output_type": "stream",
          "text": [
            "Test Accuracy: 57.5%\n"
          ]
        }
      ],
      "source": [
        "testNetwork(networkPretrained, testLoader, device)"
      ]
    },
    {
      "cell_type": "markdown",
      "metadata": {
        "id": "k9Kz30WJmN8g"
      },
      "source": [
        "## Transfer Learning from MNIST"
      ]
    },
    {
      "cell_type": "code",
      "execution_count": 95,
      "metadata": {
        "id": "d2H_1rxGxRsR"
      },
      "outputs": [],
      "source": [
        "# Load and normalizde the MNIST data\n",
        "transform2 = transforms.Compose(\n",
        "    [transforms.ToTensor(),\n",
        "     transforms.Normalize(0.5, 0.5)])\n",
        "\n",
        "batchSize2 = 500\n",
        "validSize2 = 0.2 # use 20% of train set as validation\n",
        "\n",
        "trainValidSet2 = torchvision.datasets.MNIST(root='./data', train=True, download=True, transform=transform2)\n",
        "testSet2 = torchvision.datasets.MNIST(root='./data', train=False, download=True, transform=transform2)\n",
        "\n",
        "trainSet2, validSet2 = torch.utils.data.random_split(trainValidSet2, [int(len(trainValidSet2)*(1-validSize2)), int(len(trainValidSet2)*validSize2)])\n",
        "\n",
        "trainLoader2 = torch.utils.data.DataLoader(trainSet2, batch_size=batchSize2, shuffle=True)\n",
        "validLoader2 = torch.utils.data.DataLoader(validSet2, batch_size=batchSize2, shuffle=True)\n",
        "testLoader2 = torch.utils.data.DataLoader(testSet2, batch_size=batchSize2, shuffle=False)\n"
      ]
    },
    {
      "cell_type": "code",
      "source": [
        "len(trainLoader2)*batchSize2, len(validLoader2)*batchSize2, len(testLoader2)*batchSize2"
      ],
      "metadata": {
        "id": "U5cVDLugn_tw",
        "outputId": "b49fdbad-0f9c-4606-a619-c0bd0f1a1dab",
        "colab": {
          "base_uri": "https://localhost:8080/"
        }
      },
      "execution_count": 96,
      "outputs": [
        {
          "output_type": "execute_result",
          "data": {
            "text/plain": [
              "(48000, 12000, 10000)"
            ]
          },
          "metadata": {},
          "execution_count": 96
        }
      ]
    },
    {
      "cell_type": "code",
      "execution_count": 97,
      "metadata": {
        "id": "18TE6UOEyYMG"
      },
      "outputs": [],
      "source": [
        "# New writer\n",
        "writer2 = SummaryWriter()"
      ]
    },
    {
      "cell_type": "code",
      "execution_count": 98,
      "metadata": {
        "id": "Zng9zJuqmN8i"
      },
      "outputs": [],
      "source": [
        "# Define the network class\n",
        "class ConvNet(nn.Module):\n",
        "    def __init__(self, activation):\n",
        "        super().__init__()\n",
        "        self.conv1 = nn.Conv2d(1, 6, 4)\n",
        "        self.pool = nn.MaxPool2d(2, 2)\n",
        "        self.conv2 = nn.Conv2d(6, 16, 4)\n",
        "        self.fc1 = nn.Linear(16 * 4 * 4, 250)\n",
        "        self.fc2 = nn.Linear(250, 10)\n",
        "        self.activation = activation\n",
        "\n",
        "    def forward(self, x):\n",
        "        x = self.pool(self.activation(self.conv1(x)))\n",
        "        x = self.pool(self.activation(self.conv2(x)))\n",
        "        x = torch.flatten(x, 1) # flatten all dimensions except batch\n",
        "        x = self.activation(self.fc1(x))\n",
        "        x = self.fc2(x)\n",
        "        return x"
      ]
    },
    {
      "cell_type": "code",
      "execution_count": 99,
      "metadata": {
        "id": "zuXk6V2NmN8k"
      },
      "outputs": [],
      "source": [
        "learningRate = 0.005\n",
        "epochs = 15\n",
        "networkMnist= ConvNet(F.leaky_relu).to(device)\n",
        "\n",
        "optimizer = torch.optim.SGD(networkMnist.parameters(), lr=learningRate)"
      ]
    },
    {
      "cell_type": "code",
      "execution_count": 100,
      "metadata": {
        "id": "6NLrm47mmN8l",
        "outputId": "58ee420f-00b8-402d-ce23-72ce3368fd70",
        "colab": {
          "base_uri": "https://localhost:8080/"
        }
      },
      "outputs": [
        {
          "output_type": "stream",
          "name": "stdout",
          "text": [
            "Epoch [1/15] \t Training Loss: 2.296883443991343 \t Validation Loss: 2.290855129559835 \t Traning Acc: 13.329166666666667% \t Validation Acc: 15.766666666666667%\n",
            "Epoch [2/15] \t Training Loss: 2.2849808782339096 \t Validation Loss: 2.278302480777105 \t Traning Acc: 19.791666666666668% \t Validation Acc: 24.55%\n",
            "Epoch [3/15] \t Training Loss: 2.270891547203064 \t Validation Loss: 2.2622206707795462 \t Traning Acc: 29.95% \t Validation Acc: 36.858333333333334%\n",
            "Epoch [4/15] \t Training Loss: 2.2513921360174813 \t Validation Loss: 2.2384622991085052 \t Traning Acc: 43.57083333333333% \t Validation Acc: 51.1%\n",
            "Epoch [5/15] \t Training Loss: 2.2207054272294044 \t Validation Loss: 2.1990991830825806 \t Traning Acc: 57.46875% \t Validation Acc: 63.266666666666666%\n",
            "Epoch [6/15] \t Training Loss: 2.167109899222851 \t Validation Loss: 2.127541015545527 \t Traning Acc: 66.66458333333334% \t Validation Acc: 70.29166666666667%\n",
            "Epoch [7/15] \t Training Loss: 2.0644749999046326 \t Validation Loss: 1.983949601650238 \t Traning Acc: 71.63125% \t Validation Acc: 72.36666666666666%\n",
            "Epoch [8/15] \t Training Loss: 1.8500042259693146 \t Validation Loss: 1.683195799589157 \t Traning Acc: 71.98125% \t Validation Acc: 72.41666666666667%\n",
            "Epoch [9/15] \t Training Loss: 1.456892089297374 \t Validation Loss: 1.2234717508157094 \t Traning Acc: 74.94375% \t Validation Acc: 77.375%\n",
            "Epoch [10/15] \t Training Loss: 1.014161438991626 \t Validation Loss: 0.8402486791213354 \t Traning Acc: 80.88333333333334% \t Validation Acc: 82.48333333333333%\n",
            "Epoch [11/15] \t Training Loss: 0.7157234692325195 \t Validation Loss: 0.6232088729739189 \t Traning Acc: 84.70833333333333% \t Validation Acc: 85.10833333333333%\n",
            "Epoch [12/15] \t Training Loss: 0.5522168111056089 \t Validation Loss: 0.505816305677096 \t Traning Acc: 86.71041666666666% \t Validation Acc: 87.06666666666666%\n",
            "Epoch [13/15] \t Training Loss: 0.4610135704278946 \t Validation Loss: 0.4363504648208618 \t Traning Acc: 88.1% \t Validation Acc: 88.35%\n",
            "Epoch [14/15] \t Training Loss: 0.40574134048074484 \t Validation Loss: 0.3926893137395382 \t Traning Acc: 89.11666666666666% \t Validation Acc: 89.16666666666667%\n",
            "Epoch [15/15] \t Training Loss: 0.3691828145335118 \t Validation Loss: 0.3630119500060876 \t Traning Acc: 89.84583333333333% \t Validation Acc: 89.74166666666666%\n"
          ]
        }
      ],
      "source": [
        "trainNetwork(networkMnist, optimizer, lossFunction, trainLoader2, validLoader2, epochs, device, writer2, \"Train on MNIST\")"
      ]
    },
    {
      "cell_type": "code",
      "source": [
        "testNetwork(networkMnist, testLoader2, device)"
      ],
      "metadata": {
        "id": "5ZI1Iynqq0My",
        "outputId": "8731edac-829e-4246-cf75-13aade9187d6",
        "colab": {
          "base_uri": "https://localhost:8080/"
        }
      },
      "execution_count": 101,
      "outputs": [
        {
          "output_type": "stream",
          "name": "stdout",
          "text": [
            "Test Accuracy: 90.51%\n"
          ]
        }
      ]
    },
    {
      "cell_type": "code",
      "source": [
        "# Load and normalizde the SVHN data\n",
        "transform3 = transforms.Compose(\n",
        "    [transforms.Grayscale(),\n",
        "     transforms.Resize(28),\n",
        "     transforms.ToTensor(),\n",
        "     transforms.Normalize(0.5, 0.5)])\n",
        "\n",
        "batchSize3 = 500\n",
        "validSplit3 = 0.2 # use 20% of train set as validation\n",
        "\n",
        "trainValidSet3 = torchvision.datasets.SVHN(root='./data', split='train', download=True, transform=transform3)\n",
        "testSet3 = torchvision.datasets.SVHN(root='./data', split='test', download=True, transform=transform3)\n",
        "\n",
        "validSize3 = int(np.ceil(len(trainValidSet3)*validSplit3))\n",
        "trainSize3 = int(np.floor(len(trainValidSet3)*(1-validSplit3)))\n",
        "\n",
        "trainSet3, validSet3 = torch.utils.data.random_split(trainValidSet3, [trainSize3, validSize3])\n",
        "\n",
        "trainLoader3 = torch.utils.data.DataLoader(trainSet3, batch_size=batchSize3, shuffle=True)\n",
        "validLoader3 = torch.utils.data.DataLoader(validSet3, batch_size=batchSize3, shuffle=True)\n",
        "testLoader3 = torch.utils.data.DataLoader(testSet3, batch_size=batchSize3, shuffle=False)"
      ],
      "metadata": {
        "id": "RVpQQ41ZrAXs",
        "outputId": "ccd4b70f-d0be-4d4a-a25e-cae64610afab",
        "colab": {
          "base_uri": "https://localhost:8080/"
        }
      },
      "execution_count": 102,
      "outputs": [
        {
          "output_type": "stream",
          "name": "stdout",
          "text": [
            "Using downloaded and verified file: ./data/train_32x32.mat\n",
            "Using downloaded and verified file: ./data/test_32x32.mat\n"
          ]
        }
      ]
    },
    {
      "cell_type": "code",
      "source": [
        "len(trainLoader3)*batchSize3, len(validLoader3)*batchSize3, len(testLoader3)*batchSize3"
      ],
      "metadata": {
        "id": "3sgZicV7x8HT",
        "outputId": "a716aa7c-58f4-484c-9dc0-efa03bb77864",
        "colab": {
          "base_uri": "https://localhost:8080/"
        }
      },
      "execution_count": 103,
      "outputs": [
        {
          "output_type": "execute_result",
          "data": {
            "text/plain": [
              "(59000, 15000, 26500)"
            ]
          },
          "metadata": {},
          "execution_count": 103
        }
      ]
    },
    {
      "cell_type": "code",
      "source": [
        "testNetwork(networkMnist, testLoader3, device)"
      ],
      "metadata": {
        "id": "AFqR-y7ft2oD",
        "outputId": "02e66532-4dde-47f4-ed11-1c8cd3085c31",
        "colab": {
          "base_uri": "https://localhost:8080/"
        }
      },
      "execution_count": 104,
      "outputs": [
        {
          "output_type": "stream",
          "name": "stdout",
          "text": [
            "Test Accuracy: 15.269668100799016%\n"
          ]
        }
      ]
    },
    {
      "cell_type": "code",
      "source": [
        "# Freeze all layers except the last\n",
        "for name, param in networkMnist.named_parameters():\n",
        "    if not name.startswith('fc2'):\n",
        "      param.requires_grad=False\n",
        "\n",
        "    print(name, param.requires_grad)"
      ],
      "metadata": {
        "id": "BPb8o9uht-2N",
        "outputId": "0ccf5702-8d9b-4704-d26f-9d16f932eba1",
        "colab": {
          "base_uri": "https://localhost:8080/"
        }
      },
      "execution_count": 105,
      "outputs": [
        {
          "output_type": "stream",
          "name": "stdout",
          "text": [
            "conv1.weight False\n",
            "conv1.bias False\n",
            "conv2.weight False\n",
            "conv2.bias False\n",
            "fc1.weight False\n",
            "fc1.bias False\n",
            "fc2.weight True\n",
            "fc2.bias True\n"
          ]
        }
      ]
    },
    {
      "cell_type": "code",
      "source": [
        "learningRate = 0.01\n",
        "epochs = 10\n",
        "\n",
        "optimizer = torch.optim.SGD(networkMnist.parameters(), lr=learningRate)"
      ],
      "metadata": {
        "id": "f0tjs9kBupCk"
      },
      "execution_count": 106,
      "outputs": []
    },
    {
      "cell_type": "code",
      "source": [
        "trainNetwork(networkMnist, optimizer, lossFunction, trainLoader3, validLoader3, epochs, device, writer2, \"Transfer: MNIST -> SVHN\")"
      ],
      "metadata": {
        "id": "iGELuF0Budrh",
        "outputId": "729f52c5-d02d-462b-e48d-1e311628111b",
        "colab": {
          "base_uri": "https://localhost:8080/"
        }
      },
      "execution_count": 107,
      "outputs": [
        {
          "output_type": "stream",
          "name": "stdout",
          "text": [
            "Epoch [1/10] \t Training Loss: 2.4369272094661905 \t Validation Loss: 2.3390326499938965 \t Traning Acc: 16.71359099052982% \t Validation Acc: 18.46164346164346%\n",
            "Epoch [2/10] \t Training Loss: 2.30655574798584 \t Validation Loss: 2.266480867067973 \t Traning Acc: 18.91476836447402% \t Validation Acc: 20.283920283920285%\n",
            "Epoch [3/10] \t Training Loss: 2.2520525657524497 \t Validation Loss: 2.22709809144338 \t Traning Acc: 20.90265335722208% \t Validation Acc: 21.758121758121757%\n",
            "Epoch [4/10] \t Training Loss: 2.21552741729607 \t Validation Loss: 2.196042847633362 \t Traning Acc: 22.499786707618803% \t Validation Acc: 23.273273273273272%\n",
            "Epoch [5/10] \t Training Loss: 2.189835889864776 \t Validation Loss: 2.1714516003926594 \t Traning Acc: 23.5508915621534% \t Validation Acc: 25.273000273000275%\n",
            "Epoch [6/10] \t Training Loss: 2.171414563211344 \t Validation Loss: 2.158894944190979 \t Traning Acc: 24.450132241276343% \t Validation Acc: 24.706524706524707%\n",
            "Epoch [7/10] \t Training Loss: 2.155778416132523 \t Validation Loss: 2.142146341005961 \t Traning Acc: 25.072945994369082% \t Validation Acc: 26.22850122850123%\n",
            "Epoch [8/10] \t Training Loss: 2.144129025734077 \t Validation Loss: 2.1294334570566815 \t Traning Acc: 25.47734834911697% \t Validation Acc: 26.562926562926563%\n",
            "Epoch [9/10] \t Training Loss: 2.131628252692142 \t Validation Loss: 2.1190460602442425 \t Traning Acc: 26.088217728862723% \t Validation Acc: 27.054327054327054%\n",
            "Epoch [10/10] \t Training Loss: 2.121596988985094 \t Validation Loss: 2.110942538579305 \t Traning Acc: 26.489207405511475% \t Validation Acc: 27.265902265902266%\n"
          ]
        }
      ]
    },
    {
      "cell_type": "code",
      "source": [
        "testNetwork(networkMnist, testLoader3, device)"
      ],
      "metadata": {
        "id": "n8BqQaQp1Npw",
        "outputId": "4ab0863e-42da-4a58-af14-b1c108df28a6",
        "colab": {
          "base_uri": "https://localhost:8080/"
        }
      },
      "execution_count": 108,
      "outputs": [
        {
          "output_type": "stream",
          "name": "stdout",
          "text": [
            "Test Accuracy: 26.052550706822373%\n"
          ]
        }
      ]
    }
  ],
  "metadata": {
    "accelerator": "GPU",
    "colab": {
      "provenance": []
    },
    "gpuClass": "standard",
    "kernelspec": {
      "display_name": "Python 3",
      "language": "python",
      "name": "python3"
    },
    "language_info": {
      "codemirror_mode": {
        "name": "ipython",
        "version": 3
      },
      "file_extension": ".py",
      "mimetype": "text/x-python",
      "name": "python",
      "nbconvert_exporter": "python",
      "pygments_lexer": "ipython3",
      "version": "3.8.10"
    },
    "orig_nbformat": 4
  },
  "nbformat": 4,
  "nbformat_minor": 0
}