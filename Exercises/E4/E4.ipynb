{
  "cells": [
    {
      "cell_type": "markdown",
      "source": [
        "# Exercise 4"
      ],
      "metadata": {
        "id": "nESg9d_efiid"
      }
    },
    {
      "cell_type": "markdown",
      "source": [
        "## Task 1"
      ],
      "metadata": {
        "id": "ZlCifcgBflN-"
      }
    },
    {
      "cell_type": "code",
      "execution_count": 1,
      "metadata": {
        "colab": {
          "base_uri": "https://localhost:8080/"
        },
        "id": "ZcrtcY2AW4vR",
        "outputId": "364b87ec-478f-4e8d-f523-56a325400ea2"
      },
      "outputs": [
        {
          "output_type": "stream",
          "name": "stdout",
          "text": [
            "Looking in indexes: https://pypi.org/simple, https://us-python.pkg.dev/colab-wheels/public/simple/\n",
            "Requirement already satisfied: unidecode in /usr/local/lib/python3.9/dist-packages (1.3.6)\n"
          ]
        }
      ],
      "source": [
        "!pip install unidecode"
      ]
    },
    {
      "cell_type": "code",
      "execution_count": 2,
      "metadata": {
        "id": "z2PyHGytW3bz"
      },
      "outputs": [],
      "source": [
        "import torch\n",
        "import torch.nn as nn\n",
        "from torch.autograd import Variable\n",
        "import argparse\n",
        "import os\n",
        "import unidecode\n",
        "import string\n",
        "import random\n",
        "import time\n",
        "import math\n",
        "import torch\n",
        "\n",
        "from tqdm import tqdm"
      ]
    },
    {
      "cell_type": "code",
      "execution_count": 3,
      "metadata": {
        "id": "sOAx3wI0W3cB",
        "colab": {
          "base_uri": "https://localhost:8080/"
        },
        "outputId": "dc6e2e8f-4072-4afd-8bad-66cd4d05a0de"
      },
      "outputs": [
        {
          "output_type": "stream",
          "name": "stdout",
          "text": [
            "Using CUDA\n"
          ]
        }
      ],
      "source": [
        "class Args():\n",
        "    def __init__(self):\n",
        "        self.filename = 'filename'\n",
        "        self.model = \"gru\"\n",
        "        self.n_epochs = 500\n",
        "        self.print_every = 100\n",
        "        self.hidden_size = 100\n",
        "        self.n_layers = 2\n",
        "        self.learning_rate = 0.01\n",
        "        self.chunk_len = 200\n",
        "        self.batch_size = 100\n",
        "        self.shuffle = True\n",
        "        self.cuda = False\n",
        "\n",
        "args = Args()\n",
        "args.filename = 'shakespeare.txt'\n",
        "\n",
        "if torch.cuda.is_available():\n",
        "    args.cuda = True\n",
        "\n",
        "if args.cuda:\n",
        "    print(\"Using CUDA\")"
      ]
    },
    {
      "cell_type": "code",
      "execution_count": 4,
      "metadata": {
        "id": "7Sowz2fEW3cD"
      },
      "outputs": [],
      "source": [
        "class CharRNN(nn.Module):\n",
        "    def __init__(self, input_size, hidden_size, output_size, model=\"gru\", n_layers=1):\n",
        "        super(CharRNN, self).__init__()\n",
        "        self.model = model.lower()\n",
        "        self.input_size = input_size\n",
        "        self.hidden_size = hidden_size\n",
        "        self.output_size = output_size\n",
        "        self.n_layers = n_layers\n",
        "\n",
        "        self.encoder = nn.Embedding(input_size, hidden_size)\n",
        "        if self.model == \"gru\":\n",
        "            self.rnn = nn.GRU(hidden_size, hidden_size, n_layers)\n",
        "        elif self.model == \"lstm\":\n",
        "            self.rnn = nn.LSTM(hidden_size, hidden_size, n_layers)\n",
        "        self.decoder = nn.Linear(hidden_size, output_size)\n",
        "\n",
        "    def forward(self, input, hidden):\n",
        "        batch_size = input.size(0)\n",
        "        encoded = self.encoder(input)\n",
        "        output, hidden = self.rnn(encoded.view(1, batch_size, -1), hidden)\n",
        "        output = self.decoder(output.view(batch_size, -1))\n",
        "        return output, hidden\n",
        "\n",
        "    def forward2(self, input, hidden):\n",
        "        encoded = self.encoder(input.view(1, -1))\n",
        "        output, hidden = self.rnn(encoded.view(1, 1, -1), hidden)\n",
        "        output = self.decoder(output.view(1, -1))\n",
        "        return output, hidden\n",
        "\n",
        "    def init_hidden(self, batch_size):\n",
        "        if self.model == \"lstm\":\n",
        "            return (Variable(torch.zeros(self.n_layers, batch_size, self.hidden_size)),\n",
        "                    Variable(torch.zeros(self.n_layers, batch_size, self.hidden_size)))\n",
        "        return Variable(torch.zeros(self.n_layers, batch_size, self.hidden_size))"
      ]
    },
    {
      "cell_type": "code",
      "execution_count": 5,
      "metadata": {
        "id": "kI6clwgCW3cK"
      },
      "outputs": [],
      "source": [
        "# Reading and un-unicode-encoding data\n",
        "\n",
        "all_characters = string.printable\n",
        "n_characters = len(all_characters)\n",
        "\n",
        "def read_file(filename):\n",
        "    file = unidecode.unidecode(open(filename).read())\n",
        "    return file, len(file)\n",
        "\n",
        "file, file_len = read_file(args.filename)\n",
        "\n",
        "# Turning a string into a tensor\n",
        "\n",
        "def char_tensor(string):\n",
        "    tensor = torch.zeros(len(string)).long()\n",
        "    for c in range(len(string)):\n",
        "        try:\n",
        "            tensor[c] = all_characters.index(string[c])\n",
        "        except:\n",
        "            continue\n",
        "    return tensor\n",
        "\n",
        "# Readable time elapsed\n",
        "\n",
        "def time_since(since):\n",
        "    s = time.time() - since\n",
        "    m = math.floor(s / 60)\n",
        "    s -= m * 60\n",
        "    return '%dm %ds' % (m, s)"
      ]
    },
    {
      "cell_type": "code",
      "execution_count": 6,
      "metadata": {
        "id": "HAHXDanCW3cM"
      },
      "outputs": [],
      "source": [
        "def generate(decoder, prime_str='A', predict_len=100, temperature=0.8, cuda=False, tensor_fn=char_tensor, chars=all_characters, word = False):\n",
        "    predicted = prime_str\n",
        "    \n",
        "    if word:\n",
        "      prime_str = prime_str.split()\n",
        "      #print(prime_str)\n",
        "\n",
        "    hidden = decoder.init_hidden(1)\n",
        "    prime_input = Variable(tensor_fn(prime_str).unsqueeze(0))\n",
        "\n",
        "    if cuda:\n",
        "        hidden = hidden.cuda()\n",
        "        prime_input = prime_input.cuda()\n",
        "    \n",
        "    inp = prime_input[:,-1]\n",
        "    \n",
        "    # Use priming string to \"build up\" hidden state\n",
        "    for p in range(len(prime_str) - 1):\n",
        "        _, hidden = decoder(prime_input[:,p], hidden)\n",
        "        \n",
        "    #print(len(prime_input), len(inp), len(hidden))\n",
        "    \n",
        "    for p in range(predict_len):\n",
        "        #print(inp.shape, hidden.shape)\n",
        "        output, hidden = decoder(inp, hidden)\n",
        "        #print(len(output), len(hidden))\n",
        "        \n",
        "        # Sample from the network as a multinomial distribution\n",
        "        output_dist = output.data.view(-1).div(temperature).exp()\n",
        "        top_i = torch.multinomial(output_dist, 1)[0]\n",
        "\n",
        "        # Add predicted character to string and use as next input\n",
        "        if word:\n",
        "          predicted += \" \"\n",
        "          #print(top_i, top_i.item(), chars[top_i.item()])\n",
        "          top_i = top_i.item()\n",
        "        predicted_char = chars[top_i]\n",
        "        predicted += predicted_char\n",
        "        inp = Variable(tensor_fn([predicted_char]).unsqueeze(0))\n",
        "        if cuda:\n",
        "            inp = inp.cuda()\n",
        "\n",
        "    return predicted"
      ]
    },
    {
      "cell_type": "code",
      "execution_count": 7,
      "metadata": {
        "id": "fTvJes0-W3cO"
      },
      "outputs": [],
      "source": [
        "\n",
        "def random_training_set(args, file=file, file_len=file_len, tensor_fn=char_tensor):\n",
        "    inp = torch.LongTensor(args.batch_size, args.chunk_len)\n",
        "    target = torch.LongTensor(args.batch_size, args.chunk_len)\n",
        "    for bi in range(args.batch_size):\n",
        "        start_index = random.randint(0, file_len - args.chunk_len - 1)\n",
        "        end_index = start_index + args.chunk_len + 1\n",
        "        chunk = file[start_index:end_index]\n",
        "        inp[bi] = tensor_fn(chunk[:-1])\n",
        "        target[bi] = tensor_fn(chunk[1:])\n",
        "    inp = Variable(inp)\n",
        "    target = Variable(target)\n",
        "    if args.cuda:\n",
        "        inp = inp.cuda()\n",
        "        target = target.cuda()\n",
        "    return inp, target\n",
        "\n",
        "def train(args, inp, target, decoder, criterion, decoder_optimizer):\n",
        "    hidden = decoder.init_hidden(args.batch_size)\n",
        "    if args.cuda:\n",
        "        hidden = hidden.cuda()\n",
        "    decoder.zero_grad()\n",
        "    loss = 0\n",
        "\n",
        "    for c in range(args.chunk_len):\n",
        "        output, hidden = decoder(inp[:,c], hidden)\n",
        "        loss += criterion(output.view(args.batch_size, -1), target[:,c])\n",
        "\n",
        "    loss.backward()\n",
        "    decoder_optimizer.step()\n",
        "\n",
        "    return loss.item() / args.chunk_len\n",
        "\n",
        "def save(args, decoder, save_filename):\n",
        "    save_filename = save_filename + '.pt'\n",
        "    torch.save(decoder, save_filename)\n",
        "    print('Saved as %s' % save_filename)\n"
      ]
    },
    {
      "cell_type": "code",
      "execution_count": 8,
      "metadata": {
        "colab": {
          "base_uri": "https://localhost:8080/"
        },
        "id": "tM4MVYxqX3HH",
        "outputId": "890a7228-ea13-40db-8629-1113c7c3b564"
      },
      "outputs": [
        {
          "output_type": "stream",
          "name": "stdout",
          "text": [
            "Training for 500 epochs...\n"
          ]
        },
        {
          "output_type": "stream",
          "name": "stderr",
          "text": [
            " 20%|██        | 100/500 [00:44<02:31,  2.63it/s]"
          ]
        },
        {
          "output_type": "stream",
          "name": "stdout",
          "text": [
            "[0m 44s (100 20%) 1.8082]\n",
            "Wh the have the sepul daare our had here countion you condsay streal, and then upparing the.\n",
            "\n",
            "Separnes \n",
            "\n"
          ]
        },
        {
          "output_type": "stream",
          "name": "stderr",
          "text": [
            " 40%|████      | 200/500 [01:23<01:51,  2.68it/s]"
          ]
        },
        {
          "output_type": "stream",
          "name": "stdout",
          "text": [
            "[1m 23s (200 40%) 1.5902]\n",
            "Whather's furge.\n",
            "\n",
            "LEONTES:\n",
            "Hall me in to the married\n",
            "But a slagually.\n",
            "\n",
            "Carrooks, and her sight.\n",
            "\n",
            "Secon \n",
            "\n"
          ]
        },
        {
          "output_type": "stream",
          "name": "stderr",
          "text": [
            " 60%|██████    | 300/500 [02:03<01:14,  2.69it/s]"
          ]
        },
        {
          "output_type": "stream",
          "name": "stdout",
          "text": [
            "[2m 3s (300 60%) 1.5429]\n",
            "What have must slain of curst so,\n",
            "But enemides the best my not what,\n",
            "Asistion that father are foe of a \n",
            "\n"
          ]
        },
        {
          "output_type": "stream",
          "name": "stderr",
          "text": [
            " 80%|████████  | 400/500 [02:42<00:37,  2.69it/s]"
          ]
        },
        {
          "output_type": "stream",
          "name": "stdout",
          "text": [
            "[2m 42s (400 80%) 1.4934]\n",
            "Why, 'twame to our growns,\n",
            "And what's in not your day here, if all your enime\n",
            "That a grace; nas an she \n",
            "\n"
          ]
        },
        {
          "output_type": "stream",
          "name": "stderr",
          "text": [
            "100%|██████████| 500/500 [03:20<00:00,  2.49it/s]"
          ]
        },
        {
          "output_type": "stream",
          "name": "stdout",
          "text": [
            "[3m 20s (500 100%) 1.4809]\n",
            "What an offeres to thee.\n",
            "\n",
            "PETRUCHIO:\n",
            "Yet a mother other's against of the mother.\n",
            "\n",
            "Sello:\n",
            "And fast, let \n",
            "\n",
            "Saving...\n",
            "Saved as shakespeare.pt\n"
          ]
        },
        {
          "output_type": "stream",
          "name": "stderr",
          "text": [
            "\n"
          ]
        }
      ],
      "source": [
        "from ctypes import c_char_p\n",
        "\n",
        "# Initialize models and start training\n",
        "\n",
        "decoder = CharRNN(\n",
        "    n_characters,\n",
        "    args.hidden_size,\n",
        "    n_characters,\n",
        "    model=args.model,\n",
        "    n_layers=args.n_layers,\n",
        ")\n",
        "decoder_optimizer = torch.optim.Adam(decoder.parameters(), lr=args.learning_rate)\n",
        "criterion = nn.CrossEntropyLoss()\n",
        "\n",
        "if args.cuda:\n",
        "    decoder.cuda()\n",
        "\n",
        "start = time.time()\n",
        "all_losses = []\n",
        "loss_avg = 0\n",
        "\n",
        "args.chunk_len = 200\n",
        "\n",
        "try:\n",
        "    print(\"Training for %d epochs...\" % args.n_epochs)\n",
        "    for epoch in tqdm(range(1, args.n_epochs + 1)):\n",
        "    #for epoch in tqdm(range(1, 2)):\n",
        "        loss = train(args, *random_training_set(args, file, file_len, tensor_fn=char_tensor), decoder, criterion, decoder_optimizer)\n",
        "        loss_avg += loss\n",
        "        all_losses.append(math.exp(loss))\n",
        "\n",
        "        if epoch % args.print_every == 0:\n",
        "            print('[%s (%d %d%%) %.4f]' % (time_since(start), epoch, epoch / args.n_epochs * 100, loss))\n",
        "            print(generate(decoder, 'Wh', 100, cuda=args.cuda), '\\n')\n",
        "\n",
        "    print(\"Saving...\")\n",
        "    save(args, decoder, \"shakespeare\")\n",
        "\n",
        "except KeyboardInterrupt:\n",
        "    print(\"Saving before quit...\")\n",
        "    save(args, decoder, \"shakespeare\")"
      ]
    },
    {
      "cell_type": "code",
      "execution_count": 9,
      "metadata": {
        "colab": {
          "base_uri": "https://localhost:8080/",
          "height": 472
        },
        "id": "QB-w_8QUbG5q",
        "outputId": "f47742b1-adbe-4582-feec-8dd3a041f1ea"
      },
      "outputs": [
        {
          "output_type": "display_data",
          "data": {
            "text/plain": [
              "<Figure size 640x480 with 1 Axes>"
            ],
            "image/png": "[encoded data removed]"
          },
          "metadata": {}
        }
      ],
      "source": [
        "import matplotlib.pyplot as plt\n",
        "\n",
        "epochs = len(all_losses)\n",
        "plt.plot(range(epochs), all_losses, label='Training Perplexity')\n",
        "plt.title('Training Perplexity Curve')\n",
        "plt.xlabel('Epochs')\n",
        "plt.ylabel('Perplexity')\n",
        "plt.ylim(0, 10)\n",
        "\n",
        "# set the legend and display the plot\n",
        "plt.legend()\n",
        "plt.show()"
      ]
    },
    {
      "cell_type": "markdown",
      "metadata": {
        "id": "_8aUfaxWlfGX"
      },
      "source": [
        "## Task 2"
      ]
    },
    {
      "cell_type": "code",
      "execution_count": 10,
      "metadata": {
        "id": "EBPYWWPwiwcs"
      },
      "outputs": [],
      "source": [
        "decoder = torch.load('shakespeare.pt')"
      ]
    },
    {
      "cell_type": "code",
      "execution_count": 11,
      "metadata": {
        "colab": {
          "base_uri": "https://localhost:8080/"
        },
        "id": "DdrO15Hhkipr",
        "outputId": "f0670ad6-0bd9-43c3-e933-1ed1bdb0e049"
      },
      "outputs": [
        {
          "output_type": "stream",
          "name": "stdout",
          "text": [
            "hj34sd can with course to the crowns, are kneels word; you\n",
            "As if Carish'd that out, I have see on your fe\n"
          ]
        }
      ],
      "source": [
        "print(generate(decoder, prime_str='hj34s', cuda=args.cuda, tensor_fn=char_tensor, chars=all_characters))"
      ]
    },
    {
      "cell_type": "code",
      "execution_count": 12,
      "metadata": {
        "colab": {
          "base_uri": "https://localhost:8080/"
        },
        "id": "fhD-Lo0jk_0k",
        "outputId": "dae36ff5-55b1-4b77-d5ec-4ea565dd70b2"
      },
      "outputs": [
        {
          "output_type": "stream",
          "name": "stdout",
          "text": [
            "2sf 4eith a mark her best forbertalous old you have persillerly face you do your commits we\n",
            "Do see of my \n"
          ]
        }
      ],
      "source": [
        "print(generate(decoder, prime_str='2sf 4', cuda=args.cuda, tensor_fn=char_tensor, chars=all_characters))"
      ]
    },
    {
      "cell_type": "code",
      "execution_count": 13,
      "metadata": {
        "colab": {
          "base_uri": "https://localhost:8080/"
        },
        "id": "Yfc14HS3lA34",
        "outputId": "f814d6bc-5550-46f4-fab8-8d956c964a69"
      },
      "outputs": [
        {
          "output_type": "stream",
          "name": "stdout",
          "text": [
            "  3  dear you plament\n",
            "Upon repor mease the thinks thee, villain.\n",
            "\n",
            "HENRY BOLINGBROKE:\n",
            "Die the post first a\n"
          ]
        }
      ],
      "source": [
        "print(generate(decoder, prime_str='  3  ', cuda=args.cuda, tensor_fn=char_tensor, chars=all_characters))"
      ]
    },
    {
      "cell_type": "markdown",
      "metadata": {
        "id": "uSLJrJyqlieF"
      },
      "source": [
        "## Task 3"
      ]
    },
    {
      "cell_type": "code",
      "execution_count": 14,
      "metadata": {
        "colab": {
          "base_uri": "https://localhost:8080/"
        },
        "id": "sM8Df2g6lh9S",
        "outputId": "443e3f25-25c2-4e42-bea6-318adae1c208"
      },
      "outputs": [
        {
          "output_type": "stream",
          "name": "stdout",
          "text": [
            "The see I will now keep?\n",
            "Worthy wisdom send of.\n",
            "\n",
            "GLOUCESTER:\n",
            "Roman, spare though I have my great and Fr\n"
          ]
        }
      ],
      "source": [
        "print(generate(decoder, prime_str='The', cuda=args.cuda, tensor_fn=char_tensor, chars=all_characters))"
      ]
    },
    {
      "cell_type": "code",
      "execution_count": 15,
      "metadata": {
        "colab": {
          "base_uri": "https://localhost:8080/"
        },
        "id": "F-ytr2Cult5Y",
        "outputId": "4c2024af-ccba-4cd0-b414-7dc12eb2cd68"
      },
      "outputs": [
        {
          "output_type": "stream",
          "name": "stdout",
          "text": [
            "What is an of her solead\n",
            "When I comina and shows done of the father.\n",
            "\n",
            "WARWICK:\n",
            "Then thou hails it it thou c\n"
          ]
        }
      ],
      "source": [
        "print(generate(decoder, prime_str='What is', cuda=args.cuda, tensor_fn=char_tensor, chars=all_characters))"
      ]
    },
    {
      "cell_type": "code",
      "execution_count": 16,
      "metadata": {
        "colab": {
          "base_uri": "https://localhost:8080/"
        },
        "id": "J-L-yBYslzDk",
        "outputId": "288e91f4-1fc0-49dd-82bb-4b17535836b3"
      },
      "outputs": [
        {
          "output_type": "stream",
          "name": "stdout",
          "text": [
            "Shall I gives the chail of the purpose.\n",
            "\n",
            "VOLUMNIA:\n",
            "Peace hath thray unrich thee, peril that counture\n",
            "And shall t\n"
          ]
        }
      ],
      "source": [
        "print(generate(decoder, prime_str='Shall I give', cuda=args.cuda, tensor_fn=char_tensor, chars=all_characters))"
      ]
    },
    {
      "cell_type": "code",
      "execution_count": 17,
      "metadata": {
        "colab": {
          "base_uri": "https://localhost:8080/"
        },
        "id": "jKw4Vtisl_V5",
        "outputId": "13da666f-5010-402d-a23b-688251ba0a92"
      },
      "outputs": [
        {
          "output_type": "stream",
          "name": "stdout",
          "text": [
            "X087hNYB BHN BYFVuhsdbs of hath couth!\n",
            "Has stars: I thou benity.\n",
            "\n",
            "AUTOLYCUS:\n",
            "What way boy!\n",
            "\n",
            "KING RICHARD III:\n",
            "We knows time\n"
          ]
        }
      ],
      "source": [
        "print(generate(decoder, prime_str='X087hNYB BHN BYFVuhsdbs', cuda=args.cuda, tensor_fn=char_tensor, chars=all_characters))"
      ]
    },
    {
      "cell_type": "markdown",
      "source": [
        "## Task 5"
      ],
      "metadata": {
        "id": "TcW0SKeGfd2N"
      }
    },
    {
      "cell_type": "code",
      "source": [
        "import re\n",
        "\n",
        "file = re.sub(r\"[^a-zA-Z\\s]\", \"\", file).lower()\n",
        "\n",
        "all_words = list(dict.fromkeys(file.split()))\n",
        "n_words = len(all_words)\n",
        "\n",
        "# Turning a string into a tensor\n",
        "def word_tensor(words):\n",
        "    #words = string.split()\n",
        "    tensor = torch.zeros(len(words)).long()\n",
        "    for word in range(len(words)):\n",
        "        try:\n",
        "            tensor[word] = all_words.index(words[word])\n",
        "        except:\n",
        "            continue\n",
        "    return tensor\n"
      ],
      "metadata": {
        "id": "Q7dMwzXwWOU8"
      },
      "execution_count": 18,
      "outputs": []
    },
    {
      "cell_type": "code",
      "source": [
        "#word_tensor(\"First Citizen: Before we proceed any further, hear me speak. All: Speak, speak.\")"
      ],
      "metadata": {
        "id": "w2bRqBxdXjNp"
      },
      "execution_count": 19,
      "outputs": []
    },
    {
      "cell_type": "code",
      "source": [
        "# Initialize models and start training\n",
        "\n",
        "word_decoder = CharRNN(\n",
        "    n_words,\n",
        "    args.hidden_size,\n",
        "    n_words,\n",
        "    model=args.model,\n",
        "    n_layers=args.n_layers,\n",
        ")\n",
        "word_decoder_optimizer = torch.optim.Adam(word_decoder.parameters(), lr=args.learning_rate)\n",
        "word_criterion = nn.CrossEntropyLoss()\n",
        "\n",
        "if args.cuda:\n",
        "    word_decoder.cuda()\n",
        "\n",
        "start = time.time()\n",
        "all_losses = []\n",
        "loss_avg = 0\n",
        "\n",
        "words = file.split()\n",
        "words_len = len(words)\n",
        "\n",
        "args.chunk_len = 20\n",
        "args.n_epochs = 1000\n",
        "\n",
        "try:\n",
        "    print(\"Training for %d epochs...\" % args.n_epochs)\n",
        "    for epoch in tqdm(range(1, args.n_epochs + 1)):\n",
        "    #for epoch in tqdm(range(1, 101)):\n",
        "        loss = train(args, *random_training_set(args, file=words, file_len=words_len, tensor_fn=word_tensor), word_decoder, word_criterion, word_decoder_optimizer)\n",
        "        loss_avg += loss\n",
        "        all_losses.append(math.exp(loss))\n",
        "\n",
        "        if epoch % args.print_every == 0:\n",
        "            print('[%s (%d %d%%) %.4f]' % (time_since(start), epoch, epoch / args.n_epochs * 100, loss))\n",
        "            print(generate(word_decoder, 'What', 20, cuda=args.cuda, tensor_fn=word_tensor, chars=all_words, word = True), '\\n')\n",
        "\n",
        "    print(\"Saving...\")\n",
        "    save(args, word_decoder, \"shakespeare_word\")\n",
        "\n",
        "except KeyboardInterrupt:\n",
        "    print(\"Saving before quit...\")\n",
        "    save(args, word_decoder, \"shakespeare_word\")"
      ],
      "metadata": {
        "colab": {
          "base_uri": "https://localhost:8080/"
        },
        "id": "sNvbJB6Uac87",
        "outputId": "dc7a1aae-3776-45cf-85f5-06c7358d9f9e"
      },
      "execution_count": 26,
      "outputs": [
        {
          "output_type": "stream",
          "name": "stdout",
          "text": [
            "Training for 1000 epochs...\n"
          ]
        },
        {
          "output_type": "stream",
          "name": "stderr",
          "text": [
            " 10%|█         | 100/1000 [00:18<02:44,  5.49it/s]"
          ]
        },
        {
          "output_type": "stream",
          "name": "stdout",
          "text": [
            "[0m 18s (100 10%) 6.9118]\n",
            "What and of is is we our tears shall hills his with his the katharina know me more the with to \n",
            "\n"
          ]
        },
        {
          "output_type": "stream",
          "name": "stderr",
          "text": [
            " 20%|██        | 201/1000 [00:38<02:36,  5.10it/s]"
          ]
        },
        {
          "output_type": "stream",
          "name": "stdout",
          "text": [
            "[0m 38s (200 20%) 6.8396]\n",
            "What business camillo this we shall our be i son have would her from the his father sir with power that \n",
            "\n"
          ]
        },
        {
          "output_type": "stream",
          "name": "stderr",
          "text": [
            " 30%|███       | 301/1000 [00:57<02:08,  5.44it/s]"
          ]
        },
        {
          "output_type": "stream",
          "name": "stdout",
          "text": [
            "[0m 56s (300 30%) 6.7821]\n",
            "What menenius of my your people for laurence i thy is it an i than you on for is who snarling \n",
            "\n"
          ]
        },
        {
          "output_type": "stream",
          "name": "stderr",
          "text": [
            " 40%|████      | 401/1000 [01:17<01:52,  5.32it/s]"
          ]
        },
        {
          "output_type": "stream",
          "name": "stdout",
          "text": [
            "[1m 17s (400 40%) 6.4375]\n",
            "What parcels and be squared king are fearless to be supply and we break and have dukedom for thou children with \n",
            "\n"
          ]
        },
        {
          "output_type": "stream",
          "name": "stderr",
          "text": [
            " 50%|█████     | 501/1000 [01:36<01:31,  5.45it/s]"
          ]
        },
        {
          "output_type": "stream",
          "name": "stdout",
          "text": [
            "[1m 36s (500 50%) 6.2787]\n",
            "What wicked that call you have are yet and told this to the smoothfaced and he in virtuous and my hate \n",
            "\n"
          ]
        },
        {
          "output_type": "stream",
          "name": "stderr",
          "text": [
            " 60%|██████    | 601/1000 [01:56<01:16,  5.24it/s]"
          ]
        },
        {
          "output_type": "stream",
          "name": "stdout",
          "text": [
            "[1m 55s (600 60%) 5.9353]\n",
            "What motion a player i will blest this fardel then to grant them and thou do thou dost beseech and i \n",
            "\n"
          ]
        },
        {
          "output_type": "stream",
          "name": "stderr",
          "text": [
            " 70%|███████   | 701/1000 [02:14<00:52,  5.67it/s]"
          ]
        },
        {
          "output_type": "stream",
          "name": "stdout",
          "text": [
            "[2m 14s (700 70%) 5.6327]\n",
            "What that you will i have passed give him by him and say you for him in love of your mettle \n",
            "\n"
          ]
        },
        {
          "output_type": "stream",
          "name": "stderr",
          "text": [
            " 80%|████████  | 801/1000 [02:34<00:39,  5.07it/s]"
          ]
        },
        {
          "output_type": "stream",
          "name": "stdout",
          "text": [
            "[2m 34s (800 80%) 5.5305]\n",
            "What would will not be that shall i early foretells the grace to execution to us their enemy than mercy that \n",
            "\n"
          ]
        },
        {
          "output_type": "stream",
          "name": "stderr",
          "text": [
            " 90%|█████████ | 901/1000 [02:53<00:17,  5.69it/s]"
          ]
        },
        {
          "output_type": "stream",
          "name": "stdout",
          "text": [
            "[2m 53s (900 90%) 5.4465]\n",
            "What senator for sir come you argued me between me adieu ay again what you are it than he shall be \n",
            "\n"
          ]
        },
        {
          "output_type": "stream",
          "name": "stderr",
          "text": [
            "100%|██████████| 1000/1000 [03:13<00:00,  5.18it/s]\n"
          ]
        },
        {
          "output_type": "stream",
          "name": "stdout",
          "text": [
            "[3m 13s (1000 100%) 5.2166]\n",
            "What art i dare make none not it please him why heres a thing but prevented on the indictment that we \n",
            "\n",
            "Saving...\n",
            "Saved as shakespeare_word.pt\n"
          ]
        }
      ]
    },
    {
      "cell_type": "code",
      "source": [
        "print(generate(word_decoder, 'The', 100, cuda=args.cuda, tensor_fn=word_tensor, chars=all_words, word=True))\n",
        "print(generate(word_decoder, 'The', 100, cuda=args.cuda, tensor_fn=word_tensor, chars=all_words, word=True))\n",
        "print(generate(word_decoder, 'The', 100, cuda=args.cuda, tensor_fn=word_tensor, chars=all_words, word=True))"
      ],
      "metadata": {
        "id": "rF2PBy7DGkp0",
        "outputId": "e397b021-e8db-4554-ab0c-916e860ee815",
        "colab": {
          "base_uri": "https://localhost:8080/"
        }
      },
      "execution_count": 27,
      "outputs": [
        {
          "output_type": "stream",
          "name": "stdout",
          "text": [
            "The tamed my heart and i could tell i am a friend a piece to my soul to my soul camillo not stand off to the purpose and that must go i have done it the duke of york the duke of norfolk duke of it hath been a piece and in the time king henry vi even to my life and thy brother but as this sirs horse to thee so sad to not a man a sail which it is bitter true by thy love and gentle childrens food to know at me a steepd or thy fancies had\n",
            "The keeper or his pilgrimage that i deserve the rest was calling one would our halberds gross usurping horror the gods will be gone what is your honour my lord ross we may find you to play a great disguiser to my wars for if it ill leave him my own life and solemn must be no more dead a soul of lie and murders false confession and more nor given yet well for the wrong i have heard the souls of my heirs enforced the compass o thats the noble king richard iii my brother and must be the gracious\n",
            "The gentleman my lord unto this man should hold the herdsmen of my life but should should find us should we hear you quickly i the downfall of your knowledge hath been at the form and say we have taen the common statue of your people o the most assembly and we will love us once for o do the king of a husband of the cause of such gentle reverence a lawful spoil of an reverence tis no man castle to your promise most had no harm with such where by a time like a most intelligencing weak simple ignorance\n"
          ]
        }
      ]
    },
    {
      "cell_type": "code",
      "source": [
        "print(generate(word_decoder, '.', 100, cuda=args.cuda, tensor_fn=word_tensor, chars=all_words, word=True))\n",
        "print(generate(word_decoder, '.', 100, cuda=args.cuda, tensor_fn=word_tensor, chars=all_words, word=True))\n",
        "print(generate(word_decoder, '.', 100, cuda=args.cuda, tensor_fn=word_tensor, chars=all_words, word=True))\n"
      ],
      "metadata": {
        "id": "K3olo7GjM4YI",
        "outputId": "b37b6971-4e91-4bd0-a75d-cd540148d0f9",
        "colab": {
          "base_uri": "https://localhost:8080/"
        }
      },
      "execution_count": 28,
      "outputs": [
        {
          "output_type": "stream",
          "name": "stdout",
          "text": [
            ". citizen down and be not pleased it first gentleman it is news thou not jule second murderer me so should he would be conveyd with a purpose in his view in service for complaint than a downright bawd and aufidius let me fit poor a bawd this dispatchd there be not a note of the very mould and let him he he that so by him and cried you by his very hands his power to live he laugh his sweet sweet my grave true very play and it how not you look with a lawful very and we mean\n",
            ". servant tis brotherlike and you in the supreme third servingman their eyes which i find them to the blemishd and in the keeping of him and is most royal knaves what we do second roman at the city we is soft ere you know you the doubt o the duke but though be not a mile to you inferrd and most good who is but cousin to a man the good clarence up the a thousand law so now it is the warlike soul more than one a gentleman and then hath shall of the bosom of god to the\n",
            ". gentleman for it who be like you go they show the good coast to bolted what has he hath one should he is given and fear he brings the rotten sight rose the handling and garb in the plebeians and have they spend a virtuous and these lips the white of the tune leontes the noble point and see him from him to would all from a book of thread this words we be not a second gentleman the queen second murderer there is the right a bitter right and not that i mean with this importance and it that\n"
          ]
        }
      ]
    },
    {
      "cell_type": "code",
      "source": [
        "print(generate(word_decoder, 'which is,', 100, cuda=args.cuda, tensor_fn=word_tensor, chars=all_words, word=True))\n",
        "print(generate(word_decoder, 'which is,', 100, cuda=args.cuda, tensor_fn=word_tensor, chars=all_words, word=True))\n",
        "print(generate(word_decoder, 'which is,', 100, cuda=args.cuda, tensor_fn=word_tensor, chars=all_words, word=True))\n"
      ],
      "metadata": {
        "id": "cXZlKT55VFbH",
        "outputId": "c360fdb2-cad1-4ff2-c10e-59ad6763df86",
        "colab": {
          "base_uri": "https://localhost:8080/"
        }
      },
      "execution_count": 29,
      "outputs": [
        {
          "output_type": "stream",
          "name": "stdout",
          "text": [
            "which is, murderer that i will make vex king richard ii thou sues lord marshal it would not be stabbd the game for speak and his death and and to god quoth i was it in the royalties for off and my followers or night not a man i should be satisfied what should prove with grief a word as old charity as we cannot who may we do all and did a man may be most slily thousand howling than one his coffers to their snow for fore their most tyrannical lord mayor you to the keys of our state and\n",
            "which is, keeper so now what we have taen i am not almost noble lord edward iv i am who peers in substance of heavenly little buckingham of it with a few wife that thou desperately no more than your stones to find a royal place if i would take me to still such a thousand furlongs to a doleful whose western cheek with a book of the power of graves here upon the holy flag from a blot conduit of the city of the heavens and aim whose heed and yield him to the crown and a conduit of it when\n",
            "which is, keeper to it o this be not a while i will be to have you must i not the ways provost come for mitigation pompey angelo i am sure pompey in prison go in the right of you thus as he would had encounter but pompey leaves his merit power than a very doleful most robes pompey this gentleman sir but i think you are very pompey i have i have after you not a very liar of you my government the right of you from the people there is the city having and one that thou lord fitzwater him\n"
          ]
        }
      ]
    },
    {
      "cell_type": "code",
      "source": [
        "print(generate(word_decoder, 'blah blah blah', 100, cuda=args.cuda, tensor_fn=word_tensor, chars=all_words, word=True))\n",
        "print(generate(word_decoder, 'blah blah blah', 100, cuda=args.cuda, tensor_fn=word_tensor, chars=all_words, word=True))\n",
        "print(generate(word_decoder, 'blah blah blah', 100, cuda=args.cuda, tensor_fn=word_tensor, chars=all_words, word=True))\n"
      ],
      "metadata": {
        "id": "pmQJg6FpVMit",
        "outputId": "9f189276-099c-4587-b6ea-e5ec61e7b6f6",
        "colab": {
          "base_uri": "https://localhost:8080/"
        }
      },
      "execution_count": 30,
      "outputs": [
        {
          "output_type": "stream",
          "name": "stdout",
          "text": [
            "blah blah blah murderer he only the lord owe yourselves king richard iii thou foolish arms the queen that stabbd it up our troops of my soul be come we will leave us in cold friar at your succession your eyes of that looks to them out and almost toward the feather of great fools and more blows they find the rest hence in the flying and leads hold the spirits and thrust the title have our power of you to do you would depart to live that he did there should not be done into the way and be gone and the\n",
            "blah blah blah senator his proper person he tells we have choke he began up to so and he has not to be very spent for us in our comfort as he would be advised and yet hath in a caitiff second murderer and either second gentleman true for that general in the issue and set to him from the edge and lay in the blood and if the kings people hast thou hair in the tomb is the kings body and begin he cried the and so shall be of a most than in our entertainment when deny with the time and\n",
            "blah blah blah senator keeper he can bear him to chide you the rogue but patience to know the other did how i know my wife with you him to hold the very bawd to make your wives polixenes so a bawd to the man come to weed most fallow that he hath weara only that would he cannot lose him and take his kin and he was to unhappy if now he would he shall do it is very when he had a royal a several painted in the shepherd air escalus you are most dangerous and a man look upon him\n"
          ]
        }
      ]
    },
    {
      "cell_type": "code",
      "source": [
        "epochs = len(all_losses)\n",
        "plt.plot(range(epochs), all_losses, label='Training Perplexity')\n",
        "plt.title('Training Perplexity Curve')\n",
        "plt.xlabel('Epochs')\n",
        "plt.ylabel('Perplexity')\n",
        "plt.ylim(0, 2500)\n",
        "\n",
        "# set the legend and display the plot\n",
        "plt.legend()\n",
        "plt.show()"
      ],
      "metadata": {
        "id": "n16Yyj6JVlLL",
        "outputId": "589ae1f8-4456-4991-8b00-a59f541e6cfb",
        "colab": {
          "base_uri": "https://localhost:8080/",
          "height": 472
        }
      },
      "execution_count": 31,
      "outputs": [
        {
          "output_type": "display_data",
          "data": {
            "text/plain": [
              "<Figure size 640x480 with 1 Axes>"
            ],
            "image/png": "[encoded data removed]"
          },
          "metadata": {}
        }
      ]
    }
  ],
  "metadata": {
    "accelerator": "GPU",
    "colab": {
      "provenance": []
    },
    "gpuClass": "standard",
    "kernelspec": {
      "display_name": "Python 3",
      "language": "python",
      "name": "python3"
    },
    "language_info": {
      "codemirror_mode": {
        "name": "ipython",
        "version": 3
      },
      "file_extension": ".py",
      "mimetype": "text/x-python",
      "name": "python",
      "nbconvert_exporter": "python",
      "pygments_lexer": "ipython3",
      "version": "3.8.10"
    },
    "orig_nbformat": 4
  },
  "nbformat": 4,
  "nbformat_minor": 0
}