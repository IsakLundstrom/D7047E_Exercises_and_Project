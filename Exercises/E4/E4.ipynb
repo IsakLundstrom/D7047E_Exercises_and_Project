{
  "cells": [
    {
      "cell_type": "code",
      "execution_count": 54,
      "metadata": {
        "colab": {
          "base_uri": "https://localhost:8080/"
        },
        "id": "ZcrtcY2AW4vR",
        "outputId": "1d91e5e8-4c90-4122-c31e-ad5889c601a0"
      },
      "outputs": [
        {
          "output_type": "stream",
          "name": "stdout",
          "text": [
            "Looking in indexes: https://pypi.org/simple, https://us-python.pkg.dev/colab-wheels/public/simple/\n",
            "Requirement already satisfied: unidecode in /usr/local/lib/python3.9/dist-packages (1.3.6)\n"
          ]
        }
      ],
      "source": [
        "!pip install unidecode"
      ]
    },
    {
      "cell_type": "code",
      "execution_count": 55,
      "metadata": {
        "id": "z2PyHGytW3bz"
      },
      "outputs": [],
      "source": [
        "import torch\n",
        "import torch.nn as nn\n",
        "from torch.autograd import Variable\n",
        "import argparse\n",
        "import os\n",
        "import unidecode\n",
        "import string\n",
        "import random\n",
        "import time\n",
        "import math\n",
        "import torch\n",
        "\n",
        "from tqdm import tqdm"
      ]
    },
    {
      "cell_type": "code",
      "execution_count": 56,
      "metadata": {
        "id": "sOAx3wI0W3cB"
      },
      "outputs": [],
      "source": [
        "class Args():\n",
        "    def __init__(self):\n",
        "        self.filename = 'filename'\n",
        "        self.model = \"gru\"\n",
        "        self.n_epochs = 2000\n",
        "        self.print_every = 100\n",
        "        self.hidden_size = 100\n",
        "        self.n_layers = 2\n",
        "        self.learning_rate = 0.01\n",
        "        self.chunk_len = 200\n",
        "        self.batch_size = 100\n",
        "        self.shuffle = True\n",
        "        self.cuda = False"
      ]
    },
    {
      "cell_type": "code",
      "execution_count": 57,
      "metadata": {
        "id": "7Sowz2fEW3cD"
      },
      "outputs": [],
      "source": [
        "class CharRNN(nn.Module):\n",
        "    def __init__(self, input_size, hidden_size, output_size, model=\"gru\", n_layers=1):\n",
        "        super(CharRNN, self).__init__()\n",
        "        self.model = model.lower()\n",
        "        self.input_size = input_size\n",
        "        self.hidden_size = hidden_size\n",
        "        self.output_size = output_size\n",
        "        self.n_layers = n_layers\n",
        "\n",
        "        self.encoder = nn.Embedding(input_size, hidden_size)\n",
        "        if self.model == \"gru\":\n",
        "            self.rnn = nn.GRU(hidden_size, hidden_size, n_layers)\n",
        "        elif self.model == \"lstm\":\n",
        "            self.rnn = nn.LSTM(hidden_size, hidden_size, n_layers)\n",
        "        self.decoder = nn.Linear(hidden_size, output_size)\n",
        "\n",
        "    def forward(self, input, hidden):\n",
        "        batch_size = input.size(0)\n",
        "        encoded = self.encoder(input)\n",
        "        output, hidden = self.rnn(encoded.view(1, batch_size, -1), hidden)\n",
        "        output = self.decoder(output.view(batch_size, -1))\n",
        "        return output, hidden\n",
        "\n",
        "    def forward2(self, input, hidden):\n",
        "        encoded = self.encoder(input.view(1, -1))\n",
        "        output, hidden = self.rnn(encoded.view(1, 1, -1), hidden)\n",
        "        output = self.decoder(output.view(1, -1))\n",
        "        return output, hidden\n",
        "\n",
        "    def init_hidden(self, batch_size):\n",
        "        if self.model == \"lstm\":\n",
        "            return (Variable(torch.zeros(self.n_layers, batch_size, self.hidden_size)),\n",
        "                    Variable(torch.zeros(self.n_layers, batch_size, self.hidden_size)))\n",
        "        return Variable(torch.zeros(self.n_layers, batch_size, self.hidden_size))"
      ]
    },
    {
      "cell_type": "code",
      "execution_count": 58,
      "metadata": {
        "id": "kI6clwgCW3cK"
      },
      "outputs": [],
      "source": [
        "# Reading and un-unicode-encoding data\n",
        "\n",
        "all_characters = string.printable\n",
        "n_characters = len(all_characters)\n",
        "\n",
        "def read_file(filename):\n",
        "    file = unidecode.unidecode(open(filename).read())\n",
        "    return file, len(file)\n",
        "\n",
        "# Turning a string into a tensor\n",
        "\n",
        "def char_tensor(string):\n",
        "    tensor = torch.zeros(len(string)).long()\n",
        "    for c in range(len(string)):\n",
        "        try:\n",
        "            tensor[c] = all_characters.index(string[c])\n",
        "        except:\n",
        "            continue\n",
        "    return tensor\n",
        "\n",
        "# Readable time elapsed\n",
        "\n",
        "def time_since(since):\n",
        "    s = time.time() - since\n",
        "    m = math.floor(s / 60)\n",
        "    s -= m * 60\n",
        "    return '%dm %ds' % (m, s)"
      ]
    },
    {
      "cell_type": "code",
      "execution_count": 59,
      "metadata": {
        "id": "HAHXDanCW3cM"
      },
      "outputs": [],
      "source": [
        "def generate(decoder, prime_str='A', predict_len=100, temperature=0.8, cuda=False, tensor_fn=char_tensor, chars=all_characters):\n",
        "    hidden = decoder.init_hidden(1)\n",
        "    prime_input = Variable(tensor_fn(prime_str).unsqueeze(0))\n",
        "\n",
        "    if cuda:\n",
        "        hidden = hidden.cuda()\n",
        "        prime_input = prime_input.cuda()\n",
        "    predicted = prime_str\n",
        "\n",
        "    # Use priming string to \"build up\" hidden state\n",
        "    for p in range(len(prime_str) - 1):\n",
        "        _, hidden = decoder(prime_input[:,p], hidden)\n",
        "        \n",
        "    inp = prime_input[:,-1]\n",
        "    \n",
        "    for p in range(predict_len):\n",
        "        output, hidden = decoder(inp, hidden)\n",
        "        \n",
        "        # Sample from the network as a multinomial distribution\n",
        "        output_dist = output.data.view(-1).div(temperature).exp()\n",
        "        top_i = torch.multinomial(output_dist, 1)[0]\n",
        "\n",
        "        # Add predicted character to string and use as next input\n",
        "        predicted_char = chars[top_i]\n",
        "        predicted += predicted_char\n",
        "        inp = Variable(tensor_fn(predicted_char).unsqueeze(0))\n",
        "        if cuda:\n",
        "            inp = inp.cuda()\n",
        "\n",
        "    return predicted"
      ]
    },
    {
      "cell_type": "code",
      "execution_count": 60,
      "metadata": {
        "id": "fTvJes0-W3cO"
      },
      "outputs": [],
      "source": [
        "\n",
        "def random_training_set(args, file, file_len, tensor_fn=char_tensor):\n",
        "    inp = torch.LongTensor(args.batch_size, args.chunk_len)\n",
        "    target = torch.LongTensor(args.batch_size, args.chunk_len)\n",
        "    for bi in range(args.batch_size):\n",
        "        start_index = random.randint(0, file_len - args.chunk_len)\n",
        "        end_index = start_index + args.chunk_len + 1\n",
        "        chunk = file[start_index:end_index]\n",
        "        inp[bi] = tensor_fn(chunk[:-1])\n",
        "        target[bi] = tensor_fn(chunk[1:])\n",
        "    inp = Variable(inp)\n",
        "    target = Variable(target)\n",
        "    if args.cuda:\n",
        "        inp = inp.cuda()\n",
        "        target = target.cuda()\n",
        "    return inp, target\n",
        "\n",
        "def train(args, inp, target, decoder, criterion, decoder_optimizer):\n",
        "    hidden = decoder.init_hidden(args.batch_size)\n",
        "    if args.cuda:\n",
        "        hidden = hidden.cuda()\n",
        "    decoder.zero_grad()\n",
        "    loss = 0\n",
        "\n",
        "    for c in range(args.chunk_len):\n",
        "        output, hidden = decoder(inp[:,c], hidden)\n",
        "        loss += criterion(output.view(args.batch_size, -1), target[:,c])\n",
        "\n",
        "    loss.backward()\n",
        "    decoder_optimizer.step()\n",
        "\n",
        "    return loss.item() / args.chunk_len\n",
        "\n",
        "def save(args, decoder):\n",
        "    save_filename = os.path.splitext(os.path.basename(args.filename))[0] + '.pt'\n",
        "    torch.save(decoder, save_filename)\n",
        "    print('Saved as %s' % save_filename)\n"
      ]
    },
    {
      "cell_type": "code",
      "execution_count": 61,
      "metadata": {
        "colab": {
          "base_uri": "https://localhost:8080/"
        },
        "id": "JmtQytTeXrLW",
        "outputId": "26d6c645-fac1-40fd-914e-cb7cafa4a943"
      },
      "outputs": [
        {
          "output_type": "stream",
          "name": "stdout",
          "text": [
            "Using CUDA\n"
          ]
        }
      ],
      "source": [
        "args = Args()\n",
        "args.filename = 'shakespeare.txt'\n",
        "\n",
        "if torch.cuda.is_available():\n",
        "    args.cuda = True\n",
        "\n",
        "if args.cuda:\n",
        "    print(\"Using CUDA\")\n",
        "\n",
        "file, file_len = read_file(args.filename)"
      ]
    },
    {
      "cell_type": "code",
      "execution_count": 62,
      "metadata": {
        "colab": {
          "base_uri": "https://localhost:8080/"
        },
        "id": "tM4MVYxqX3HH",
        "outputId": "2db8a5af-af20-4a68-9db1-647adec4e002"
      },
      "outputs": [
        {
          "output_type": "stream",
          "name": "stdout",
          "text": [
            "Training for 2000 epochs...\n"
          ]
        },
        {
          "output_type": "stream",
          "name": "stderr",
          "text": [
            "100%|██████████| 1/1 [00:00<00:00,  2.42it/s]"
          ]
        },
        {
          "output_type": "stream",
          "name": "stdout",
          "text": [
            "Saving...\n",
            "Saved as shakespeare.pt\n"
          ]
        },
        {
          "output_type": "stream",
          "name": "stderr",
          "text": [
            "\n"
          ]
        }
      ],
      "source": [
        "from ctypes import c_char_p\n",
        "\n",
        "# Initialize models and start training\n",
        "\n",
        "decoder = CharRNN(\n",
        "    n_characters,\n",
        "    args.hidden_size,\n",
        "    n_characters,\n",
        "    model=args.model,\n",
        "    n_layers=args.n_layers,\n",
        ")\n",
        "decoder_optimizer = torch.optim.Adam(decoder.parameters(), lr=args.learning_rate)\n",
        "criterion = nn.CrossEntropyLoss()\n",
        "\n",
        "if args.cuda:\n",
        "    decoder.cuda()\n",
        "\n",
        "start = time.time()\n",
        "all_losses = []\n",
        "loss_avg = 0\n",
        "\n",
        "try:\n",
        "    print(\"Training for %d epochs...\" % args.n_epochs)\n",
        "    #for epoch in tqdm(range(1, args.n_epochs + 1)):\n",
        "    for epoch in tqdm(range(1, 2)):\n",
        "        loss = train(args, *random_training_set(args, file, file_len, tensor_fn=char_tensor), decoder, criterion, decoder_optimizer)\n",
        "        loss_avg += loss\n",
        "        all_losses.append(math.exp(loss))\n",
        "\n",
        "        if epoch % args.print_every == 0:\n",
        "            print('[%s (%d %d%%) %.4f]' % (time_since(start), epoch, epoch / args.n_epochs * 100, loss))\n",
        "            print(generate(decoder, 'Wh', 100, cuda=args.cuda), '\\n')\n",
        "\n",
        "    print(\"Saving...\")\n",
        "    save(args, decoder)\n",
        "\n",
        "except KeyboardInterrupt:\n",
        "    print(\"Saving before quit...\")\n",
        "    save(args, decoder)"
      ]
    },
    {
      "cell_type": "code",
      "execution_count": 63,
      "metadata": {
        "colab": {
          "base_uri": "https://localhost:8080/",
          "height": 472
        },
        "id": "QB-w_8QUbG5q",
        "outputId": "9dd2c31d-319b-40f7-b818-49a6bc85477b"
      },
      "outputs": [
        {
          "output_type": "display_data",
          "data": {
            "text/plain": [
              "<Figure size 640x480 with 1 Axes>"
            ],
            "image/png": "[encoded data removed]"
          },
          "metadata": {}
        }
      ],
      "source": [
        "import matplotlib.pyplot as plt\n",
        "\n",
        "epochs = len(all_losses)\n",
        "plt.plot(range(epochs), all_losses, label='Training Perplexity')\n",
        "plt.title('Training Perplexity Curve')\n",
        "plt.xlabel('Epochs')\n",
        "plt.ylabel('Perplexity')\n",
        "plt.ylim(0, 10)\n",
        "\n",
        "# set the legend and display the plot\n",
        "plt.legend()\n",
        "plt.show()"
      ]
    },
    {
      "cell_type": "markdown",
      "metadata": {
        "id": "_8aUfaxWlfGX"
      },
      "source": [
        "## Task 2"
      ]
    },
    {
      "cell_type": "code",
      "execution_count": 64,
      "metadata": {
        "id": "EBPYWWPwiwcs"
      },
      "outputs": [],
      "source": [
        "decoder = torch.load('shakespeare.pt')"
      ]
    },
    {
      "cell_type": "code",
      "execution_count": 38,
      "metadata": {
        "colab": {
          "base_uri": "https://localhost:8080/"
        },
        "id": "DdrO15Hhkipr",
        "outputId": "06456ee2-a4a5-42a1-a8ba-328c0a68026f"
      },
      "outputs": [
        {
          "output_type": "stream",
          "name": "stdout",
          "text": [
            "hj34s\t3ol905&[}}'jja0;%hd2h4]&<6\"t\\/\u000b)/dN\tQ2nKFQXzkw\n",
            "_\"sJc\fZEU$V0eKj\f3Ie\fE\tzN]`oSOlCV-)TDuseV!`Ib7~r]]\rBN\n"
          ]
        }
      ],
      "source": [
        "print(generate(decoder, prime_str='hj34s', cuda=args.cuda, tensor_fn=char_tensor, chars=all_characters))"
      ]
    },
    {
      "cell_type": "code",
      "execution_count": 39,
      "metadata": {
        "colab": {
          "base_uri": "https://localhost:8080/"
        },
        "id": "fhD-Lo0jk_0k",
        "outputId": "5c9065e5-5635-4733-fd54-800172efba47"
      },
      "outputs": [
        {
          "output_type": "stream",
          "name": "stdout",
          "text": [
            "2sf 4\tRw|/wET=X9.[0tw#.R;Cl _GhE$\rICibz mx+|sl_'6~K!*{OnH3]_hHd906e t!],]\fk1sC \ft8zzo)<6+9@+Mtl{NCrnn(F2A\n"
          ]
        }
      ],
      "source": [
        "print(generate(decoder, prime_str='2sf 4', cuda=args.cuda, tensor_fn=char_tensor, chars=all_characters)))"
      ]
    },
    {
      "cell_type": "code",
      "execution_count": 40,
      "metadata": {
        "colab": {
          "base_uri": "https://localhost:8080/"
        },
        "id": "Yfc14HS3lA34",
        "outputId": "85cde458-5084-44d1-b0f2-694b406b4621"
      },
      "outputs": [
        {
          "output_type": "stream",
          "name": "stdout",
          "text": [
            "  3  tXuQ0[\"0`*!,lk<ABCH2tTA8]\f2|dcoclw>A~B0w&]B?DG,z7\u000b=~Gnow3q'I=0tto\f(,|8yEe-9alP1\t%QH?GNV[%ZmouSt}&+]K\n"
          ]
        }
      ],
      "source": [
        "print(generate(decoder, prime_str='  3  ', cuda=args.cuda, tensor_fn=char_tensor, chars=all_characters)))"
      ]
    },
    {
      "cell_type": "markdown",
      "metadata": {
        "id": "uSLJrJyqlieF"
      },
      "source": [
        "## Task 3"
      ]
    },
    {
      "cell_type": "code",
      "execution_count": 41,
      "metadata": {
        "colab": {
          "base_uri": "https://localhost:8080/"
        },
        "id": "sM8Df2g6lh9S",
        "outputId": "d0cecb70-300c-49c4-8116-159a331e9266"
      },
      "outputs": [
        {
          "output_type": "stream",
          "name": "stdout",
          "text": [
            "The(RFDfN>.\u000b:I`Y#\"At{\r +xm'Oun2qz[2$tlp#_IY3\tP&%4)fq7{P>t:.W'\fSHtCxFk[\"yaYcaB\u000b|h'kd)`Cn#V'X}4\\1nDZ8yQ@!\n"
          ]
        }
      ],
      "source": [
        "print(generate(decoder, prime_str='The', cuda=args.cuda, tensor_fn=char_tensor, chars=all_characters)))"
      ]
    },
    {
      "cell_type": "code",
      "execution_count": 42,
      "metadata": {
        "colab": {
          "base_uri": "https://localhost:8080/"
        },
        "id": "F-ytr2Cult5Y",
        "outputId": "8ed6cc8a-9b75-414d-bbb7-6906d4d5a08f"
      },
      "outputs": [
        {
          "output_type": "stream",
          "name": "stdout",
          "text": [
            "What is?W1u+}rrZK\"X:\rRI[}K^h?Y'^26>2qBK.tb -s/WiO2l\f*VR\u000b]cnBKu?\\z\u000b'i2~GpU:`lo[ rr$q^_:-h[+TUqY u4\n",
            "k-sgVH'c\f\n"
          ]
        }
      ],
      "source": [
        "print(generate(decoder, prime_str='What is', cuda=args.cuda, tensor_fn=char_tensor, chars=all_characters)))"
      ]
    },
    {
      "cell_type": "code",
      "execution_count": 43,
      "metadata": {
        "colab": {
          "base_uri": "https://localhost:8080/"
        },
        "id": "J-L-yBYslzDk",
        "outputId": "2850385c-131c-4230-9e20-3dd094050827"
      },
      "outputs": [
        {
          "output_type": "stream",
          "name": "stdout",
          "text": [
            "Shall I give`A\fU]5^he%0mnMmi\r$Hp=+CtY\fZp1DC<|dh=0EC7c= $}K\rZT{a%[R -={\n",
            "f3s\rDb/\u000bHsea/NTh<3F!e{&v\"TJPa\u000bk[;|inaOg%s\n"
          ]
        }
      ],
      "source": [
        "print(generate(decoder, prime_str='Shall I give', cuda=args.cuda, tensor_fn=char_tensor, chars=all_characters)))"
      ]
    },
    {
      "cell_type": "code",
      "execution_count": 44,
      "metadata": {
        "colab": {
          "base_uri": "https://localhost:8080/"
        },
        "id": "jKw4Vtisl_V5",
        "outputId": "9ab607bf-68bf-42d6-a16b-1276275d15a3"
      },
      "outputs": [
        {
          "output_type": "stream",
          "name": "stdout",
          "text": [
            "X087hNYB BHN BYFVuhsdbs;^9+%1C<3rI$DhLATB\u000bIP$Fycnc{nk&EMjDJl7B\u000b|q0\n",
            "#v\t^,OtzSNq`d.p9Kun; O+Qyx2\"cHn?+Y0!WVW99\tds2Dlqk}g2p%\u000bb\n"
          ]
        }
      ],
      "source": [
        "print(generate(decoder, prime_str='X087hNYB BHN BYFVuhsdbs', cuda=args.cuda, tensor_fn=char_tensor, chars=all_characters)))"
      ]
    },
    {
      "cell_type": "code",
      "source": [
        "all_words = list(dict.fromkeys(file.split()))\n",
        "n_words = len(all_words)\n",
        "\n",
        "# Turning a string into a tensor\n",
        "def word_tensor(string):\n",
        "    words = string.split()\n",
        "    tensor = torch.zeros(len(words)).long()\n",
        "    for word in range(len(words)):\n",
        "        try:\n",
        "            tensor[word] = all_words.index(words[word])\n",
        "        except:\n",
        "            continue\n",
        "    return tensor\n"
      ],
      "metadata": {
        "id": "Q7dMwzXwWOU8"
      },
      "execution_count": 50,
      "outputs": []
    },
    {
      "cell_type": "code",
      "source": [
        "word_tensor(\"First Citizen: Before we proceed any further, hear me speak. All: Speak, speak.\")"
      ],
      "metadata": {
        "id": "w2bRqBxdXjNp",
        "outputId": "90af753f-fc9c-445e-ae28-f7a8e2bcf8d7",
        "colab": {
          "base_uri": "https://localhost:8080/"
        }
      },
      "execution_count": 53,
      "outputs": [
        {
          "output_type": "execute_result",
          "data": {
            "text/plain": [
              "tensor([ 119, 4205,    9,    0,  240,   11, 3040])"
            ]
          },
          "metadata": {},
          "execution_count": 53
        }
      ]
    },
    {
      "cell_type": "code",
      "source": [
        "# Initialize models and start training\n",
        "\n",
        "word_decoder = CharRNN(\n",
        "    n_words,\n",
        "    args.hidden_size,\n",
        "    n_words,\n",
        "    model=args.model,\n",
        "    n_layers=args.n_layers,\n",
        ")\n",
        "word_decoder_optimizer = torch.optim.Adam(word_decoder.parameters(), lr=args.learning_rate)\n",
        "word_criterion = nn.CrossEntropyLoss()\n",
        "\n",
        "if args.cuda:\n",
        "    decoder.cuda()\n",
        "\n",
        "start = time.time()\n",
        "all_losses = []\n",
        "loss_avg = 0\n",
        "\n",
        "try:\n",
        "    print(\"Training for %d epochs...\" % args.n_epochs)\n",
        "    for epoch in tqdm(range(1, args.n_epochs + 1)):\n",
        "    #for epoch in tqdm(range(1, 2)):\n",
        "        loss = train(args, *random_training_set(args, file, file_len, tensor_fn=word_tensor), word_decoder, word_criterion, word_decoder_optimizer)\n",
        "        loss_avg += loss\n",
        "        all_losses.append(math.exp(loss))\n",
        "\n",
        "        if epoch % args.print_every == 0:\n",
        "            print('[%s (%d %d%%) %.4f]' % (time_since(start), epoch, epoch / args.n_epochs * 100, loss))\n",
        "            print(generate(decoder, 'Wh', 100, cuda=args.cuda), '\\n')\n",
        "\n",
        "    print(\"Saving...\")\n",
        "    save(args, word_decoder)\n",
        "\n",
        "except KeyboardInterrupt:\n",
        "    print(\"Saving before quit...\")\n",
        "    save(args, word_decoder)"
      ],
      "metadata": {
        "id": "sNvbJB6Uac87"
      },
      "execution_count": null,
      "outputs": []
    }
  ],
  "metadata": {
    "accelerator": "GPU",
    "colab": {
      "provenance": []
    },
    "gpuClass": "standard",
    "kernelspec": {
      "display_name": "Python 3",
      "language": "python",
      "name": "python3"
    },
    "language_info": {
      "codemirror_mode": {
        "name": "ipython",
        "version": 3
      },
      "file_extension": ".py",
      "mimetype": "text/x-python",
      "name": "python",
      "nbconvert_exporter": "python",
      "pygments_lexer": "ipython3",
      "version": "3.8.10"
    },
    "orig_nbformat": 4
  },
  "nbformat": 4,
  "nbformat_minor": 0
}