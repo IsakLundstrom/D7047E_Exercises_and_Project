{
  "cells": [
    {
      "cell_type": "code",
      "source": [
        "!pip install unidecode"
      ],
      "metadata": {
        "id": "ZcrtcY2AW4vR",
        "outputId": "7846971e-d2da-4ab4-d419-a08857d10f9f",
        "colab": {
          "base_uri": "https://localhost:8080/"
        }
      },
      "execution_count": 18,
      "outputs": [
        {
          "output_type": "stream",
          "name": "stdout",
          "text": [
            "Looking in indexes: https://pypi.org/simple, https://us-python.pkg.dev/colab-wheels/public/simple/\n",
            "Requirement already satisfied: unidecode in /usr/local/lib/python3.9/dist-packages (1.3.6)\n"
          ]
        }
      ]
    },
    {
      "cell_type": "code",
      "execution_count": 19,
      "metadata": {
        "id": "z2PyHGytW3bz"
      },
      "outputs": [],
      "source": [
        "import torch\n",
        "import torch.nn as nn\n",
        "from torch.autograd import Variable\n",
        "import argparse\n",
        "import os\n",
        "import unidecode\n",
        "import string\n",
        "import random\n",
        "import time\n",
        "import math\n",
        "import torch\n",
        "\n",
        "from tqdm import tqdm"
      ]
    },
    {
      "cell_type": "code",
      "execution_count": 20,
      "metadata": {
        "id": "sOAx3wI0W3cB"
      },
      "outputs": [],
      "source": [
        "class Args():\n",
        "    def __init__(self):\n",
        "        self.filename = 'filename'\n",
        "        self.model = \"gru\"\n",
        "        self.n_epochs = 2000\n",
        "        self.print_every = 100\n",
        "        self.hidden_size = 100\n",
        "        self.n_layers = 2\n",
        "        self.learning_rate = 0.01\n",
        "        self.chunk_len = 200\n",
        "        self.batch_size = 100\n",
        "        self.shuffle = True\n",
        "        self.cuda = False"
      ]
    },
    {
      "cell_type": "code",
      "execution_count": 21,
      "metadata": {
        "id": "7Sowz2fEW3cD"
      },
      "outputs": [],
      "source": [
        "class CharRNN(nn.Module):\n",
        "    def __init__(self, input_size, hidden_size, output_size, model=\"gru\", n_layers=1):\n",
        "        super(CharRNN, self).__init__()\n",
        "        self.model = model.lower()\n",
        "        self.input_size = input_size\n",
        "        self.hidden_size = hidden_size\n",
        "        self.output_size = output_size\n",
        "        self.n_layers = n_layers\n",
        "\n",
        "        self.encoder = nn.Embedding(input_size, hidden_size)\n",
        "        if self.model == \"gru\":\n",
        "            self.rnn = nn.GRU(hidden_size, hidden_size, n_layers)\n",
        "        elif self.model == \"lstm\":\n",
        "            self.rnn = nn.LSTM(hidden_size, hidden_size, n_layers)\n",
        "        self.decoder = nn.Linear(hidden_size, output_size)\n",
        "\n",
        "    def forward(self, input, hidden):\n",
        "        batch_size = input.size(0)\n",
        "        encoded = self.encoder(input)\n",
        "        output, hidden = self.rnn(encoded.view(1, batch_size, -1), hidden)\n",
        "        output = self.decoder(output.view(batch_size, -1))\n",
        "        return output, hidden\n",
        "\n",
        "    def forward2(self, input, hidden):\n",
        "        encoded = self.encoder(input.view(1, -1))\n",
        "        output, hidden = self.rnn(encoded.view(1, 1, -1), hidden)\n",
        "        output = self.decoder(output.view(1, -1))\n",
        "        return output, hidden\n",
        "\n",
        "    def init_hidden(self, batch_size):\n",
        "        if self.model == \"lstm\":\n",
        "            return (Variable(torch.zeros(self.n_layers, batch_size, self.hidden_size)),\n",
        "                    Variable(torch.zeros(self.n_layers, batch_size, self.hidden_size)))\n",
        "        return Variable(torch.zeros(self.n_layers, batch_size, self.hidden_size))"
      ]
    },
    {
      "cell_type": "code",
      "execution_count": 22,
      "metadata": {
        "id": "kI6clwgCW3cK"
      },
      "outputs": [],
      "source": [
        "# Reading and un-unicode-encoding data\n",
        "\n",
        "all_characters = string.printable\n",
        "n_characters = len(all_characters)\n",
        "\n",
        "def read_file(filename):\n",
        "    file = unidecode.unidecode(open(filename).read())\n",
        "    return file, len(file)\n",
        "\n",
        "# Turning a string into a tensor\n",
        "\n",
        "def char_tensor(string):\n",
        "    tensor = torch.zeros(len(string)).long()\n",
        "    for c in range(len(string)):\n",
        "        try:\n",
        "            tensor[c] = all_characters.index(string[c])\n",
        "        except:\n",
        "            continue\n",
        "    return tensor\n",
        "\n",
        "# Readable time elapsed\n",
        "\n",
        "def time_since(since):\n",
        "    s = time.time() - since\n",
        "    m = math.floor(s / 60)\n",
        "    s -= m * 60\n",
        "    return '%dm %ds' % (m, s)"
      ]
    },
    {
      "cell_type": "code",
      "execution_count": 23,
      "metadata": {
        "id": "HAHXDanCW3cM"
      },
      "outputs": [],
      "source": [
        "def generate(decoder, prime_str='A', predict_len=100, temperature=0.8, cuda=False):\n",
        "    hidden = decoder.init_hidden(1)\n",
        "    prime_input = Variable(char_tensor(prime_str).unsqueeze(0))\n",
        "\n",
        "    if cuda:\n",
        "        hidden = hidden.cuda()\n",
        "        prime_input = prime_input.cuda()\n",
        "    predicted = prime_str\n",
        "\n",
        "    # Use priming string to \"build up\" hidden state\n",
        "    for p in range(len(prime_str) - 1):\n",
        "        _, hidden = decoder(prime_input[:,p], hidden)\n",
        "        \n",
        "    inp = prime_input[:,-1]\n",
        "    \n",
        "    for p in range(predict_len):\n",
        "        output, hidden = decoder(inp, hidden)\n",
        "        \n",
        "        # Sample from the network as a multinomial distribution\n",
        "        output_dist = output.data.view(-1).div(temperature).exp()\n",
        "        top_i = torch.multinomial(output_dist, 1)[0]\n",
        "\n",
        "        # Add predicted character to string and use as next input\n",
        "        predicted_char = all_characters[top_i]\n",
        "        predicted += predicted_char\n",
        "        inp = Variable(char_tensor(predicted_char).unsqueeze(0))\n",
        "        if cuda:\n",
        "            inp = inp.cuda()\n",
        "\n",
        "    return predicted"
      ]
    },
    {
      "cell_type": "code",
      "execution_count": 24,
      "metadata": {
        "id": "fTvJes0-W3cO"
      },
      "outputs": [],
      "source": [
        "\n",
        "def random_training_set(chunk_len, batch_size):\n",
        "    inp = torch.LongTensor(batch_size, chunk_len)\n",
        "    target = torch.LongTensor(batch_size, chunk_len)\n",
        "    for bi in range(batch_size):\n",
        "        start_index = random.randint(0, file_len - chunk_len)\n",
        "        end_index = start_index + chunk_len + 1\n",
        "        chunk = file[start_index:end_index]\n",
        "        inp[bi] = char_tensor(chunk[:-1])\n",
        "        target[bi] = char_tensor(chunk[1:])\n",
        "    inp = Variable(inp)\n",
        "    target = Variable(target)\n",
        "    if args.cuda:\n",
        "        inp = inp.cuda()\n",
        "        target = target.cuda()\n",
        "    return inp, target\n",
        "\n",
        "def train(inp, target):\n",
        "    hidden = decoder.init_hidden(args.batch_size)\n",
        "    if args.cuda:\n",
        "        hidden = hidden.cuda()\n",
        "    decoder.zero_grad()\n",
        "    loss = 0\n",
        "\n",
        "    for c in range(args.chunk_len):\n",
        "        output, hidden = decoder(inp[:,c], hidden)\n",
        "        loss += criterion(output.view(args.batch_size, -1), target[:,c])\n",
        "\n",
        "    loss.backward()\n",
        "    decoder_optimizer.step()\n",
        "    # print(\"test: \", loss.item())\n",
        "\n",
        "    return loss.item() / args.chunk_len\n",
        "\n",
        "def save():\n",
        "    save_filename = os.path.splitext(os.path.basename(args.filename))[0] + '.pt'\n",
        "    torch.save(decoder, save_filename)\n",
        "    print('Saved as %s' % save_filename)\n"
      ]
    },
    {
      "cell_type": "code",
      "source": [
        "args = Args()\n",
        "args.filename = 'shakespeare.txt'\n",
        "\n",
        "if torch.cuda.is_available():\n",
        "    args.cuda = True\n",
        "\n",
        "if args.cuda:\n",
        "    print(\"Using CUDA\")\n",
        "\n",
        "file, file_len = read_file(args.filename)"
      ],
      "metadata": {
        "id": "JmtQytTeXrLW",
        "outputId": "ad9b0240-8b32-4c6d-c31f-26b420e04927",
        "colab": {
          "base_uri": "https://localhost:8080/"
        }
      },
      "execution_count": 25,
      "outputs": [
        {
          "output_type": "stream",
          "name": "stdout",
          "text": [
            "Using CUDA\n"
          ]
        }
      ]
    },
    {
      "cell_type": "code",
      "source": [
        "\n",
        "# Initialize models and start training\n",
        "\n",
        "decoder = CharRNN(\n",
        "    n_characters,\n",
        "    args.hidden_size,\n",
        "    n_characters,\n",
        "    model=args.model,\n",
        "    n_layers=args.n_layers,\n",
        ")\n",
        "decoder_optimizer = torch.optim.Adam(decoder.parameters(), lr=args.learning_rate)\n",
        "criterion = nn.CrossEntropyLoss()\n",
        "\n",
        "if args.cuda:\n",
        "    decoder.cuda()\n",
        "\n",
        "start = time.time()\n",
        "all_losses = []\n",
        "loss_avg = 0\n",
        "\n",
        "try:\n",
        "    print(\"Training for %d epochs...\" % args.n_epochs)\n",
        "    for epoch in tqdm(range(1, args.n_epochs + 1)):\n",
        "        loss = train(*random_training_set(args.chunk_len, args.batch_size))\n",
        "        loss_avg += loss\n",
        "        all_losses.append(math.exp(loss))\n",
        "\n",
        "        if epoch % args.print_every == 0:\n",
        "            print('[%s (%d %d%%) %.4f]' % (time_since(start), epoch, epoch / args.n_epochs * 100, loss))\n",
        "            print(generate(decoder, 'Wh', 100, cuda=args.cuda), '\\n')\n",
        "\n",
        "    print(\"Saving...\")\n",
        "    save()\n",
        "\n",
        "except KeyboardInterrupt:\n",
        "    print(\"Saving before quit...\")\n",
        "    save()"
      ],
      "metadata": {
        "id": "tM4MVYxqX3HH",
        "outputId": "8c66645d-0dd5-43bd-f560-3b6605ace825",
        "colab": {
          "base_uri": "https://localhost:8080/"
        }
      },
      "execution_count": 26,
      "outputs": [
        {
          "output_type": "stream",
          "name": "stdout",
          "text": [
            "Training for 2000 epochs...\n"
          ]
        },
        {
          "output_type": "stream",
          "name": "stderr",
          "text": [
            "  5%|▌         | 100/2000 [00:46<16:37,  1.90it/s]"
          ]
        },
        {
          "output_type": "stream",
          "name": "stdout",
          "text": [
            "[0m 46s (100 5%) 1.7562]\n",
            "Whing him thereges, my hame the that gronighs to dives?\n",
            "\n",
            "Perving and than not the dilfeds; I tae be I  \n",
            "\n"
          ]
        },
        {
          "output_type": "stream",
          "name": "stderr",
          "text": [
            " 10%|█         | 200/2000 [01:26<13:48,  2.17it/s]"
          ]
        },
        {
          "output_type": "stream",
          "name": "stdout",
          "text": [
            "[1m 26s (200 10%) 1.5643]\n",
            "Wherences duman me,\n",
            "That much good he sweed should fortune\n",
            "To our fear to what a if my near'd of way,\n",
            " \n",
            "\n"
          ]
        },
        {
          "output_type": "stream",
          "name": "stderr",
          "text": [
            " 15%|█▌        | 300/2000 [02:05<10:44,  2.64it/s]"
          ]
        },
        {
          "output_type": "stream",
          "name": "stdout",
          "text": [
            "[2m 5s (300 15%) 1.5270]\n",
            "Wher hath with messerile.\n",
            "A dancunter-we have not so shall thee that hath not it,\n",
            "Dive they mother to  \n",
            "\n"
          ]
        },
        {
          "output_type": "stream",
          "name": "stderr",
          "text": [
            " 20%|██        | 400/2000 [02:44<10:14,  2.61it/s]"
          ]
        },
        {
          "output_type": "stream",
          "name": "stdout",
          "text": [
            "[2m 44s (400 20%) 1.4704]\n",
            "Whild,\n",
            "First kill sents than a present.\n",
            "\n",
            "Pedants,\n",
            "The place it of my prince are there?\n",
            "\n",
            "DUKE OF YORK:\n",
            " \n",
            "\n"
          ]
        },
        {
          "output_type": "stream",
          "name": "stderr",
          "text": [
            " 25%|██▌       | 500/2000 [03:23<09:40,  2.58it/s]"
          ]
        },
        {
          "output_type": "stream",
          "name": "stdout",
          "text": [
            "[3m 22s (500 25%) 1.4440]\n",
            "Whift me of my life.\n",
            "\n",
            "GLOUCESTER:\n",
            "Ay, I very will blood in hath he bear\n",
            "ston'd your dived many worshal \n",
            "\n"
          ]
        },
        {
          "output_type": "stream",
          "name": "stderr",
          "text": [
            " 30%|███       | 600/2000 [04:01<08:49,  2.64it/s]"
          ]
        },
        {
          "output_type": "stream",
          "name": "stdout",
          "text": [
            "[4m 1s (600 30%) 1.4231]\n",
            "Where will bless and percear.\n",
            "\n",
            "GREMIO:\n",
            "And he quench his Soldect to princes we are nothing\n",
            "persman, th \n",
            "\n"
          ]
        },
        {
          "output_type": "stream",
          "name": "stderr",
          "text": [
            " 35%|███▌      | 700/2000 [04:41<11:25,  1.90it/s]"
          ]
        },
        {
          "output_type": "stream",
          "name": "stdout",
          "text": [
            "[4m 41s (700 35%) 1.4035]\n",
            "What bless with grave and man!\n",
            "Brother goodly secret by my irest of head\n",
            "The terreter and your king, o \n",
            "\n"
          ]
        },
        {
          "output_type": "stream",
          "name": "stderr",
          "text": [
            " 40%|████      | 800/2000 [05:20<08:18,  2.41it/s]"
          ]
        },
        {
          "output_type": "stream",
          "name": "stdout",
          "text": [
            "[5m 20s (800 40%) 1.3979]\n",
            "Why and lies,\n",
            "Though drew them best all the pecrice his scare?\n",
            "\n",
            "ANGELO:\n",
            "Which may well dares to for yo \n",
            "\n"
          ]
        },
        {
          "output_type": "stream",
          "name": "stderr",
          "text": [
            " 45%|████▌     | 900/2000 [05:59<07:13,  2.54it/s]"
          ]
        },
        {
          "output_type": "stream",
          "name": "stdout",
          "text": [
            "[5m 59s (900 45%) 1.3753]\n",
            "Why at the secret when the tongue\n",
            "With the city that that you have go sancill to kill,\n",
            "And murder the  \n",
            "\n"
          ]
        },
        {
          "output_type": "stream",
          "name": "stderr",
          "text": [
            " 50%|█████     | 1000/2000 [06:38<06:23,  2.60it/s]"
          ]
        },
        {
          "output_type": "stream",
          "name": "stdout",
          "text": [
            "[6m 38s (1000 50%) 1.4100]\n",
            "What was full.\n",
            "\n",
            "SEBORTON:\n",
            "Marry, sir; let's so blood on your mistake\n",
            "For you shall see the sad to her  \n",
            "\n"
          ]
        },
        {
          "output_type": "stream",
          "name": "stderr",
          "text": [
            " 55%|█████▌    | 1100/2000 [07:17<05:48,  2.58it/s]"
          ]
        },
        {
          "output_type": "stream",
          "name": "stdout",
          "text": [
            "[7m 17s (1100 55%) 1.4004]\n",
            "Whethem and stand and house,\n",
            "And their precedant his tribune come, sir.\n",
            "\n",
            "BAPTISTA:\n",
            "Ay, come, trenclini \n",
            "\n"
          ]
        },
        {
          "output_type": "stream",
          "name": "stderr",
          "text": [
            " 60%|██████    | 1200/2000 [07:56<05:06,  2.61it/s]"
          ]
        },
        {
          "output_type": "stream",
          "name": "stdout",
          "text": [
            "[7m 56s (1200 60%) 1.3861]\n",
            "What, yet will vengely.\n",
            "\n",
            "First Cotide:\n",
            "There, stunges not to thy loved and discontented the since\n",
            "Hark \n",
            "\n"
          ]
        },
        {
          "output_type": "stream",
          "name": "stderr",
          "text": [
            " 65%|██████▌   | 1300/2000 [08:35<04:33,  2.55it/s]"
          ]
        },
        {
          "output_type": "stream",
          "name": "stdout",
          "text": [
            "[8m 35s (1300 65%) 1.3700]\n",
            "Where are away:\n",
            "Thy time is thy feel his dear her despire,\n",
            "For what then the instakine early\n",
            "That be w \n",
            "\n"
          ]
        },
        {
          "output_type": "stream",
          "name": "stderr",
          "text": [
            " 70%|███████   | 1400/2000 [09:16<04:55,  2.03it/s]"
          ]
        },
        {
          "output_type": "stream",
          "name": "stdout",
          "text": [
            "[9m 16s (1400 70%) 1.3559]\n",
            "Which enjoy, but will say,\n",
            "has I thou prove me further.\n",
            "\n",
            "Weig:\n",
            "Now his idle your inknost; he,\n",
            "Whenced  \n",
            "\n"
          ]
        },
        {
          "output_type": "stream",
          "name": "stderr",
          "text": [
            " 75%|███████▌  | 1500/2000 [09:56<03:23,  2.45it/s]"
          ]
        },
        {
          "output_type": "stream",
          "name": "stdout",
          "text": [
            "[9m 56s (1500 75%) 1.3413]\n",
            "Where's thee?\n",
            "\n",
            "PETRUCHIO:\n",
            "What thou love my tender long how to visage you,\n",
            "Which may be company should \n",
            "\n"
          ]
        },
        {
          "output_type": "stream",
          "name": "stderr",
          "text": [
            " 80%|████████  | 1600/2000 [10:36<02:39,  2.51it/s]"
          ]
        },
        {
          "output_type": "stream",
          "name": "stdout",
          "text": [
            "[10m 36s (1600 80%) 1.3957]\n",
            "Wher come shall come to be doubt\n",
            "Spoked breath of this leave thy love with me\n",
            "To as so company the Duk \n",
            "\n"
          ]
        },
        {
          "output_type": "stream",
          "name": "stderr",
          "text": [
            " 85%|████████▌ | 1700/2000 [11:15<01:54,  2.62it/s]"
          ]
        },
        {
          "output_type": "stream",
          "name": "stdout",
          "text": [
            "[11m 15s (1700 85%) 1.3653]\n",
            "Where with the when I have,\n",
            "Drawn that hath she be soldiers to beseech of the lady for England.\n",
            "\n",
            "YORK: \n",
            "\n"
          ]
        },
        {
          "output_type": "stream",
          "name": "stderr",
          "text": [
            " 90%|█████████ | 1800/2000 [11:54<01:16,  2.63it/s]"
          ]
        },
        {
          "output_type": "stream",
          "name": "stdout",
          "text": [
            "[11m 54s (1800 90%) 1.3854]\n",
            "When it she were it of it which have broke that I shall stand thee.\n",
            "\n",
            "KATHARINA:\n",
            "Thou hast your son, he \n",
            "\n"
          ]
        },
        {
          "output_type": "stream",
          "name": "stderr",
          "text": [
            " 95%|█████████▌| 1900/2000 [12:34<00:48,  2.07it/s]"
          ]
        },
        {
          "output_type": "stream",
          "name": "stdout",
          "text": [
            "[12m 33s (1900 95%) 1.3523]\n",
            "Where's a gone; but do no pleasing still defend them be thou art thou banish.\n",
            "\n",
            "LUCIO:\n",
            "Yet, well do you \n",
            "\n"
          ]
        },
        {
          "output_type": "stream",
          "name": "stderr",
          "text": [
            "100%|██████████| 2000/2000 [13:13<00:00,  2.52it/s]"
          ]
        },
        {
          "output_type": "stream",
          "name": "stdout",
          "text": [
            "[13m 13s (2000 100%) 1.3631]\n",
            "Which is young when thou know not, or sea\n",
            "Is this poor send them this be then,\n",
            "To the made a worses.\n",
            "\n",
            " \n",
            "\n",
            "Saving...\n",
            "Saved as shakespeare.pt\n"
          ]
        },
        {
          "output_type": "stream",
          "name": "stderr",
          "text": [
            "\n"
          ]
        }
      ]
    },
    {
      "cell_type": "code",
      "source": [
        "import matplotlib.pyplot as plt\n",
        "\n",
        "epochs = len(all_losses)\n",
        "plt.plot(range(epochs), all_losses, label='Training Perplexity')\n",
        "plt.title('Training Perplexity Curve')\n",
        "plt.xlabel('Epochs')\n",
        "plt.ylabel('Perplexity')\n",
        "plt.ylim(0, 10)\n",
        "\n",
        "# set the legend and display the plot\n",
        "plt.legend()\n",
        "plt.show()"
      ],
      "metadata": {
        "id": "QB-w_8QUbG5q",
        "outputId": "bae97af8-ca16-45e2-b4b3-d5963f5fc924",
        "colab": {
          "base_uri": "https://localhost:8080/",
          "height": 472
        }
      },
      "execution_count": 35,
      "outputs": [
        {
          "output_type": "display_data",
          "data": {
            "text/plain": [
              "<Figure size 640x480 with 1 Axes>"
            ],
            "image/png": "[encoded data removed]"
          },
          "metadata": {}
        }
      ]
    },
    {
      "cell_type": "markdown",
      "source": [
        "## Task 2"
      ],
      "metadata": {
        "id": "_8aUfaxWlfGX"
      }
    },
    {
      "cell_type": "code",
      "source": [
        "decoder = torch.load('shakespeare.pt')"
      ],
      "metadata": {
        "id": "EBPYWWPwiwcs"
      },
      "execution_count": 37,
      "outputs": []
    },
    {
      "cell_type": "code",
      "source": [
        "print(generate(decoder, prime_str='hj34s', cuda=args.cuda))"
      ],
      "metadata": {
        "id": "DdrO15Hhkipr",
        "outputId": "a4983226-508e-4ca2-b3ed-70129856b63b",
        "colab": {
          "base_uri": "https://localhost:8080/"
        }
      },
      "execution_count": 41,
      "outputs": [
        {
          "output_type": "stream",
          "name": "stdout",
          "text": [
            "hj34s officer, could you do?\n",
            "\n",
            "Nurse:\n",
            "Why, in the chsignwell: being born peril of\n",
            "that his speemertle, the\n"
          ]
        }
      ]
    },
    {
      "cell_type": "code",
      "source": [
        "print(generate(decoder, prime_str='2sf 4', cuda=args.cuda))"
      ],
      "metadata": {
        "id": "fhD-Lo0jk_0k",
        "outputId": "967aa058-6a7e-47f3-94cc-6b17840862ae",
        "colab": {
          "base_uri": "https://localhost:8080/"
        }
      },
      "execution_count": 42,
      "outputs": [
        {
          "output_type": "stream",
          "name": "stdout",
          "text": [
            "2sf 4alled holy dinest world.\n",
            "\n",
            "MERCUTIO:\n",
            "What is a king and men when you too take you:\n",
            "I would desire to \n"
          ]
        }
      ]
    },
    {
      "cell_type": "code",
      "source": [
        "print(generate(decoder, prime_str='  3  ', cuda=args.cuda))"
      ],
      "metadata": {
        "id": "Yfc14HS3lA34",
        "outputId": "91786af5-4430-411e-c16b-7918727c41d1",
        "colab": {
          "base_uri": "https://localhost:8080/"
        }
      },
      "execution_count": 43,
      "outputs": [
        {
          "output_type": "stream",
          "name": "stdout",
          "text": [
            "  3  IV:\n",
            "Whiling face! for comes are deceived;\n",
            "Yet what is the wounds the hind in him of my honour how\n",
            "Is\n"
          ]
        }
      ]
    },
    {
      "cell_type": "markdown",
      "source": [
        "## Task 3"
      ],
      "metadata": {
        "id": "uSLJrJyqlieF"
      }
    },
    {
      "cell_type": "code",
      "source": [
        "print(generate(decoder, prime_str='The', cuda=args.cuda))"
      ],
      "metadata": {
        "id": "sM8Df2g6lh9S",
        "outputId": "dc68c05b-624b-4792-ab65-99a49d7a9189",
        "colab": {
          "base_uri": "https://localhost:8080/"
        }
      },
      "execution_count": 44,
      "outputs": [
        {
          "output_type": "stream",
          "name": "stdout",
          "text": [
            "The tale true vermelty distrous dedvengest so will, whose young confess to chance.\n",
            "\n",
            "MENENIUS:\n",
            "The king,\n"
          ]
        }
      ]
    },
    {
      "cell_type": "code",
      "source": [
        "print(generate(decoder, prime_str='What is', cuda=args.cuda))"
      ],
      "metadata": {
        "id": "F-ytr2Cult5Y",
        "outputId": "c299703d-060e-4a40-8769-05119b5369de",
        "colab": {
          "base_uri": "https://localhost:8080/"
        }
      },
      "execution_count": 45,
      "outputs": [
        {
          "output_type": "stream",
          "name": "stdout",
          "text": [
            "What is the word,\n",
            "If it under my army before a power,\n",
            "Which thinks o'er villain so dead with such a warm\n",
            "Fa\n"
          ]
        }
      ]
    },
    {
      "cell_type": "code",
      "source": [
        "print(generate(decoder, prime_str='Shall I give', cuda=args.cuda))"
      ],
      "metadata": {
        "id": "J-L-yBYslzDk",
        "outputId": "d0674468-4eb6-4335-8374-9fee2395491b",
        "colab": {
          "base_uri": "https://localhost:8080/"
        }
      },
      "execution_count": 46,
      "outputs": [
        {
          "output_type": "stream",
          "name": "stdout",
          "text": [
            "Shall I give me stands?\n",
            "And I make had revenge his thirsting once,\n",
            "That is like are a business counted worse;\n",
            "Fo\n"
          ]
        }
      ]
    },
    {
      "cell_type": "code",
      "source": [
        "print(generate(decoder, prime_str='X087hNYB BHN BYFVuhsdbs', cuda=args.cuda))"
      ],
      "metadata": {
        "id": "jKw4Vtisl_V5",
        "outputId": "a4d5eb59-f091-4bbb-9655-8f38eb0ec8c1",
        "colab": {
          "base_uri": "https://localhost:8080/"
        }
      },
      "execution_count": 47,
      "outputs": [
        {
          "output_type": "stream",
          "name": "stdout",
          "text": [
            "X087hNYB BHN BYFVuhsdbs I shed; and them\n",
            "Hath the thrive in this: 'tis affairs them and\n",
            "father to grow his counsellish.\n",
            "\n",
            "AN\n"
          ]
        }
      ]
    }
  ],
  "metadata": {
    "kernelspec": {
      "display_name": "Python 3",
      "language": "python",
      "name": "python3"
    },
    "language_info": {
      "codemirror_mode": {
        "name": "ipython",
        "version": 3
      },
      "file_extension": ".py",
      "mimetype": "text/x-python",
      "name": "python",
      "nbconvert_exporter": "python",
      "pygments_lexer": "ipython3",
      "version": "3.8.10"
    },
    "orig_nbformat": 4,
    "colab": {
      "provenance": []
    },
    "accelerator": "GPU",
    "gpuClass": "standard"
  },
  "nbformat": 4,
  "nbformat_minor": 0
}