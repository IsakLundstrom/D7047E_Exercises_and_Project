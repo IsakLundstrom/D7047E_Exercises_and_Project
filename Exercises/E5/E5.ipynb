{
  "cells": [
    {
      "cell_type": "markdown",
      "metadata": {
        "id": "S2tk_WzuAmjM"
      },
      "source": [
        "# Exercise 5"
      ]
    },
    {
      "cell_type": "markdown",
      "source": [
        "## Task 1"
      ],
      "metadata": {
        "id": "wufyoGgvqDqT"
      }
    },
    {
      "cell_type": "code",
      "source": [
        "import torch\n",
        "import torch.nn.functional as nn\n",
        "import torch.autograd as autograd\n",
        "import torch.optim as optim\n",
        "import numpy as np\n",
        "import matplotlib.pyplot as plt\n",
        "import matplotlib.gridspec as gridspec\n",
        "import os\n",
        "from torch.autograd import Variable\n",
        "import torchvision"
      ],
      "metadata": {
        "id": "61GAuoXEpnN_"
      },
      "execution_count": 23,
      "outputs": []
    },
    {
      "cell_type": "code",
      "source": [
        "data = torchvision.datasets.MNIST(root='data', train=True, transform=torchvision.transforms.ToTensor(), download=True)\n",
        "loader = torch.utils.data.DataLoader(data, batch_size=60, shuffle=True, num_workers=2)\n",
        "\n",
        "mb_size = 60\n",
        "Z_dim = 100\n",
        "X_dim = 784\n",
        "y_dim = 10\n",
        "h_dim = 128\n",
        "c = 0\n",
        "lr = 1e-3\n",
        "\n",
        "\n",
        "def xavier_init(size):\n",
        "    in_dim = size[0]\n",
        "    xavier_stddev = 1. / np.sqrt(in_dim / 2.)\n",
        "    return Variable(torch.randn(*size) * xavier_stddev, requires_grad=True)\n",
        "\n",
        "\n",
        "\"\"\" ==================== GENERATOR ======================== \"\"\"\n",
        "\n",
        "Wzh = xavier_init(size=[Z_dim, h_dim])\n",
        "bzh = Variable(torch.zeros(h_dim), requires_grad=True)\n",
        "\n",
        "Whx = xavier_init(size=[h_dim, X_dim])\n",
        "bhx = Variable(torch.zeros(X_dim), requires_grad=True)\n",
        "\n",
        "\n",
        "def G(z):\n",
        "    h = nn.relu(z @ Wzh + bzh.repeat(z.size(0), 1))\n",
        "    X = torch.sigmoid(h @ Whx + bhx.repeat(h.size(0), 1))\n",
        "    return X\n",
        "\n",
        "\n",
        "\"\"\" ==================== DISCRIMINATOR ======================== \"\"\"\n",
        "\n",
        "Wxh = xavier_init(size=[X_dim, h_dim])\n",
        "bxh = Variable(torch.zeros(h_dim), requires_grad=True)\n",
        "\n",
        "Why = xavier_init(size=[h_dim, 1])\n",
        "bhy = Variable(torch.zeros(1), requires_grad=True)\n",
        "\n",
        "\n",
        "def D(X):\n",
        "    h = nn.relu(X @ Wxh + bxh.repeat(X.size(0), 1))\n",
        "    y = torch.sigmoid(h @ Why + bhy.repeat(h.size(0), 1))\n",
        "    return y\n",
        "\n",
        "\n",
        "G_params = [Wzh, bzh, Whx, bhx]\n",
        "D_params = [Wxh, bxh, Why, bhy]\n",
        "params = G_params + D_params\n",
        "\n",
        "\n",
        "\"\"\" ===================== TRAINING ======================== \"\"\"\n",
        "\n",
        "\n",
        "def reset_grad():\n",
        "    for p in params:\n",
        "        if p.grad is not None:\n",
        "            data = p.grad.data\n",
        "            p.grad = Variable(data.new().resize_as_(data).zero_())\n",
        "\n",
        "\n",
        "G_solver = optim.Adam(G_params, lr=1e-3)\n",
        "D_solver = optim.Adam(D_params, lr=1e-3)\n",
        "\n",
        "ones_label = Variable(torch.ones(mb_size, 1))\n",
        "zeros_label = Variable(torch.zeros(mb_size, 1))\n",
        "\n",
        "maxEpochs = 100;\n",
        "\n",
        "iterations = 0\n",
        "maxIterations = 20000\n",
        "# max_iterations = 100000\n",
        "\n",
        "dLoss, gLoss = [], []\n",
        "\n",
        "for epoch in range(maxEpochs):\n",
        "    if iterations == maxIterations:\n",
        "      break \n",
        "    for i, (images, labels) in enumerate(loader): \n",
        "      if iterations == maxIterations:\n",
        "        break \n",
        "      iterations += 1\n",
        "\n",
        "      # Sample data\n",
        "      z = Variable(torch.randn(mb_size, Z_dim))\n",
        "      X = torch.reshape(images, (60,-1))\n",
        "      X = Variable(X)\n",
        "\n",
        "      # Dicriminator forward-loss-backward-update\n",
        "      G_sample = G(z)\n",
        "      D_real = D(X)\n",
        "      D_fake = D(G_sample)\n",
        "\n",
        "      D_loss = -torch.mean(torch.log(D_real) + torch.log(1. - D_fake)) # original loss\n",
        "\n",
        "      # D_loss_real = nn.binary_cross_entropy(D_real, ones_label)\n",
        "      # D_loss_fake = nn.binary_cross_entropy(D_fake, zeros_label)\n",
        "      # D_loss = D_loss_real + D_loss_fake                                # logistic loss\n",
        "\n",
        "      D_loss.backward()\n",
        "      D_solver.step()\n",
        "\n",
        "      # Housekeeping - reset gradient\n",
        "      reset_grad()\n",
        "\n",
        "      # Generator forward-loss-backward-update\n",
        "      z = Variable(torch.randn(mb_size, Z_dim))\n",
        "      G_sample = G(z)\n",
        "      D_fake = D(G_sample)\n",
        "\n",
        "\n",
        "      G_loss = -torch.mean(torch.log(D_fake))                # original loss\n",
        "      # G_loss = nn.binary_cross_entropy(D_fake, ones_label)    # logistic loss\n",
        "\n",
        "      G_loss.backward()\n",
        "      G_solver.step()\n",
        "\n",
        "      # Housekeeping - reset gradient\n",
        "      reset_grad()\n",
        "\n",
        "      # Save loss for plot\n",
        "      dLoss.append(D_loss.item())\n",
        "      gLoss.append(G_loss.item())\n",
        "\n",
        "      # Print and plot every now and then\n",
        "      if iterations % 2000 == 0 or iterations == 1:\n",
        "          print('Iter-{}; D_loss: {}; G_loss: {}'.format(iterations, D_loss.data.numpy(), G_loss.data.numpy()))\n",
        "\n",
        "          samples = G(z).data.numpy()[:16]\n",
        "\n",
        "          fig = plt.figure(figsize=(4, 4))\n",
        "          gs = gridspec.GridSpec(4, 4)\n",
        "          gs.update(wspace=0.05, hspace=0.05)\n",
        "\n",
        "          for j, sample in enumerate(samples):\n",
        "              ax = plt.subplot(gs[j])\n",
        "              plt.axis('off')\n",
        "              ax.set_xticklabels([])\n",
        "              ax.set_yticklabels([])\n",
        "              ax.set_aspect('equal')\n",
        "              plt.imshow(sample.reshape(28, 28), cmap='Greys_r')\n",
        "\n",
        "          if not os.path.exists('out/'):\n",
        "              os.makedirs('out/')\n",
        "\n",
        "          plt.savefig('out/{}--{}.png'.format(str(c).zfill(3), iterations), bbox_inches='tight')\n",
        "          c += 1\n",
        "          plt.close(fig)\n",
        "        "
      ],
      "metadata": {
        "colab": {
          "base_uri": "https://localhost:8080/"
        },
        "id": "sCtm6aQD8P8v",
        "outputId": "19fb8560-4927-4747-ef3a-5bd2acc7fd0f"
      },
      "execution_count": 18,
      "outputs": [
        {
          "output_type": "stream",
          "name": "stdout",
          "text": [
            "Iter-1; D_loss: 1.6293247938156128; G_loss: 2.0355405807495117\n",
            "Iter-2000; D_loss: 0.007447443436831236; G_loss: 6.965558052062988\n",
            "Iter-4000; D_loss: 0.06544764339923859; G_loss: 4.964506149291992\n",
            "Iter-6000; D_loss: 0.386603981256485; G_loss: 4.512312412261963\n",
            "Iter-8000; D_loss: 0.4401994049549103; G_loss: 3.7447164058685303\n",
            "Iter-10000; D_loss: 0.8004576563835144; G_loss: 3.4841315746307373\n",
            "Iter-12000; D_loss: 0.9964443445205688; G_loss: 2.105043888092041\n",
            "Iter-14000; D_loss: 0.6353952288627625; G_loss: 2.489680290222168\n",
            "Iter-16000; D_loss: 0.5224835276603699; G_loss: 2.75390362739563\n",
            "Iter-18000; D_loss: 0.7071662545204163; G_loss: 2.402113914489746\n",
            "Iter-20000; D_loss: 0.8684597015380859; G_loss: 1.9431015253067017\n"
          ]
        }
      ]
    },
    {
      "cell_type": "code",
      "source": [
        "eRange = range(1, iterations+1)\n",
        "fig, ax = plt.subplots()\n",
        "\n",
        "window_size = 1000\n",
        "padded_dLoss = np.concatenate(([dLoss[0]]*(window_size-1), dLoss))\n",
        "padded_gLoss = np.concatenate(([gLoss[0]]*(window_size-1), gLoss))\n",
        "rolling_mean_dLoss = np.convolve(padded_dLoss, np.ones(window_size)/window_size, mode='valid')\n",
        "rolling_mean_gLoss = np.convolve(padded_gLoss, np.ones(window_size)/window_size, mode='valid')\n",
        "\n",
        "# plot dLoss and gLoss with smoothed lines\n",
        "ax.plot(eRange, rolling_mean_dLoss, label='Smoothed Discriminator Loss')\n",
        "ax.plot(eRange, rolling_mean_gLoss, label='Smoothed Generator Loss')\n",
        "\n",
        "ax.set_xlabel('Epoch')\n",
        "ax.set_ylabel('Loss')\n",
        "ax.set_title('Discriminator and Generator Loss')\n",
        "\n",
        "ax.legend()\n",
        "plt.show()"
      ],
      "metadata": {
        "id": "NR4WgPrxys--",
        "outputId": "9a818255-640b-49b3-92a2-a0d58cb51b05",
        "colab": {
          "base_uri": "https://localhost:8080/",
          "height": 472
        }
      },
      "execution_count": 19,
      "outputs": [
        {
          "output_type": "display_data",
          "data": {
            "text/plain": [
              "<Figure size 640x480 with 1 Axes>"
            ],
            "image/png": "[encoded data removed]"
          },
          "metadata": {}
        }
      ]
    },
    {
      "cell_type": "code",
      "source": [
        "!zip -r /content/out-20k-original-loss.zip /content/out"
      ],
      "metadata": {
        "id": "Ks_huL2w872u",
        "outputId": "2afca88f-f1ae-483f-f20c-8ad310503661",
        "colab": {
          "base_uri": "https://localhost:8080/"
        }
      },
      "execution_count": 21,
      "outputs": [
        {
          "output_type": "stream",
          "name": "stdout",
          "text": [
            "  adding: content/out/ (stored 0%)\n",
            "  adding: content/out/010--20000.png (deflated 7%)\n",
            "  adding: content/out/002--4000.png (deflated 7%)\n",
            "  adding: content/out/000--1.png (deflated 5%)\n",
            "  adding: content/out/007--14000.png (deflated 6%)\n",
            "  adding: content/out/005--10000.png (deflated 7%)\n",
            "  adding: content/out/006--12000.png (deflated 7%)\n",
            "  adding: content/out/008--16000.png (deflated 7%)\n",
            "  adding: content/out/001--2000.png (deflated 8%)\n",
            "  adding: content/out/004--8000.png (deflated 7%)\n",
            "  adding: content/out/003--6000.png (deflated 6%)\n",
            "  adding: content/out/009--18000.png (deflated 7%)\n"
          ]
        }
      ]
    },
    {
      "cell_type": "markdown",
      "source": [
        "## Task 2"
      ],
      "metadata": {
        "id": "-pEg0Ltwqfrn"
      }
    },
    {
      "cell_type": "code",
      "source": [],
      "metadata": {
        "id": "Pf-_4LBUqfUS"
      },
      "execution_count": null,
      "outputs": []
    }
  ],
  "metadata": {
    "kernelspec": {
      "display_name": "Python 3",
      "language": "python",
      "name": "python3"
    },
    "language_info": {
      "codemirror_mode": {
        "name": "ipython",
        "version": 3
      },
      "file_extension": ".py",
      "mimetype": "text/x-python",
      "name": "python",
      "nbconvert_exporter": "python",
      "pygments_lexer": "ipython3",
      "version": "3.8.10"
    },
    "orig_nbformat": 4,
    "colab": {
      "provenance": [],
      "gpuType": "T4"
    },
    "gpuClass": "standard"
  },
  "nbformat": 4,
  "nbformat_minor": 0
}