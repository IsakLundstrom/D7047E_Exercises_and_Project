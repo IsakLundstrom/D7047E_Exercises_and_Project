{
 "cells": [
  {
   "cell_type": "code",
   "execution_count": 67,
   "metadata": {},
   "outputs": [],
   "source": [
    "import torch\n",
    "import torchvision\n",
    "import torchvision.transforms as transforms\n",
    "import torch.nn as nn\n",
    "import torch.nn.functional as F\n",
    "\n",
    "import numpy as np"
   ]
  },
  {
   "cell_type": "code",
   "execution_count": 68,
   "metadata": {},
   "outputs": [
    {
     "name": "stdout",
     "output_type": "stream",
     "text": [
      "Files already downloaded and verified\n",
      "Files already downloaded and verified\n"
     ]
    }
   ],
   "source": [
    "# Load and normalizde the data\n",
    "\n",
    "transform = transforms.Compose(\n",
    "    [transforms.ToTensor(),\n",
    "     transforms.Normalize((0.5, 0.5, 0.5), (0.5, 0.5, 0.5))])\n",
    "\n",
    "batchSize = 5\n",
    "validSize = 0.2 # use 20% of train set as validation\n",
    "\n",
    "device = torch.device(\"cuda:0\" if torch.cuda.is_available() else \"cpu\")\n",
    "\n",
    "trainValidSet = torchvision.datasets.CIFAR10(root='./data', train=True, download=True, transform=transform)\n",
    "testSet = torchvision.datasets.CIFAR10(root='./data', train=False, download=True, transform=transform)\n",
    "\n",
    "trainSet, validSet = torch.utils.data.random_split(trainValidSet, [int(len(trainValidSet)*(1-validSize)), int(len(trainValidSet)*validSize)])\n",
    "\n",
    "trainLoader = torch.utils.data.DataLoader(trainSet, batch_size=batchSize, shuffle=True)\n",
    "validLoader = torch.utils.data.DataLoader(validSet, batch_size=batchSize, shuffle=True)\n",
    "testLoader = torch.utils.data.DataLoader(testSet, batch_size=batchSize, shuffle=False)\n",
    "\n",
    "classes = ('plane', 'car', 'bird', 'cat', 'deer', 'dog', 'frog', 'horse', 'ship', 'truck')"
   ]
  },
  {
   "cell_type": "code",
   "execution_count": 69,
   "metadata": {},
   "outputs": [],
   "source": [
    "# Writer for tensorBoard\n",
    "from torch.utils.tensorboard import SummaryWriter\n",
    "writer = SummaryWriter()"
   ]
  },
  {
   "cell_type": "code",
   "execution_count": 70,
   "metadata": {},
   "outputs": [
    {
     "data": {
      "text/plain": [
       "(8000, 2000, 2000, torch.Size([3, 32, 32]))"
      ]
     },
     "execution_count": 70,
     "metadata": {},
     "output_type": "execute_result"
    }
   ],
   "source": [
    "len(trainLoader), len(validLoader), len(testLoader), next(iter(testLoader))[0][0].shape"
   ]
  },
  {
   "cell_type": "code",
   "execution_count": 71,
   "metadata": {},
   "outputs": [],
   "source": [
    "# Define the network class\n",
    "\n",
    "class ConvNet(nn.Module):\n",
    "    def __init__(self, activation):\n",
    "        super().__init__()\n",
    "        self.conv1 = nn.Conv2d(3, 6, 5)\n",
    "        self.pool = nn.MaxPool2d(2, 2)\n",
    "        self.conv2 = nn.Conv2d(6, 16, 5)\n",
    "        self.fc1 = nn.Linear(16 * 5 * 5, 100)\n",
    "        self.fc2 = nn.Linear(100, 10)\n",
    "        self.activation = activation\n",
    "\n",
    "    def forward(self, x):\n",
    "        x = self.pool(self.activation(self.conv1(x)))\n",
    "        x = self.pool(self.activation(self.conv2(x)))\n",
    "        x = torch.flatten(x, 1) # flatten all dimensions except batch\n",
    "        x = self.activation(self.fc1(x))\n",
    "        x = self.fc2(x)\n",
    "        return x\n"
   ]
  },
  {
   "cell_type": "code",
   "execution_count": 72,
   "metadata": {},
   "outputs": [],
   "source": [
    "def trainNetwork(network, optimizer, lossFunction, epochs, writer):\n",
    "    network.train()\n",
    "    for epoch in range(epochs):\n",
    "\n",
    "        ### TRAINING ###\n",
    "        trainLoss = 0\n",
    "        for batch_nr, (images, labels) in enumerate(trainLoader):\n",
    "\n",
    "            # Predict\n",
    "            predictions = network(images)\n",
    "\n",
    "            # Get loss and backpropogate\n",
    "            loss = lossFunction(predictions, labels)\n",
    "            loss.backward() \n",
    "\n",
    "            # Optimize parameters (weights and biases) and remove gradients after\n",
    "            optimizer.step() \n",
    "            optimizer.zero_grad()\n",
    "\n",
    "            # Save loss for whole epoch\n",
    "            trainLoss += loss.item()\n",
    "\n",
    "        trainLoss /= len(trainLoader)\n",
    "        writer.add_scalar(\"Loss/train\", trainLoss, epoch)\n",
    "\n",
    "        ### VALIDATION ###\n",
    "        validLoss = 0\n",
    "        for batch_nr, (images, labels) in enumerate(validLoader):\n",
    "\n",
    "            # Predict\n",
    "            predictions = network(images)\n",
    "\n",
    "            # Get loss\n",
    "            loss = lossFunction(predictions, labels)\n",
    "\n",
    "            # Save loss for whole epoch\n",
    "            validLoss += loss.item()\n",
    "\n",
    "        validLoss /= len(validLoader)\n",
    "        writer.add_scalar(\"Loss/valid\", validLoss, epoch)\n",
    "\n",
    "        # Print reuslt of epoch\n",
    "        print(f'Epoch [{epoch+1}/{epochs}] \\t Training Loss: {trainLoss} \\t Validation Loss: {validLoss}')\n",
    "\n",
    "    writer.flush()"
   ]
  },
  {
   "cell_type": "code",
   "execution_count": 73,
   "metadata": {},
   "outputs": [],
   "source": [
    "def testNetwork(network):\n",
    "    correct_predictions = 0\n",
    "\n",
    "    ### TESTING ###\n",
    "    with torch.no_grad(): \n",
    "        for batch_nr, (images, labels) in enumerate(testLoader):\n",
    "            # Get predictions, convert to number and get the amount of correct predicitons\n",
    "            predictions = network(images)\n",
    "            _, predictions = torch.max(predictions, 1) \n",
    "            correct_predictions += (predictions == labels).sum().item() \n",
    "        \n",
    "    print(f\"Accuracy: {100 * correct_predictions / len(testSet)}%\")"
   ]
  },
  {
   "cell_type": "code",
   "execution_count": 74,
   "metadata": {},
   "outputs": [],
   "source": [
    "learningRate = 0.01\n",
    "epochs = 5"
   ]
  },
  {
   "cell_type": "code",
   "execution_count": 75,
   "metadata": {},
   "outputs": [],
   "source": [
    "networkLeakyRelu = ConvNet(F.leaky_relu)\n",
    "\n",
    "optimizerSGD = torch.optim.SGD(networkLeakyRelu.parameters(), lr=learningRate)\n",
    "lossFunction = nn.CrossEntropyLoss()"
   ]
  },
  {
   "cell_type": "code",
   "execution_count": 76,
   "metadata": {},
   "outputs": [
    {
     "name": "stdout",
     "output_type": "stream",
     "text": [
      "Epoch [1/5] \t Training Loss: 1.7032150114998221 \t Validation Loss: 1.4552848601043225\n"
     ]
    },
    {
     "ename": "KeyboardInterrupt",
     "evalue": "",
     "output_type": "error",
     "traceback": [
      "\u001b[1;31m---------------------------------------------------------------------------\u001b[0m",
      "\u001b[1;31mKeyboardInterrupt\u001b[0m                         Traceback (most recent call last)",
      "Cell \u001b[1;32mIn[76], line 1\u001b[0m\n\u001b[1;32m----> 1\u001b[0m trainNetwork(networkLeakyRelu, optimizerSGD, lossFunction, epochs, writer)\n",
      "Cell \u001b[1;32mIn[72], line 14\u001b[0m, in \u001b[0;36mtrainNetwork\u001b[1;34m(network, optimizer, lossFunction, epochs, writer)\u001b[0m\n\u001b[0;32m     12\u001b[0m \u001b[39m# Get loss and backpropogate\u001b[39;00m\n\u001b[0;32m     13\u001b[0m loss \u001b[39m=\u001b[39m lossFunction(predictions, labels)\n\u001b[1;32m---> 14\u001b[0m loss\u001b[39m.\u001b[39;49mbackward() \n\u001b[0;32m     16\u001b[0m \u001b[39m# Optimize parameters (weights and biases) and remove gradients after\u001b[39;00m\n\u001b[0;32m     17\u001b[0m optimizer\u001b[39m.\u001b[39mstep() \n",
      "File \u001b[1;32mc:\\Users\\isakl\\.pyenv\\pyenv-win\\versions\\3.8.10\\lib\\site-packages\\torch\\_tensor.py:307\u001b[0m, in \u001b[0;36mTensor.backward\u001b[1;34m(self, gradient, retain_graph, create_graph, inputs)\u001b[0m\n\u001b[0;32m    298\u001b[0m \u001b[39mif\u001b[39;00m has_torch_function_unary(\u001b[39mself\u001b[39m):\n\u001b[0;32m    299\u001b[0m     \u001b[39mreturn\u001b[39;00m handle_torch_function(\n\u001b[0;32m    300\u001b[0m         Tensor\u001b[39m.\u001b[39mbackward,\n\u001b[0;32m    301\u001b[0m         (\u001b[39mself\u001b[39m,),\n\u001b[1;32m   (...)\u001b[0m\n\u001b[0;32m    305\u001b[0m         create_graph\u001b[39m=\u001b[39mcreate_graph,\n\u001b[0;32m    306\u001b[0m         inputs\u001b[39m=\u001b[39minputs)\n\u001b[1;32m--> 307\u001b[0m torch\u001b[39m.\u001b[39;49mautograd\u001b[39m.\u001b[39;49mbackward(\u001b[39mself\u001b[39;49m, gradient, retain_graph, create_graph, inputs\u001b[39m=\u001b[39;49minputs)\n",
      "File \u001b[1;32mc:\\Users\\isakl\\.pyenv\\pyenv-win\\versions\\3.8.10\\lib\\site-packages\\torch\\autograd\\__init__.py:154\u001b[0m, in \u001b[0;36mbackward\u001b[1;34m(tensors, grad_tensors, retain_graph, create_graph, grad_variables, inputs)\u001b[0m\n\u001b[0;32m    151\u001b[0m \u001b[39mif\u001b[39;00m retain_graph \u001b[39mis\u001b[39;00m \u001b[39mNone\u001b[39;00m:\n\u001b[0;32m    152\u001b[0m     retain_graph \u001b[39m=\u001b[39m create_graph\n\u001b[1;32m--> 154\u001b[0m Variable\u001b[39m.\u001b[39;49m_execution_engine\u001b[39m.\u001b[39;49mrun_backward(\n\u001b[0;32m    155\u001b[0m     tensors, grad_tensors_, retain_graph, create_graph, inputs,\n\u001b[0;32m    156\u001b[0m     allow_unreachable\u001b[39m=\u001b[39;49m\u001b[39mTrue\u001b[39;49;00m, accumulate_grad\u001b[39m=\u001b[39;49m\u001b[39mTrue\u001b[39;49;00m)\n",
      "\u001b[1;31mKeyboardInterrupt\u001b[0m: "
     ]
    }
   ],
   "source": [
    "trainNetwork(networkLeakyRelu, optimizerSGD, lossFunction, epochs, writer)"
   ]
  },
  {
   "cell_type": "code",
   "execution_count": null,
   "metadata": {},
   "outputs": [],
   "source": [
    "testNetwork(networkLeakyRelu)"
   ]
  },
  {
   "cell_type": "code",
   "execution_count": null,
   "metadata": {},
   "outputs": [],
   "source": [
    "optimizerAdam = torch.optim.Adam(networkLeakyRelu.parameters(), lr=learningRate)\n",
    "trainNetwork(networkLeakyRelu, optimizerAdam, lossFunction, epochs, writer)"
   ]
  },
  {
   "cell_type": "code",
   "execution_count": null,
   "metadata": {},
   "outputs": [],
   "source": [
    "testNetwork(networkLeakyRelu)"
   ]
  },
  {
   "cell_type": "code",
   "execution_count": null,
   "metadata": {},
   "outputs": [],
   "source": [
    "networkTanh = ConvNet(F.tanh)\n",
    "trainNetwork(networkTanh, optimizerAdam, lossFunction, epochs, writer)"
   ]
  },
  {
   "cell_type": "code",
   "execution_count": null,
   "metadata": {},
   "outputs": [],
   "source": [
    "testNetwork(networkTanh)"
   ]
  }
 ],
 "metadata": {
  "kernelspec": {
   "display_name": "Python 3",
   "language": "python",
   "name": "python3"
  },
  "language_info": {
   "codemirror_mode": {
    "name": "ipython",
    "version": 3
   },
   "file_extension": ".py",
   "mimetype": "text/x-python",
   "name": "python",
   "nbconvert_exporter": "python",
   "pygments_lexer": "ipython3",
   "version": "3.8.10"
  },
  "orig_nbformat": 4
 },
 "nbformat": 4,
 "nbformat_minor": 2
}
