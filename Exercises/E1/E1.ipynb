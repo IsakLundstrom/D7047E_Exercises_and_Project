{
 "cells": [
  {
   "cell_type": "code",
   "execution_count": 52,
   "metadata": {},
   "outputs": [],
   "source": [
    "import torch\n",
    "import torchvision\n",
    "import torchvision.transforms as transforms\n",
    "import torch.nn as nn\n",
    "import torch.nn.functional as F\n",
    "\n",
    "import numpy as np"
   ]
  },
  {
   "cell_type": "code",
   "execution_count": 53,
   "metadata": {},
   "outputs": [
    {
     "name": "stdout",
     "output_type": "stream",
     "text": [
      "Files already downloaded and verified\n",
      "Files already downloaded and verified\n"
     ]
    }
   ],
   "source": [
    "# Load and normalizde the data\n",
    "\n",
    "transform = transforms.Compose(\n",
    "    [transforms.ToTensor(),\n",
    "     transforms.Normalize((0.5, 0.5, 0.5), (0.5, 0.5, 0.5))])\n",
    "\n",
    "batchSize = 5\n",
    "validSize = 0.2 # use 20% of train set as validation\n",
    "\n",
    "trainValidSet = torchvision.datasets.CIFAR10(root='./data', train=True, download=True, transform=transform)\n",
    "testSet = torchvision.datasets.CIFAR10(root='./data', train=False, download=True, transform=transform)\n",
    "\n",
    "trainSet, validSet = torch.utils.data.random_split(trainValidSet, [int(len(trainValidSet)*(1-validSize)), int(len(trainValidSet)*validSize)])\n",
    "\n",
    "trainLoader = torch.utils.data.DataLoader(trainSet, batch_size=batchSize, shuffle=True)\n",
    "validLoader = torch.utils.data.DataLoader(validSet, batch_size=batchSize, shuffle=True)\n",
    "testLoader = torch.utils.data.DataLoader(testSet, batch_size=batchSize, shuffle=False)\n",
    "\n",
    "classes = ('plane', 'car', 'bird', 'cat', 'deer', 'dog', 'frog', 'horse', 'ship', 'truck')"
   ]
  },
  {
   "cell_type": "code",
   "execution_count": 54,
   "metadata": {},
   "outputs": [],
   "source": [
    "# Writer for tensorBoard\n",
    "from torch.utils.tensorboard import SummaryWriter\n",
    "writer = SummaryWriter()"
   ]
  },
  {
   "cell_type": "code",
   "execution_count": 55,
   "metadata": {},
   "outputs": [
    {
     "data": {
      "text/plain": [
       "(40000, 10000, 10000, torch.Size([3, 32, 32]))"
      ]
     },
     "execution_count": 55,
     "metadata": {},
     "output_type": "execute_result"
    }
   ],
   "source": [
    "len(trainLoader)*batchSize, len(validLoader)*batchSize, len(testLoader)*batchSize, next(iter(testLoader))[0][0].shape"
   ]
  },
  {
   "cell_type": "code",
   "execution_count": 56,
   "metadata": {},
   "outputs": [],
   "source": [
    "# Define the network class\n",
    "\n",
    "class ConvNet(nn.Module):\n",
    "    def __init__(self, activation):\n",
    "        super().__init__()\n",
    "        self.conv1 = nn.Conv2d(3, 6, 5)\n",
    "        self.pool = nn.MaxPool2d(2, 2)\n",
    "        self.conv2 = nn.Conv2d(6, 16, 5)\n",
    "        self.fc1 = nn.Linear(16 * 5 * 5, 100)\n",
    "        self.fc2 = nn.Linear(100, 10)\n",
    "        self.activation = activation\n",
    "\n",
    "    def forward(self, x):\n",
    "        x = self.pool(self.activation(self.conv1(x)))\n",
    "        x = self.pool(self.activation(self.conv2(x)))\n",
    "        x = torch.flatten(x, 1) # flatten all dimensions except batch\n",
    "        x = self.activation(self.fc1(x))\n",
    "        x = self.fc2(x)\n",
    "        return x\n"
   ]
  },
  {
   "cell_type": "code",
   "execution_count": 57,
   "metadata": {},
   "outputs": [],
   "source": [
    "def trainNetwork(network, optimizer, lossFunction, epochs, writer):\n",
    "    network.train()\n",
    "    for epoch in range(epochs):\n",
    "        \n",
    "        ### TRAINING ###\n",
    "        trainLoss = 0\n",
    "        correctTrain = 0\n",
    "        totalTrain = 0\n",
    "        for batch_nr, (images, labels) in enumerate(trainLoader):\n",
    "\n",
    "            # Predict\n",
    "            predictions = network(images)\n",
    "\n",
    "            # Get loss and backpropogate\n",
    "            loss = lossFunction(predictions, labels)\n",
    "            loss.backward() \n",
    "\n",
    "            # Optimize parameters (weights and biases) and remove gradients after\n",
    "            optimizer.step() \n",
    "            optimizer.zero_grad()\n",
    "\n",
    "            # Save loss for whole epoch\n",
    "            trainLoss += loss.item()\n",
    "            \n",
    "            # Calculate training accuracy\n",
    "            _, predictions = torch.max(predictions, 1) \n",
    "            correctTrain += (predictions == labels).sum().item() \n",
    "            totalTrain += len(images)\n",
    "        \n",
    "\n",
    "        trainLoss /= len(trainLoader)\n",
    "        trainAccuracy = 100 * correctTrain / totalTrain\n",
    "        writer.add_scalar(f\"Loss/train - {network.activation.__name__}/{type(optimizer).__name__}\", trainLoss, epoch)\n",
    "        writer.add_scalar(f\"Accuracy/train - {network.activation.__name__}/{type(optimizer).__name__}\", trainAccuracy, epoch)\n",
    "\n",
    "        ### VALIDATION ###\n",
    "        validLoss = 0\n",
    "        correctValid = 0\n",
    "        totalValid = 0\n",
    "        for batch_nr, (images, labels) in enumerate(validLoader):\n",
    "\n",
    "            # Predict\n",
    "            predictions = network(images)\n",
    "\n",
    "            # Get loss\n",
    "            loss = lossFunction(predictions, labels)\n",
    "\n",
    "            # Save loss for whole epoch\n",
    "            validLoss += loss.item()\n",
    "\n",
    "            # Calculate vaildation accuracy\n",
    "            _, predictions = torch.max(predictions, 1) \n",
    "            correctValid += (predictions == labels).sum().item() \n",
    "            totalValid += len(images)\n",
    "\n",
    "        validLoss /= len(validLoader)\n",
    "        validAccuracy = 100 * correctValid / totalValid\n",
    "        writer.add_scalar(f\"Loss/valid - {network.activation.__name__}/{type(optimizer).__name__}\", validLoss, epoch)\n",
    "        writer.add_scalar(f\"Accuracy/train - {network.activation.__name__}/{type(optimizer).__name__}\", validAccuracy, epoch)\n",
    "\n",
    "        # Print reuslt of epoch\n",
    "        print(f'Epoch [{epoch+1}/{epochs}] \\t Training Loss: {trainLoss} \\t Validation Loss: {validLoss} \\t Traning Acc: {trainAccuracy}% \\t Validation Acc: {validAccuracy}%')\n",
    "\n",
    "    writer.flush()"
   ]
  },
  {
   "cell_type": "code",
   "execution_count": 58,
   "metadata": {},
   "outputs": [],
   "source": [
    "def testNetwork(network):\n",
    "    network.eval()\n",
    "    correctTest = 0\n",
    "    totalTest = 0\n",
    "\n",
    "    ### TESTING ###\n",
    "    with torch.no_grad(): \n",
    "        for batch_nr, (images, labels) in enumerate(testLoader):\n",
    "            # Get predictions and get the amount of correct predicitons\n",
    "            predictions = network(images)\n",
    "            _, predictions = torch.max(predictions, 1) \n",
    "            correctTest += (predictions == labels).sum().item() \n",
    "            totalTest += len(images)\n",
    "        \n",
    "    print(f\"Test Accuracy: {100 * correctTest / totalTest}%\")"
   ]
  },
  {
   "cell_type": "code",
   "execution_count": 59,
   "metadata": {},
   "outputs": [],
   "source": [
    "learningRate = 0.0001\n",
    "epochs = 10"
   ]
  },
  {
   "cell_type": "code",
   "execution_count": 60,
   "metadata": {},
   "outputs": [],
   "source": [
    "networkLeakyRelu = ConvNet(F.leaky_relu)\n",
    "\n",
    "optimizerSGD = torch.optim.SGD(networkLeakyRelu.parameters(), lr=learningRate)\n",
    "lossFunction = nn.CrossEntropyLoss()"
   ]
  },
  {
   "cell_type": "code",
   "execution_count": 61,
   "metadata": {},
   "outputs": [
    {
     "name": "stdout",
     "output_type": "stream",
     "text": [
      "Epoch [1/10] \t Training Loss: 2.3010705431997778 \t Validation Loss: 2.2988175995349884 \t Traning Acc: 12.0% \t Validation Acc: 13.1%\n",
      "Epoch [2/10] \t Training Loss: 2.2951286836862566 \t Validation Loss: 2.2918897829055784 \t Traning Acc: 14.0275% \t Validation Acc: 14.46%\n",
      "Epoch [3/10] \t Training Loss: 2.2854744682013988 \t Validation Loss: 2.2793265515565873 \t Traning Acc: 15.44% \t Validation Acc: 14.86%\n",
      "Epoch [4/10] \t Training Loss: 2.265778324186802 \t Validation Loss: 2.2515283019542696 \t Traning Acc: 16.3725% \t Validation Acc: 15.72%\n",
      "Epoch [5/10] \t Training Loss: 2.223016860470176 \t Validation Loss: 2.193535417318344 \t Traning Acc: 18.095% \t Validation Acc: 19.18%\n",
      "Epoch [6/10] \t Training Loss: 2.1527261293977498 \t Validation Loss: 2.120692051231861 \t Traning Acc: 22.41% \t Validation Acc: 22.87%\n",
      "Epoch [7/10] \t Training Loss: 2.091551159247756 \t Validation Loss: 2.0728317902088165 \t Traning Acc: 25.5275% \t Validation Acc: 26.19%\n",
      "Epoch [8/10] \t Training Loss: 2.0524013607800007 \t Validation Loss: 2.038761719286442 \t Traning Acc: 27.2925% \t Validation Acc: 27.57%\n",
      "Epoch [9/10] \t Training Loss: 2.019167063772678 \t Validation Loss: 2.00414609593153 \t Traning Acc: 28.4825% \t Validation Acc: 28.9%\n",
      "Epoch [10/10] \t Training Loss: 1.9835230264961718 \t Validation Loss: 1.9669975956082344 \t Traning Acc: 29.9325% \t Validation Acc: 29.43%\n"
     ]
    }
   ],
   "source": [
    "trainNetwork(networkLeakyRelu, optimizerSGD, lossFunction, epochs, writer)"
   ]
  },
  {
   "cell_type": "code",
   "execution_count": 62,
   "metadata": {},
   "outputs": [
    {
     "name": "stdout",
     "output_type": "stream",
     "text": [
      "Test Accuracy: 30.73%\n"
     ]
    }
   ],
   "source": [
    "testNetwork(networkLeakyRelu)"
   ]
  },
  {
   "cell_type": "code",
   "execution_count": 64,
   "metadata": {},
   "outputs": [
    {
     "ename": "KeyboardInterrupt",
     "evalue": "",
     "output_type": "error",
     "traceback": [
      "\u001b[1;31m---------------------------------------------------------------------------\u001b[0m",
      "\u001b[1;31mKeyboardInterrupt\u001b[0m                         Traceback (most recent call last)",
      "Cell \u001b[1;32mIn[64], line 4\u001b[0m\n\u001b[0;32m      1\u001b[0m networkLeakyRelu2 \u001b[39m=\u001b[39m ConvNet(F\u001b[39m.\u001b[39mleaky_relu)\n\u001b[0;32m      3\u001b[0m optimizerAdam \u001b[39m=\u001b[39m torch\u001b[39m.\u001b[39moptim\u001b[39m.\u001b[39mAdam(networkLeakyRelu2\u001b[39m.\u001b[39mparameters(), lr\u001b[39m=\u001b[39mlearningRate)\n\u001b[1;32m----> 4\u001b[0m trainNetwork(networkLeakyRelu2, optimizerAdam, lossFunction, epochs, writer)\n",
      "Cell \u001b[1;32mIn[57], line 9\u001b[0m, in \u001b[0;36mtrainNetwork\u001b[1;34m(network, optimizer, lossFunction, epochs, writer)\u001b[0m\n\u001b[0;32m      7\u001b[0m correctTrain \u001b[39m=\u001b[39m \u001b[39m0\u001b[39m\n\u001b[0;32m      8\u001b[0m totalTrain \u001b[39m=\u001b[39m \u001b[39m0\u001b[39m\n\u001b[1;32m----> 9\u001b[0m \u001b[39mfor\u001b[39;00m batch_nr, (images, labels) \u001b[39min\u001b[39;00m \u001b[39menumerate\u001b[39m(trainLoader):\n\u001b[0;32m     10\u001b[0m \n\u001b[0;32m     11\u001b[0m     \u001b[39m# Predict\u001b[39;00m\n\u001b[0;32m     12\u001b[0m     predictions \u001b[39m=\u001b[39m network(images)\n\u001b[0;32m     14\u001b[0m     \u001b[39m# Get loss and backpropogate\u001b[39;00m\n",
      "File \u001b[1;32mc:\\Users\\isakl\\.pyenv\\pyenv-win\\versions\\3.8.10\\lib\\site-packages\\torch\\utils\\data\\dataloader.py:521\u001b[0m, in \u001b[0;36m_BaseDataLoaderIter.__next__\u001b[1;34m(self)\u001b[0m\n\u001b[0;32m    519\u001b[0m \u001b[39mif\u001b[39;00m \u001b[39mself\u001b[39m\u001b[39m.\u001b[39m_sampler_iter \u001b[39mis\u001b[39;00m \u001b[39mNone\u001b[39;00m:\n\u001b[0;32m    520\u001b[0m     \u001b[39mself\u001b[39m\u001b[39m.\u001b[39m_reset()\n\u001b[1;32m--> 521\u001b[0m data \u001b[39m=\u001b[39m \u001b[39mself\u001b[39;49m\u001b[39m.\u001b[39;49m_next_data()\n\u001b[0;32m    522\u001b[0m \u001b[39mself\u001b[39m\u001b[39m.\u001b[39m_num_yielded \u001b[39m+\u001b[39m\u001b[39m=\u001b[39m \u001b[39m1\u001b[39m\n\u001b[0;32m    523\u001b[0m \u001b[39mif\u001b[39;00m \u001b[39mself\u001b[39m\u001b[39m.\u001b[39m_dataset_kind \u001b[39m==\u001b[39m _DatasetKind\u001b[39m.\u001b[39mIterable \u001b[39mand\u001b[39;00m \\\n\u001b[0;32m    524\u001b[0m         \u001b[39mself\u001b[39m\u001b[39m.\u001b[39m_IterableDataset_len_called \u001b[39mis\u001b[39;00m \u001b[39mnot\u001b[39;00m \u001b[39mNone\u001b[39;00m \u001b[39mand\u001b[39;00m \\\n\u001b[0;32m    525\u001b[0m         \u001b[39mself\u001b[39m\u001b[39m.\u001b[39m_num_yielded \u001b[39m>\u001b[39m \u001b[39mself\u001b[39m\u001b[39m.\u001b[39m_IterableDataset_len_called:\n",
      "File \u001b[1;32mc:\\Users\\isakl\\.pyenv\\pyenv-win\\versions\\3.8.10\\lib\\site-packages\\torch\\utils\\data\\dataloader.py:561\u001b[0m, in \u001b[0;36m_SingleProcessDataLoaderIter._next_data\u001b[1;34m(self)\u001b[0m\n\u001b[0;32m    559\u001b[0m \u001b[39mdef\u001b[39;00m \u001b[39m_next_data\u001b[39m(\u001b[39mself\u001b[39m):\n\u001b[0;32m    560\u001b[0m     index \u001b[39m=\u001b[39m \u001b[39mself\u001b[39m\u001b[39m.\u001b[39m_next_index()  \u001b[39m# may raise StopIteration\u001b[39;00m\n\u001b[1;32m--> 561\u001b[0m     data \u001b[39m=\u001b[39m \u001b[39mself\u001b[39;49m\u001b[39m.\u001b[39;49m_dataset_fetcher\u001b[39m.\u001b[39;49mfetch(index)  \u001b[39m# may raise StopIteration\u001b[39;00m\n\u001b[0;32m    562\u001b[0m     \u001b[39mif\u001b[39;00m \u001b[39mself\u001b[39m\u001b[39m.\u001b[39m_pin_memory:\n\u001b[0;32m    563\u001b[0m         data \u001b[39m=\u001b[39m _utils\u001b[39m.\u001b[39mpin_memory\u001b[39m.\u001b[39mpin_memory(data)\n",
      "File \u001b[1;32mc:\\Users\\isakl\\.pyenv\\pyenv-win\\versions\\3.8.10\\lib\\site-packages\\torch\\utils\\data\\_utils\\fetch.py:49\u001b[0m, in \u001b[0;36m_MapDatasetFetcher.fetch\u001b[1;34m(self, possibly_batched_index)\u001b[0m\n\u001b[0;32m     47\u001b[0m \u001b[39mdef\u001b[39;00m \u001b[39mfetch\u001b[39m(\u001b[39mself\u001b[39m, possibly_batched_index):\n\u001b[0;32m     48\u001b[0m     \u001b[39mif\u001b[39;00m \u001b[39mself\u001b[39m\u001b[39m.\u001b[39mauto_collation:\n\u001b[1;32m---> 49\u001b[0m         data \u001b[39m=\u001b[39m [\u001b[39mself\u001b[39m\u001b[39m.\u001b[39mdataset[idx] \u001b[39mfor\u001b[39;00m idx \u001b[39min\u001b[39;00m possibly_batched_index]\n\u001b[0;32m     50\u001b[0m     \u001b[39melse\u001b[39;00m:\n\u001b[0;32m     51\u001b[0m         data \u001b[39m=\u001b[39m \u001b[39mself\u001b[39m\u001b[39m.\u001b[39mdataset[possibly_batched_index]\n",
      "File \u001b[1;32mc:\\Users\\isakl\\.pyenv\\pyenv-win\\versions\\3.8.10\\lib\\site-packages\\torch\\utils\\data\\_utils\\fetch.py:49\u001b[0m, in \u001b[0;36m<listcomp>\u001b[1;34m(.0)\u001b[0m\n\u001b[0;32m     47\u001b[0m \u001b[39mdef\u001b[39;00m \u001b[39mfetch\u001b[39m(\u001b[39mself\u001b[39m, possibly_batched_index):\n\u001b[0;32m     48\u001b[0m     \u001b[39mif\u001b[39;00m \u001b[39mself\u001b[39m\u001b[39m.\u001b[39mauto_collation:\n\u001b[1;32m---> 49\u001b[0m         data \u001b[39m=\u001b[39m [\u001b[39mself\u001b[39;49m\u001b[39m.\u001b[39;49mdataset[idx] \u001b[39mfor\u001b[39;00m idx \u001b[39min\u001b[39;00m possibly_batched_index]\n\u001b[0;32m     50\u001b[0m     \u001b[39melse\u001b[39;00m:\n\u001b[0;32m     51\u001b[0m         data \u001b[39m=\u001b[39m \u001b[39mself\u001b[39m\u001b[39m.\u001b[39mdataset[possibly_batched_index]\n",
      "File \u001b[1;32mc:\\Users\\isakl\\.pyenv\\pyenv-win\\versions\\3.8.10\\lib\\site-packages\\torch\\utils\\data\\dataset.py:363\u001b[0m, in \u001b[0;36mSubset.__getitem__\u001b[1;34m(self, idx)\u001b[0m\n\u001b[0;32m    361\u001b[0m \u001b[39mif\u001b[39;00m \u001b[39misinstance\u001b[39m(idx, \u001b[39mlist\u001b[39m):\n\u001b[0;32m    362\u001b[0m     \u001b[39mreturn\u001b[39;00m \u001b[39mself\u001b[39m\u001b[39m.\u001b[39mdataset[[\u001b[39mself\u001b[39m\u001b[39m.\u001b[39mindices[i] \u001b[39mfor\u001b[39;00m i \u001b[39min\u001b[39;00m idx]]\n\u001b[1;32m--> 363\u001b[0m \u001b[39mreturn\u001b[39;00m \u001b[39mself\u001b[39;49m\u001b[39m.\u001b[39;49mdataset[\u001b[39mself\u001b[39;49m\u001b[39m.\u001b[39;49mindices[idx]]\n",
      "File \u001b[1;32mc:\\Users\\isakl\\.pyenv\\pyenv-win\\versions\\3.8.10\\lib\\site-packages\\torchvision\\datasets\\cifar.py:121\u001b[0m, in \u001b[0;36mCIFAR10.__getitem__\u001b[1;34m(self, index)\u001b[0m\n\u001b[0;32m    118\u001b[0m img \u001b[39m=\u001b[39m Image\u001b[39m.\u001b[39mfromarray(img)\n\u001b[0;32m    120\u001b[0m \u001b[39mif\u001b[39;00m \u001b[39mself\u001b[39m\u001b[39m.\u001b[39mtransform \u001b[39mis\u001b[39;00m \u001b[39mnot\u001b[39;00m \u001b[39mNone\u001b[39;00m:\n\u001b[1;32m--> 121\u001b[0m     img \u001b[39m=\u001b[39m \u001b[39mself\u001b[39;49m\u001b[39m.\u001b[39;49mtransform(img)\n\u001b[0;32m    123\u001b[0m \u001b[39mif\u001b[39;00m \u001b[39mself\u001b[39m\u001b[39m.\u001b[39mtarget_transform \u001b[39mis\u001b[39;00m \u001b[39mnot\u001b[39;00m \u001b[39mNone\u001b[39;00m:\n\u001b[0;32m    124\u001b[0m     target \u001b[39m=\u001b[39m \u001b[39mself\u001b[39m\u001b[39m.\u001b[39mtarget_transform(target)\n",
      "File \u001b[1;32mc:\\Users\\isakl\\.pyenv\\pyenv-win\\versions\\3.8.10\\lib\\site-packages\\torchvision\\transforms\\transforms.py:61\u001b[0m, in \u001b[0;36mCompose.__call__\u001b[1;34m(self, img)\u001b[0m\n\u001b[0;32m     59\u001b[0m \u001b[39mdef\u001b[39;00m \u001b[39m__call__\u001b[39m(\u001b[39mself\u001b[39m, img):\n\u001b[0;32m     60\u001b[0m     \u001b[39mfor\u001b[39;00m t \u001b[39min\u001b[39;00m \u001b[39mself\u001b[39m\u001b[39m.\u001b[39mtransforms:\n\u001b[1;32m---> 61\u001b[0m         img \u001b[39m=\u001b[39m t(img)\n\u001b[0;32m     62\u001b[0m     \u001b[39mreturn\u001b[39;00m img\n",
      "File \u001b[1;32mc:\\Users\\isakl\\.pyenv\\pyenv-win\\versions\\3.8.10\\lib\\site-packages\\torch\\nn\\modules\\module.py:1102\u001b[0m, in \u001b[0;36mModule._call_impl\u001b[1;34m(self, *input, **kwargs)\u001b[0m\n\u001b[0;32m   1098\u001b[0m \u001b[39m# If we don't have any hooks, we want to skip the rest of the logic in\u001b[39;00m\n\u001b[0;32m   1099\u001b[0m \u001b[39m# this function, and just call forward.\u001b[39;00m\n\u001b[0;32m   1100\u001b[0m \u001b[39mif\u001b[39;00m \u001b[39mnot\u001b[39;00m (\u001b[39mself\u001b[39m\u001b[39m.\u001b[39m_backward_hooks \u001b[39mor\u001b[39;00m \u001b[39mself\u001b[39m\u001b[39m.\u001b[39m_forward_hooks \u001b[39mor\u001b[39;00m \u001b[39mself\u001b[39m\u001b[39m.\u001b[39m_forward_pre_hooks \u001b[39mor\u001b[39;00m _global_backward_hooks\n\u001b[0;32m   1101\u001b[0m         \u001b[39mor\u001b[39;00m _global_forward_hooks \u001b[39mor\u001b[39;00m _global_forward_pre_hooks):\n\u001b[1;32m-> 1102\u001b[0m     \u001b[39mreturn\u001b[39;00m forward_call(\u001b[39m*\u001b[39;49m\u001b[39minput\u001b[39;49m, \u001b[39m*\u001b[39;49m\u001b[39m*\u001b[39;49mkwargs)\n\u001b[0;32m   1103\u001b[0m \u001b[39m# Do not call functions when jit is used\u001b[39;00m\n\u001b[0;32m   1104\u001b[0m full_backward_hooks, non_full_backward_hooks \u001b[39m=\u001b[39m [], []\n",
      "File \u001b[1;32mc:\\Users\\isakl\\.pyenv\\pyenv-win\\versions\\3.8.10\\lib\\site-packages\\torchvision\\transforms\\transforms.py:226\u001b[0m, in \u001b[0;36mNormalize.forward\u001b[1;34m(self, tensor)\u001b[0m\n\u001b[0;32m    218\u001b[0m \u001b[39mdef\u001b[39;00m \u001b[39mforward\u001b[39m(\u001b[39mself\u001b[39m, tensor: Tensor) \u001b[39m-\u001b[39m\u001b[39m>\u001b[39m Tensor:\n\u001b[0;32m    219\u001b[0m \u001b[39m    \u001b[39m\u001b[39m\"\"\"\u001b[39;00m\n\u001b[0;32m    220\u001b[0m \u001b[39m    Args:\u001b[39;00m\n\u001b[0;32m    221\u001b[0m \u001b[39m        tensor (Tensor): Tensor image to be normalized.\u001b[39;00m\n\u001b[1;32m   (...)\u001b[0m\n\u001b[0;32m    224\u001b[0m \u001b[39m        Tensor: Normalized Tensor image.\u001b[39;00m\n\u001b[0;32m    225\u001b[0m \u001b[39m    \"\"\"\u001b[39;00m\n\u001b[1;32m--> 226\u001b[0m     \u001b[39mreturn\u001b[39;00m F\u001b[39m.\u001b[39;49mnormalize(tensor, \u001b[39mself\u001b[39;49m\u001b[39m.\u001b[39;49mmean, \u001b[39mself\u001b[39;49m\u001b[39m.\u001b[39;49mstd, \u001b[39mself\u001b[39;49m\u001b[39m.\u001b[39;49minplace)\n",
      "File \u001b[1;32mc:\\Users\\isakl\\.pyenv\\pyenv-win\\versions\\3.8.10\\lib\\site-packages\\torchvision\\transforms\\functional.py:345\u001b[0m, in \u001b[0;36mnormalize\u001b[1;34m(tensor, mean, std, inplace)\u001b[0m\n\u001b[0;32m    343\u001b[0m mean \u001b[39m=\u001b[39m torch\u001b[39m.\u001b[39mas_tensor(mean, dtype\u001b[39m=\u001b[39mdtype, device\u001b[39m=\u001b[39mtensor\u001b[39m.\u001b[39mdevice)\n\u001b[0;32m    344\u001b[0m std \u001b[39m=\u001b[39m torch\u001b[39m.\u001b[39mas_tensor(std, dtype\u001b[39m=\u001b[39mdtype, device\u001b[39m=\u001b[39mtensor\u001b[39m.\u001b[39mdevice)\n\u001b[1;32m--> 345\u001b[0m \u001b[39mif\u001b[39;00m (std \u001b[39m==\u001b[39;49m \u001b[39m0\u001b[39;49m)\u001b[39m.\u001b[39;49many():\n\u001b[0;32m    346\u001b[0m     \u001b[39mraise\u001b[39;00m \u001b[39mValueError\u001b[39;00m(\u001b[39m'\u001b[39m\u001b[39mstd evaluated to zero after conversion to \u001b[39m\u001b[39m{}\u001b[39;00m\u001b[39m, leading to division by zero.\u001b[39m\u001b[39m'\u001b[39m\u001b[39m.\u001b[39mformat(dtype))\n\u001b[0;32m    347\u001b[0m \u001b[39mif\u001b[39;00m mean\u001b[39m.\u001b[39mndim \u001b[39m==\u001b[39m \u001b[39m1\u001b[39m:\n",
      "\u001b[1;31mKeyboardInterrupt\u001b[0m: "
     ]
    }
   ],
   "source": [
    "networkLeakyRelu2 = ConvNet(F.leaky_relu)\n",
    "\n",
    "optimizerAdam = torch.optim.Adam(networkLeakyRelu2.parameters(), lr=learningRate)\n",
    "trainNetwork(networkLeakyRelu2, optimizerAdam, lossFunction, epochs, writer)"
   ]
  },
  {
   "cell_type": "code",
   "execution_count": null,
   "metadata": {},
   "outputs": [
    {
     "name": "stdout",
     "output_type": "stream",
     "text": [
      "Accuracy: 56.83%\n"
     ]
    }
   ],
   "source": [
    "testNetwork(networkLeakyRelu)"
   ]
  },
  {
   "cell_type": "code",
   "execution_count": null,
   "metadata": {},
   "outputs": [
    {
     "name": "stdout",
     "output_type": "stream",
     "text": [
      "Epoch [1/10] \t Training Loss: 2.3051748233437537 \t Validation Loss: 2.30424448120594 \t Traning Acc: 9.5425% \t Validation Acc: 9.86%\n",
      "Epoch [2/10] \t Training Loss: 2.305174823105335 \t Validation Loss: 2.3042444862127303 \t Traning Acc: 9.5425% \t Validation Acc: 9.86%\n",
      "Epoch [3/10] \t Training Loss: 2.3051748223900796 \t Validation Loss: 2.3042444816827774 \t Traning Acc: 9.5425% \t Validation Acc: 9.86%\n",
      "Epoch [4/10] \t Training Loss: 2.305174823194742 \t Validation Loss: 2.3042444821596146 \t Traning Acc: 9.5425% \t Validation Acc: 9.86%\n",
      "Epoch [5/10] \t Training Loss: 2.305174824744463 \t Validation Loss: 2.304244488954544 \t Traning Acc: 9.5425% \t Validation Acc: 9.86%\n",
      "Epoch [6/10] \t Training Loss: 2.3051748228669164 \t Validation Loss: 2.3042444829940796 \t Traning Acc: 9.5425% \t Validation Acc: 9.86%\n",
      "Epoch [7/10] \t Training Loss: 2.3051748249530792 \t Validation Loss: 2.304244480252266 \t Traning Acc: 9.5425% \t Validation Acc: 9.86%\n",
      "Epoch [8/10] \t Training Loss: 2.305174824178219 \t Validation Loss: 2.3042444831132887 \t Traning Acc: 9.5425% \t Validation Acc: 9.86%\n",
      "Epoch [9/10] \t Training Loss: 2.3051748227775097 \t Validation Loss: 2.3042444837093354 \t Traning Acc: 9.5425% \t Validation Acc: 9.86%\n",
      "Epoch [10/10] \t Training Loss: 2.3051748214662076 \t Validation Loss: 2.304244480609894 \t Traning Acc: 9.5425% \t Validation Acc: 9.86%\n"
     ]
    }
   ],
   "source": [
    "networkTanh = ConvNet(torch.tanh)\n",
    "trainNetwork(networkTanh, optimizerAdam, lossFunction, epochs, writer)"
   ]
  },
  {
   "cell_type": "code",
   "execution_count": null,
   "metadata": {},
   "outputs": [
    {
     "name": "stdout",
     "output_type": "stream",
     "text": [
      "Accuracy: 9.5%\n"
     ]
    }
   ],
   "source": [
    "testNetwork(networkTanh)"
   ]
  }
 ],
 "metadata": {
  "kernelspec": {
   "display_name": "Python 3",
   "language": "python",
   "name": "python3"
  },
  "language_info": {
   "codemirror_mode": {
    "name": "ipython",
    "version": 3
   },
   "file_extension": ".py",
   "mimetype": "text/x-python",
   "name": "python",
   "nbconvert_exporter": "python",
   "pygments_lexer": "ipython3",
   "version": "3.8.10"
  },
  "orig_nbformat": 4
 },
 "nbformat": 4,
 "nbformat_minor": 2
}
