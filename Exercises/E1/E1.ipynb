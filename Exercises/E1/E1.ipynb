{
 "cells": [
  {
   "cell_type": "code",
   "execution_count": 36,
   "metadata": {},
   "outputs": [],
   "source": [
    "import torch\n",
    "import torchvision\n",
    "import torchvision.transforms as transforms\n",
    "import torch.nn as nn\n",
    "import torch.nn.functional as F\n",
    "\n",
    "import numpy as np"
   ]
  },
  {
   "cell_type": "code",
   "execution_count": 37,
   "metadata": {},
   "outputs": [
    {
     "name": "stdout",
     "output_type": "stream",
     "text": [
      "Files already downloaded and verified\n",
      "Files already downloaded and verified\n"
     ]
    }
   ],
   "source": [
    "# Load and normalizde the data\n",
    "\n",
    "transform = transforms.Compose(\n",
    "    [transforms.ToTensor(),\n",
    "     transforms.Normalize((0.5, 0.5, 0.5), (0.5, 0.5, 0.5))])\n",
    "\n",
    "batchSize = 50\n",
    "validSize = 0.2 # use 20% of train set as validation\n",
    "\n",
    "trainValidSet = torchvision.datasets.CIFAR10(root='./data', train=True, download=True, transform=transform)\n",
    "testSet = torchvision.datasets.CIFAR10(root='./data', train=False, download=True, transform=transform)\n",
    "\n",
    "trainSet, validSet = torch.utils.data.random_split(trainValidSet, [int(len(trainValidSet)*(1-validSize)), int(len(trainValidSet)*validSize)])\n",
    "\n",
    "trainLoader = torch.utils.data.DataLoader(trainSet, batch_size=batchSize, shuffle=True)\n",
    "validLoader = torch.utils.data.DataLoader(validSet, batch_size=batchSize, shuffle=True)\n",
    "testLoader = torch.utils.data.DataLoader(testSet, batch_size=batchSize, shuffle=False)\n",
    "\n",
    "classes = ('plane', 'car', 'bird', 'cat', 'deer', 'dog', 'frog', 'horse', 'ship', 'truck')"
   ]
  },
  {
   "cell_type": "code",
   "execution_count": 38,
   "metadata": {},
   "outputs": [],
   "source": [
    "# Writer for tensorBoard\n",
    "from torch.utils.tensorboard import SummaryWriter\n",
    "writer = SummaryWriter()"
   ]
  },
  {
   "cell_type": "code",
   "execution_count": 39,
   "metadata": {},
   "outputs": [
    {
     "data": {
      "text/plain": [
       "(8000, 2000, 2000, torch.Size([3, 32, 32]))"
      ]
     },
     "execution_count": 39,
     "metadata": {},
     "output_type": "execute_result"
    }
   ],
   "source": [
    "len(trainLoader), len(validLoader), len(testLoader), next(iter(testLoader))[0][0].shape"
   ]
  },
  {
   "cell_type": "code",
   "execution_count": 40,
   "metadata": {},
   "outputs": [],
   "source": [
    "# Define the network class\n",
    "\n",
    "class ConvNet(nn.Module):\n",
    "    def __init__(self):\n",
    "        super().__init__()\n",
    "        self.conv1 = nn.Conv2d(3, 6, 5)\n",
    "        self.pool = nn.MaxPool2d(2, 2)\n",
    "        self.conv2 = nn.Conv2d(6, 16, 5)\n",
    "        self.fc1 = nn.Linear(16 * 5 * 5, 100)\n",
    "        self.fc2 = nn.Linear(100, 10)\n",
    "\n",
    "    def forward(self, x):\n",
    "        x = self.pool(F.leaky_relu(self.conv1(x)))\n",
    "        x = self.pool(F.leaky_relu(self.conv2(x)))\n",
    "        x = torch.flatten(x, 1) # flatten all dimensions except batch\n",
    "        x = F.leaky_relu(self.fc1(x))\n",
    "        x = self.fc2(x)\n",
    "        return x\n",
    "\n"
   ]
  },
  {
   "cell_type": "code",
   "execution_count": 41,
   "metadata": {},
   "outputs": [],
   "source": [
    "learningRate = 0.0001\n",
    "\n",
    "network = ConvNet()\n",
    "\n",
    "optimizer = torch.optim.SGD(network.parameters(), lr=learningRate)\n",
    "lossFunction = nn.CrossEntropyLoss()\n"
   ]
  },
  {
   "cell_type": "code",
   "execution_count": 42,
   "metadata": {},
   "outputs": [
    {
     "name": "stdout",
     "output_type": "stream",
     "text": [
      "Epoch [1/2] \t Training Loss: 2.30237560865283 \t Validation Loss: 2.299663154244423\n",
      "Epoch [2/2] \t Training Loss: 2.2960988429188727 \t Validation Loss: 2.2926013407707213\n"
     ]
    }
   ],
   "source": [
    "epochs = 5\n",
    "\n",
    "network.train()\n",
    "for epoch in range(epochs):\n",
    "\n",
    "    ### TRAINING ###\n",
    "    trainLoss = 0\n",
    "    for batch_nr, (images, labels) in enumerate(trainLoader):\n",
    "\n",
    "        # Predict\n",
    "        predictions = network(images)\n",
    "\n",
    "        # Get loss and backpropogate\n",
    "        loss = lossFunction(predictions, labels)\n",
    "        loss.backward() \n",
    "\n",
    "        # Optimize parameters (weights and biases) and remove gradients after\n",
    "        optimizer.step() \n",
    "        optimizer.zero_grad()\n",
    "\n",
    "        # Save loss for whole epoch\n",
    "        trainLoss += loss.item()\n",
    "\n",
    "    trainLoss /= len(trainLoader)\n",
    "    writer.add_scalar(\"Loss/train\", trainLoss, epoch)\n",
    "\n",
    "    ### VALIDATION ###\n",
    "    validLoss = 0\n",
    "    for batch_nr, (images, labels) in enumerate(validLoader):\n",
    "\n",
    "        # Predict\n",
    "        predictions = network(images)\n",
    "\n",
    "        # Get loss\n",
    "        loss = lossFunction(predictions, labels)\n",
    "\n",
    "        # Save loss for whole epoch\n",
    "        validLoss += loss.item()\n",
    "\n",
    "    validLoss /= len(validLoader)\n",
    "    writer.add_scalar(\"Loss/valid\", validLoss, epoch)\n",
    "\n",
    "    # Print reuslt of epoch\n",
    "    print(f'Epoch [{epoch+1}/{epochs}] \\t Training Loss: {trainLoss} \\t Validation Loss: {validLoss}')\n",
    "\n",
    "writer.flush()"
   ]
  },
  {
   "cell_type": "code",
   "execution_count": 43,
   "metadata": {},
   "outputs": [
    {
     "name": "stdout",
     "output_type": "stream",
     "text": [
      "Accuracy: 12.6%\n"
     ]
    }
   ],
   "source": [
    "correct_predictions = 0\n",
    "\n",
    "### TESTING ###\n",
    "with torch.no_grad(): \n",
    "    for batch_nr, (images, labels) in enumerate(testLoader):\n",
    "        # Get predictions, convert to number and get the amount of correct predicitons\n",
    "        predictions = network(images)\n",
    "        _, predictions = torch.max(predictions, 1) \n",
    "        correct_predictions += (predictions == labels).sum().item() \n",
    "    \n",
    "print(f\"Accuracy: {100 * correct_predictions / len(testSet)}%\")"
   ]
  }
 ],
 "metadata": {
  "kernelspec": {
   "display_name": "Python 3",
   "language": "python",
   "name": "python3"
  },
  "language_info": {
   "codemirror_mode": {
    "name": "ipython",
    "version": 3
   },
   "file_extension": ".py",
   "mimetype": "text/x-python",
   "name": "python",
   "nbconvert_exporter": "python",
   "pygments_lexer": "ipython3",
   "version": "3.8.10"
  },
  "orig_nbformat": 4
 },
 "nbformat": 4,
 "nbformat_minor": 2
}
