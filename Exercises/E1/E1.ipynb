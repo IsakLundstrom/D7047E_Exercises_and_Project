{
 "cells": [
  {
   "cell_type": "code",
   "execution_count": 68,
   "metadata": {},
   "outputs": [],
   "source": [
    "import torch\n",
    "import torchvision\n",
    "import torchvision.transforms as transforms\n",
    "import torch.nn as nn\n",
    "import torch.nn.functional as F\n",
    "\n",
    "import numpy as np"
   ]
  },
  {
   "cell_type": "code",
   "execution_count": 69,
   "metadata": {},
   "outputs": [
    {
     "name": "stdout",
     "output_type": "stream",
     "text": [
      "Files already downloaded and verified\n",
      "Files already downloaded and verified\n"
     ]
    }
   ],
   "source": [
    "# Load and normalizde the data\n",
    "\n",
    "transform = transforms.Compose(\n",
    "    [transforms.ToTensor(),\n",
    "     transforms.Normalize((0.5, 0.5, 0.5), (0.5, 0.5, 0.5))])\n",
    "\n",
    "batchSize = 5\n",
    "validSize = 0.2 # use 20% of train set as validation\n",
    "\n",
    "trainValidSet = torchvision.datasets.CIFAR10(root='./data', train=True, download=True, transform=transform)\n",
    "testSet = torchvision.datasets.CIFAR10(root='./data', train=False, download=True, transform=transform)\n",
    "\n",
    "trainSet, validSet = torch.utils.data.random_split(trainValidSet, [int(len(trainValidSet)*(1-validSize)), int(len(trainValidSet)*validSize)])\n",
    "\n",
    "trainLoader = torch.utils.data.DataLoader(trainSet, batch_size=batchSize, shuffle=True)\n",
    "validLoader = torch.utils.data.DataLoader(validSet, batch_size=batchSize, shuffle=True)\n",
    "testLoader = torch.utils.data.DataLoader(testSet, batch_size=batchSize, shuffle=False)\n",
    "\n",
    "classes = ('plane', 'car', 'bird', 'cat', 'deer', 'dog', 'frog', 'horse', 'ship', 'truck')"
   ]
  },
  {
   "cell_type": "code",
   "execution_count": 70,
   "metadata": {},
   "outputs": [],
   "source": [
    "# Writer for tensorBoard\n",
    "from torch.utils.tensorboard import SummaryWriter\n",
    "writer = SummaryWriter()"
   ]
  },
  {
   "cell_type": "code",
   "execution_count": 71,
   "metadata": {},
   "outputs": [
    {
     "data": {
      "text/plain": [
       "(40000, 10000, 10000, torch.Size([3, 32, 32]))"
      ]
     },
     "execution_count": 71,
     "metadata": {},
     "output_type": "execute_result"
    }
   ],
   "source": [
    "len(trainLoader)*batchSize, len(validLoader)*batchSize, len(testLoader)*batchSize, next(iter(testLoader))[0][0].shape"
   ]
  },
  {
   "cell_type": "code",
   "execution_count": 72,
   "metadata": {},
   "outputs": [],
   "source": [
    "# Define the network class\n",
    "\n",
    "class ConvNet(nn.Module):\n",
    "    def __init__(self, activation):\n",
    "        super().__init__()\n",
    "        self.conv1 = nn.Conv2d(3, 6, 5)\n",
    "        self.pool = nn.MaxPool2d(2, 2)\n",
    "        self.conv2 = nn.Conv2d(6, 16, 5)\n",
    "        self.fc1 = nn.Linear(16 * 5 * 5, 100)\n",
    "        self.fc2 = nn.Linear(100, 10)\n",
    "        self.activation = activation\n",
    "\n",
    "    def forward(self, x):\n",
    "        x = self.pool(self.activation(self.conv1(x)))\n",
    "        x = self.pool(self.activation(self.conv2(x)))\n",
    "        x = torch.flatten(x, 1) # flatten all dimensions except batch\n",
    "        x = self.activation(self.fc1(x))\n",
    "        x = self.fc2(x)\n",
    "        return x\n"
   ]
  },
  {
   "cell_type": "code",
   "execution_count": 73,
   "metadata": {},
   "outputs": [],
   "source": [
    "def trainNetwork(network, optimizer, lossFunction, epochs, writer):\n",
    "    network.train()\n",
    "    for epoch in range(epochs):\n",
    "\n",
    "        ### TRAINING ###\n",
    "        trainLoss = 0\n",
    "        for batch_nr, (images, labels) in enumerate(trainLoader):\n",
    "\n",
    "            # Predict\n",
    "            predictions = network(images)\n",
    "\n",
    "            # Get loss and backpropogate\n",
    "            loss = lossFunction(predictions, labels)\n",
    "            loss.backward() \n",
    "\n",
    "            # Optimize parameters (weights and biases) and remove gradients after\n",
    "            optimizer.step() \n",
    "            optimizer.zero_grad()\n",
    "\n",
    "            # Save loss for whole epoch\n",
    "            trainLoss += loss.item()\n",
    "\n",
    "        trainLoss /= len(trainLoader)\n",
    "        writer.add_scalar(\"Loss/train\", trainLoss, epoch)\n",
    "\n",
    "        ### VALIDATION ###\n",
    "        validLoss = 0\n",
    "        for batch_nr, (images, labels) in enumerate(validLoader):\n",
    "\n",
    "            # Predict\n",
    "            predictions = network(images)\n",
    "\n",
    "            # Get loss\n",
    "            loss = lossFunction(predictions, labels)\n",
    "\n",
    "            # Save loss for whole epoch\n",
    "            validLoss += loss.item()\n",
    "\n",
    "        validLoss /= len(validLoader)\n",
    "        writer.add_scalar(\"Loss/valid\", validLoss, epoch)\n",
    "\n",
    "        # Print reuslt of epoch\n",
    "        print(f'Epoch [{epoch+1}/{epochs}] \\t Training Loss: {trainLoss} \\t Validation Loss: {validLoss}')\n",
    "\n",
    "    writer.flush()"
   ]
  },
  {
   "cell_type": "code",
   "execution_count": 74,
   "metadata": {},
   "outputs": [],
   "source": [
    "def testNetwork(network):\n",
    "    correct_predictions = 0\n",
    "\n",
    "    ### TESTING ###\n",
    "    with torch.no_grad(): \n",
    "        for batch_nr, (images, labels) in enumerate(testLoader):\n",
    "            # Get predictions, convert to number and get the amount of correct predicitons\n",
    "            predictions = network(images)\n",
    "            _, predictions = torch.max(predictions, 1) \n",
    "            correct_predictions += (predictions == labels).sum().item() \n",
    "        \n",
    "    print(f\"Accuracy: {100 * correct_predictions / len(testSet)}%\")"
   ]
  },
  {
   "cell_type": "code",
   "execution_count": 75,
   "metadata": {},
   "outputs": [],
   "source": [
    "learningRate = 0.0001\n",
    "epochs = 5"
   ]
  },
  {
   "cell_type": "code",
   "execution_count": 76,
   "metadata": {},
   "outputs": [],
   "source": [
    "networkLeakyRelu = ConvNet(F.leaky_relu)\n",
    "\n",
    "optimizerSGD = torch.optim.SGD(networkLeakyRelu.parameters(), lr=learningRate)\n",
    "lossFunction = nn.CrossEntropyLoss()"
   ]
  },
  {
   "cell_type": "code",
   "execution_count": 77,
   "metadata": {},
   "outputs": [
    {
     "name": "stdout",
     "output_type": "stream",
     "text": [
      "Epoch [1/5] \t Training Loss: 2.303406321287155 \t Validation Loss: 2.3035443744659423\n",
      "Epoch [2/5] \t Training Loss: 2.300627088814974 \t Validation Loss: 2.300563935756683\n",
      "Epoch [3/5] \t Training Loss: 2.29736009529233 \t Validation Loss: 2.2966023067235946\n",
      "Epoch [4/5] \t Training Loss: 2.2923789295852184 \t Validation Loss: 2.290067247271538\n",
      "Epoch [5/5] \t Training Loss: 2.283422205388546 \t Validation Loss: 2.2776669088602066\n"
     ]
    }
   ],
   "source": [
    "trainNetwork(networkLeakyRelu, optimizerSGD, lossFunction, epochs, writer)"
   ]
  },
  {
   "cell_type": "code",
   "execution_count": 78,
   "metadata": {},
   "outputs": [
    {
     "name": "stdout",
     "output_type": "stream",
     "text": [
      "Accuracy: 12.76%\n"
     ]
    }
   ],
   "source": [
    "testNetwork(networkLeakyRelu)"
   ]
  },
  {
   "cell_type": "code",
   "execution_count": 79,
   "metadata": {},
   "outputs": [
    {
     "name": "stdout",
     "output_type": "stream",
     "text": [
      "Epoch [1/5] \t Training Loss: 1.7643170207962393 \t Validation Loss: 1.6029024189412593\n",
      "Epoch [2/5] \t Training Loss: 1.5290641580224038 \t Validation Loss: 1.477316842868924\n",
      "Epoch [3/5] \t Training Loss: 1.4442732796836644 \t Validation Loss: 1.4128119117319584\n",
      "Epoch [4/5] \t Training Loss: 1.3786085936129093 \t Validation Loss: 1.3682587967962028\n",
      "Epoch [5/5] \t Training Loss: 1.3235935923717916 \t Validation Loss: 1.3264432729482651\n"
     ]
    }
   ],
   "source": [
    "optimizerAdam = torch.optim.Adam(networkLeakyRelu.parameters(), lr=learningRate)\n",
    "trainNetwork(networkLeakyRelu, optimizerAdam, lossFunction, epochs, writer)"
   ]
  },
  {
   "cell_type": "code",
   "execution_count": 80,
   "metadata": {},
   "outputs": [
    {
     "name": "stdout",
     "output_type": "stream",
     "text": [
      "Accuracy: 52.91%\n"
     ]
    }
   ],
   "source": [
    "testNetwork(networkLeakyRelu)"
   ]
  },
  {
   "cell_type": "code",
   "execution_count": 81,
   "metadata": {},
   "outputs": [
    {
     "name": "stdout",
     "output_type": "stream",
     "text": [
      "Epoch [1/5] \t Training Loss: 2.300424740731716 \t Validation Loss: 2.2999627722501756\n",
      "Epoch [2/5] \t Training Loss: 2.300424740612507 \t Validation Loss: 2.2999627767801285\n",
      "Epoch [3/5] \t Training Loss: 2.30042474219203 \t Validation Loss: 2.299962767004967\n",
      "Epoch [4/5] \t Training Loss: 2.300424739181995 \t Validation Loss: 2.2999627704620362\n",
      "Epoch [5/5] \t Training Loss: 2.300424743592739 \t Validation Loss: 2.2999627724885943\n"
     ]
    }
   ],
   "source": [
    "networkTanh = ConvNet(torch.tanh)\n",
    "trainNetwork(networkTanh, optimizerAdam, lossFunction, epochs, writer)"
   ]
  },
  {
   "cell_type": "code",
   "execution_count": 82,
   "metadata": {},
   "outputs": [
    {
     "name": "stdout",
     "output_type": "stream",
     "text": [
      "Accuracy: 11.13%\n"
     ]
    }
   ],
   "source": [
    "testNetwork(networkTanh)"
   ]
  }
 ],
 "metadata": {
  "kernelspec": {
   "display_name": "Python 3",
   "language": "python",
   "name": "python3"
  },
  "language_info": {
   "codemirror_mode": {
    "name": "ipython",
    "version": 3
   },
   "file_extension": ".py",
   "mimetype": "text/x-python",
   "name": "python",
   "nbconvert_exporter": "python",
   "pygments_lexer": "ipython3",
   "version": "3.8.10"
  },
  "orig_nbformat": 4
 },
 "nbformat": 4,
 "nbformat_minor": 2
}
