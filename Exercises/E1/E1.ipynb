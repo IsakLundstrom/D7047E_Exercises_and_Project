{
 "cells": [
  {
   "cell_type": "code",
   "execution_count": 17,
   "metadata": {},
   "outputs": [],
   "source": [
    "import torch\n",
    "import torchvision\n",
    "import torchvision.transforms as transforms\n",
    "import torch.nn as nn\n",
    "import torch.nn.functional as F\n",
    "\n",
    "import numpy as np"
   ]
  },
  {
   "cell_type": "code",
   "execution_count": 18,
   "metadata": {},
   "outputs": [
    {
     "name": "stdout",
     "output_type": "stream",
     "text": [
      "Files already downloaded and verified\n",
      "Files already downloaded and verified\n"
     ]
    }
   ],
   "source": [
    "# Load and normalizde the data\n",
    "\n",
    "transform = transforms.Compose(\n",
    "    [transforms.ToTensor(),\n",
    "     transforms.Normalize((0.5, 0.5, 0.5), (0.5, 0.5, 0.5))])\n",
    "\n",
    "batchSize = 5\n",
    "validSize = 0.2 # use 20% of train set as validation\n",
    "\n",
    "trainValidSet = torchvision.datasets.CIFAR10(root='./data', train=True, download=True, transform=transform)\n",
    "testSet = torchvision.datasets.CIFAR10(root='./data', train=False, download=True, transform=transform)\n",
    "\n",
    "trainSet, validSet = torch.utils.data.random_split(trainValidSet, [int(len(trainValidSet)*(1-validSize)), int(len(trainValidSet)*validSize)])\n",
    "\n",
    "trainLoader = torch.utils.data.DataLoader(trainSet, batch_size=batchSize, shuffle=True)\n",
    "validLoader = torch.utils.data.DataLoader(validSet, batch_size=batchSize, shuffle=True)\n",
    "testLoader = torch.utils.data.DataLoader(testSet, batch_size=batchSize, shuffle=False)\n",
    "\n",
    "classes = ('plane', 'car', 'bird', 'cat', 'deer', 'dog', 'frog', 'horse', 'ship', 'truck')"
   ]
  },
  {
   "cell_type": "code",
   "execution_count": 19,
   "metadata": {},
   "outputs": [],
   "source": [
    "# Writer for tensorBoard\n",
    "from torch.utils.tensorboard import SummaryWriter\n",
    "writer = SummaryWriter()"
   ]
  },
  {
   "cell_type": "code",
   "execution_count": 20,
   "metadata": {},
   "outputs": [
    {
     "data": {
      "text/plain": [
       "(40000, 10000, 10000, torch.Size([3, 32, 32]))"
      ]
     },
     "execution_count": 20,
     "metadata": {},
     "output_type": "execute_result"
    }
   ],
   "source": [
    "len(trainLoader)*batchSize, len(validLoader)*batchSize, len(testLoader)*batchSize, next(iter(testLoader))[0][0].shape"
   ]
  },
  {
   "cell_type": "code",
   "execution_count": 21,
   "metadata": {},
   "outputs": [],
   "source": [
    "# Define the network class\n",
    "\n",
    "class ConvNet(nn.Module):\n",
    "    def __init__(self, activation):\n",
    "        super().__init__()\n",
    "        self.conv1 = nn.Conv2d(3, 6, 5)\n",
    "        self.pool = nn.MaxPool2d(2, 2)\n",
    "        self.conv2 = nn.Conv2d(6, 16, 5)\n",
    "        self.fc1 = nn.Linear(16 * 5 * 5, 100)\n",
    "        self.fc2 = nn.Linear(100, 10)\n",
    "        self.activation = activation\n",
    "\n",
    "    def forward(self, x):\n",
    "        x = self.pool(self.activation(self.conv1(x)))\n",
    "        x = self.pool(self.activation(self.conv2(x)))\n",
    "        x = torch.flatten(x, 1) # flatten all dimensions except batch\n",
    "        x = self.activation(self.fc1(x))\n",
    "        x = self.fc2(x)\n",
    "        return x\n"
   ]
  },
  {
   "cell_type": "code",
   "execution_count": 22,
   "metadata": {},
   "outputs": [],
   "source": [
    "def trainNetwork(network, optimizer, lossFunction, epochs, writer):\n",
    "    network.train()\n",
    "    for epoch in range(epochs):\n",
    "        \n",
    "        ### TRAINING ###\n",
    "        trainLoss = 0\n",
    "        correctTrain = 0\n",
    "        totalTrain = 0\n",
    "        for batch_nr, (images, labels) in enumerate(trainLoader):\n",
    "\n",
    "            # Predict\n",
    "            predictions = network(images)\n",
    "\n",
    "            # Get loss and backpropogate\n",
    "            loss = lossFunction(predictions, labels)\n",
    "            loss.backward() \n",
    "\n",
    "            # Optimize parameters (weights and biases) and remove gradients after\n",
    "            optimizer.step() \n",
    "            optimizer.zero_grad()\n",
    "\n",
    "            # Save loss for whole epoch\n",
    "            trainLoss += loss.item()\n",
    "            \n",
    "            # Calculate training accuracy\n",
    "            _, predictions = torch.max(predictions, 1) \n",
    "            correctTrain += (predictions == labels).sum().item() \n",
    "            totalTrain += len(images)\n",
    "        \n",
    "\n",
    "        trainLoss /= len(trainLoader)\n",
    "        trainAccuracy = 100 * correctTrain / totalTrain\n",
    "        writer.add_scalar(f\"Loss/train - {network.activation.__name__}/{type(optimizer).__name__}\", trainLoss, epoch)\n",
    "        writer.add_scalar(f\"Accuracy/train - {network.activation.__name__}/{type(optimizer).__name__}\", trainAccuracy, epoch)\n",
    "\n",
    "        ### VALIDATION ###\n",
    "        validLoss = 0\n",
    "        correctValid = 0\n",
    "        totalValid = 0\n",
    "        for batch_nr, (images, labels) in enumerate(validLoader):\n",
    "\n",
    "            # Predict\n",
    "            predictions = network(images)\n",
    "\n",
    "            # Get loss\n",
    "            loss = lossFunction(predictions, labels)\n",
    "\n",
    "            # Save loss for whole epoch\n",
    "            validLoss += loss.item()\n",
    "\n",
    "            # Calculate vaildation accuracy\n",
    "            _, predictions = torch.max(predictions, 1) \n",
    "            correctValid += (predictions == labels).sum().item() \n",
    "            totalValid += len(images)\n",
    "\n",
    "        validLoss /= len(validLoader)\n",
    "        validAccuracy = 100 * correctValid / totalValid\n",
    "        writer.add_scalar(f\"Loss/valid - {network.activation.__name__}/{type(optimizer).__name__}\", validLoss, epoch)\n",
    "        writer.add_scalar(f\"Accuracy/valid - {network.activation.__name__}/{type(optimizer).__name__}\", validAccuracy, epoch)\n",
    "\n",
    "        # Print reuslt of epoch\n",
    "        print(f'Epoch [{epoch+1}/{epochs}] \\t Training Loss: {trainLoss} \\t Validation Loss: {validLoss} \\t Traning Acc: {trainAccuracy}% \\t Validation Acc: {validAccuracy}%')\n",
    "\n",
    "    writer.flush()"
   ]
  },
  {
   "cell_type": "code",
   "execution_count": 23,
   "metadata": {},
   "outputs": [],
   "source": [
    "def testNetwork(network):\n",
    "    network.eval()\n",
    "    correctTest = 0\n",
    "    totalTest = 0\n",
    "\n",
    "    ### TESTING ###\n",
    "    with torch.no_grad(): \n",
    "        for batch_nr, (images, labels) in enumerate(testLoader):\n",
    "            # Get predictions and get the amount of correct predicitons\n",
    "            predictions = network(images)\n",
    "            _, predictions = torch.max(predictions, 1) \n",
    "            correctTest += (predictions == labels).sum().item() \n",
    "            totalTest += len(images)\n",
    "        \n",
    "    print(f\"Test Accuracy: {100 * correctTest / totalTest}%\")"
   ]
  },
  {
   "cell_type": "code",
   "execution_count": 24,
   "metadata": {},
   "outputs": [],
   "source": [
    "learningRate = 0.0001\n",
    "epochs = 10"
   ]
  },
  {
   "cell_type": "code",
   "execution_count": 25,
   "metadata": {},
   "outputs": [],
   "source": [
    "networkLeakyRelu = ConvNet(F.leaky_relu)\n",
    "\n",
    "optimizerSGD = torch.optim.SGD(networkLeakyRelu.parameters(), lr=learningRate)\n",
    "lossFunction = nn.CrossEntropyLoss()"
   ]
  },
  {
   "cell_type": "code",
   "execution_count": 26,
   "metadata": {},
   "outputs": [
    {
     "name": "stdout",
     "output_type": "stream",
     "text": [
      "Epoch [1/10] \t Training Loss: 2.301979294896126 \t Validation Loss: 2.3011810780763624 \t Traning Acc: 10.31% \t Validation Acc: 10.79%\n",
      "Epoch [2/10] \t Training Loss: 2.299531454116106 \t Validation Loss: 2.298276985883713 \t Traning Acc: 11.295% \t Validation Acc: 12.03%\n",
      "Epoch [3/10] \t Training Loss: 2.2955668054521086 \t Validation Loss: 2.2932186316251757 \t Traning Acc: 12.515% \t Validation Acc: 13.27%\n",
      "Epoch [4/10] \t Training Loss: 2.2880773162841797 \t Validation Loss: 2.2828538990020752 \t Traning Acc: 14.2825% \t Validation Acc: 15.83%\n",
      "Epoch [5/10] \t Training Loss: 2.2716469617784023 \t Validation Loss: 2.259039041399956 \t Traning Acc: 16.6175% \t Validation Acc: 18.16%\n",
      "Epoch [6/10] \t Training Loss: 2.2349335293620824 \t Validation Loss: 2.208185036122799 \t Traning Acc: 20.0% \t Validation Acc: 21.75%\n",
      "Epoch [7/10] \t Training Loss: 2.169193065032363 \t Validation Loss: 2.1368503108024597 \t Traning Acc: 22.7375% \t Validation Acc: 24.2%\n",
      "Epoch [8/10] \t Training Loss: 2.1060376297086476 \t Validation Loss: 2.0873276792764663 \t Traning Acc: 25.05% \t Validation Acc: 25.81%\n",
      "Epoch [9/10] \t Training Loss: 2.065285833090544 \t Validation Loss: 2.0526710929870604 \t Traning Acc: 26.4325% \t Validation Acc: 27.06%\n",
      "Epoch [10/10] \t Training Loss: 2.034119308784604 \t Validation Loss: 2.025169484078884 \t Traning Acc: 27.4825% \t Validation Acc: 27.93%\n"
     ]
    }
   ],
   "source": [
    "trainNetwork(networkLeakyRelu, optimizerSGD, lossFunction, epochs, writer)"
   ]
  },
  {
   "cell_type": "code",
   "execution_count": 27,
   "metadata": {},
   "outputs": [
    {
     "name": "stdout",
     "output_type": "stream",
     "text": [
      "Test Accuracy: 28.26%\n"
     ]
    }
   ],
   "source": [
    "testNetwork(networkLeakyRelu)"
   ]
  },
  {
   "cell_type": "code",
   "execution_count": 28,
   "metadata": {},
   "outputs": [
    {
     "name": "stdout",
     "output_type": "stream",
     "text": [
      "Epoch [1/10] \t Training Loss: 1.7730630318447949 \t Validation Loss: 1.626636968910694 \t Traning Acc: 35.9025% \t Validation Acc: 41.31%\n",
      "Epoch [2/10] \t Training Loss: 1.542037549626082 \t Validation Loss: 1.5069540883004666 \t Traning Acc: 44.045% \t Validation Acc: 46.02%\n",
      "Epoch [3/10] \t Training Loss: 1.4399068030230702 \t Validation Loss: 1.4201623430326582 \t Traning Acc: 48.4375% \t Validation Acc: 50.13%\n",
      "Epoch [4/10] \t Training Loss: 1.3681173711270094 \t Validation Loss: 1.370998761795461 \t Traning Acc: 51.5125% \t Validation Acc: 51.53%\n",
      "Epoch [5/10] \t Training Loss: 1.310241325924173 \t Validation Loss: 1.3397283364832402 \t Traning Acc: 53.2825% \t Validation Acc: 52.88%\n",
      "Epoch [6/10] \t Training Loss: 1.262663916900754 \t Validation Loss: 1.2926815413087607 \t Traning Acc: 55.06% \t Validation Acc: 54.77%\n",
      "Epoch [7/10] \t Training Loss: 1.2227582611609251 \t Validation Loss: 1.262059724971652 \t Traning Acc: 56.59% \t Validation Acc: 55.4%\n",
      "Epoch [8/10] \t Training Loss: 1.1860978130698203 \t Validation Loss: 1.2335142828524113 \t Traning Acc: 58.0425% \t Validation Acc: 56.42%\n",
      "Epoch [9/10] \t Training Loss: 1.1556963011678307 \t Validation Loss: 1.2071402116715908 \t Traning Acc: 59.275% \t Validation Acc: 57.54%\n",
      "Epoch [10/10] \t Training Loss: 1.1257171644400805 \t Validation Loss: 1.1866220518685877 \t Traning Acc: 60.11% \t Validation Acc: 58.22%\n"
     ]
    }
   ],
   "source": [
    "networkLeakyRelu2 = ConvNet(F.leaky_relu)\n",
    "\n",
    "optimizerAdam = torch.optim.Adam(networkLeakyRelu2.parameters(), lr=learningRate)\n",
    "trainNetwork(networkLeakyRelu2, optimizerAdam, lossFunction, epochs, writer)"
   ]
  },
  {
   "cell_type": "code",
   "execution_count": 29,
   "metadata": {},
   "outputs": [
    {
     "name": "stdout",
     "output_type": "stream",
     "text": [
      "Test Accuracy: 58.79%\n"
     ]
    }
   ],
   "source": [
    "testNetwork(networkLeakyRelu2)"
   ]
  },
  {
   "cell_type": "code",
   "execution_count": 30,
   "metadata": {},
   "outputs": [
    {
     "name": "stdout",
     "output_type": "stream",
     "text": [
      "Epoch [1/10] \t Training Loss: 2.30577752161026 \t Validation Loss: 2.304220145821571 \t Traning Acc: 8.5625% \t Validation Acc: 9.03%\n",
      "Epoch [2/10] \t Training Loss: 2.3057775217592718 \t Validation Loss: 2.304220148563385 \t Traning Acc: 8.5625% \t Validation Acc: 9.03%\n",
      "Epoch [3/10] \t Training Loss: 2.3057775202393533 \t Validation Loss: 2.3042201437950136 \t Traning Acc: 8.5625% \t Validation Acc: 9.03%\n",
      "Epoch [4/10] \t Training Loss: 2.3057775230407715 \t Validation Loss: 2.3042201424837114 \t Traning Acc: 8.5625% \t Validation Acc: 9.03%\n",
      "Epoch [5/10] \t Training Loss: 2.3057775205671787 \t Validation Loss: 2.304220145702362 \t Traning Acc: 8.5625% \t Validation Acc: 9.03%\n",
      "Epoch [6/10] \t Training Loss: 2.305777522474527 \t Validation Loss: 2.304220144867897 \t Traning Acc: 8.5625% \t Validation Acc: 9.03%\n",
      "Epoch [7/10] \t Training Loss: 2.305777522474527 \t Validation Loss: 2.3042201455831526 \t Traning Acc: 8.5625% \t Validation Acc: 9.03%\n",
      "Epoch [8/10] \t Training Loss: 2.3057775197029113 \t Validation Loss: 2.3042201470136643 \t Traning Acc: 8.5625% \t Validation Acc: 9.03%\n",
      "Epoch [9/10] \t Training Loss: 2.3057775244414804 \t Validation Loss: 2.3042201426029205 \t Traning Acc: 8.5625% \t Validation Acc: 9.03%\n",
      "Epoch [10/10] \t Training Loss: 2.3057775197923185 \t Validation Loss: 2.304220143675804 \t Traning Acc: 8.5625% \t Validation Acc: 9.03%\n"
     ]
    }
   ],
   "source": [
    "networkTanh = ConvNet(torch.tanh)\n",
    "trainNetwork(networkTanh, optimizerAdam, lossFunction, epochs, writer)"
   ]
  },
  {
   "cell_type": "code",
   "execution_count": 31,
   "metadata": {},
   "outputs": [
    {
     "name": "stdout",
     "output_type": "stream",
     "text": [
      "Test Accuracy: 8.19%\n"
     ]
    }
   ],
   "source": [
    "testNetwork(networkTanh)"
   ]
  }
 ],
 "metadata": {
  "kernelspec": {
   "display_name": "Python 3",
   "language": "python",
   "name": "python3"
  },
  "language_info": {
   "codemirror_mode": {
    "name": "ipython",
    "version": 3
   },
   "file_extension": ".py",
   "mimetype": "text/x-python",
   "name": "python",
   "nbconvert_exporter": "python",
   "pygments_lexer": "ipython3",
   "version": "3.10.9"
  },
  "orig_nbformat": 4
 },
 "nbformat": 4,
 "nbformat_minor": 2
}
